{
  "metadata": {
    "kernelspec": {
      "display_name": "Python 3",
      "name": "python3"
    },
    "language_info": {
      "name": "python",
      "version": "3.7.10",
      "mimetype": "text/x-python",
      "codemirror_mode": {
        "name": "ipython",
        "version": 3
      },
      "pygments_lexer": "ipython3",
      "nbconvert_exporter": "python",
      "file_extension": ".py"
    },
    "colab": {
      "provenance": [],
      "gpuType": "T4"
    },
    "accelerator": "GPU"
  },
  "nbformat_minor": 0,
  "nbformat": 4,
  "cells": [
    {
      "cell_type": "markdown",
      "source": [
        "# <center> Text Generation - Next Word Prediction"
      ],
      "metadata": {
        "id": "AellxwK-Jrv1"
      }
    },
    {
      "cell_type": "markdown",
      "source": [
        "## 1. Functions for Processing Text\n",
        "\n",
        "### a. Reading in files as a string text"
      ],
      "metadata": {
        "id": "MfDqX9F1Jrv-"
      }
    },
    {
      "cell_type": "code",
      "source": [
        "def read_file(filepath):\n",
        "\n",
        "    with open(filepath) as f:\n",
        "        str_text = f.read()\n",
        "\n",
        "    return str_text"
      ],
      "metadata": {
        "execution": {
          "iopub.status.busy": "2021-11-20T16:41:39.386375Z",
          "iopub.execute_input": "2021-11-20T16:41:39.386635Z",
          "iopub.status.idle": "2021-11-20T16:41:39.390698Z",
          "shell.execute_reply.started": "2021-11-20T16:41:39.386605Z",
          "shell.execute_reply": "2021-11-20T16:41:39.390021Z"
        },
        "trusted": true,
        "id": "XMQ_yxrVJrv_"
      },
      "execution_count": 1,
      "outputs": []
    },
    {
      "cell_type": "code",
      "source": [
        "len(\"rahul\")"
      ],
      "metadata": {
        "execution": {
          "iopub.status.busy": "2021-11-20T16:07:34.657458Z",
          "iopub.execute_input": "2021-11-20T16:07:34.657778Z",
          "iopub.status.idle": "2021-11-20T16:07:34.669511Z",
          "shell.execute_reply.started": "2021-11-20T16:07:34.657735Z",
          "shell.execute_reply": "2021-11-20T16:07:34.668844Z"
        },
        "trusted": true,
        "colab": {
          "base_uri": "https://localhost:8080/"
        },
        "id": "21lg3-4oJrwA",
        "outputId": "400ff13f-a707-44be-9b58-44aac34a5773"
      },
      "execution_count": 2,
      "outputs": [
        {
          "output_type": "execute_result",
          "data": {
            "text/plain": [
              "5"
            ]
          },
          "metadata": {},
          "execution_count": 2
        }
      ]
    },
    {
      "cell_type": "code",
      "source": [
        "len(read_file('/content/Novel - Moby-Dick By Herman Melville.txt'))"
      ],
      "metadata": {
        "execution": {
          "iopub.status.busy": "2021-11-20T16:07:34.671943Z",
          "iopub.execute_input": "2021-11-20T16:07:34.672662Z",
          "iopub.status.idle": "2021-11-20T16:07:34.685321Z",
          "shell.execute_reply.started": "2021-11-20T16:07:34.672624Z",
          "shell.execute_reply": "2021-11-20T16:07:34.684603Z"
        },
        "trusted": true,
        "colab": {
          "base_uri": "https://localhost:8080/"
        },
        "id": "aQ0aUYYyJrwB",
        "outputId": "238abb80-b1ac-45e6-c4d0-44b4b44d9ac0"
      },
      "execution_count": 3,
      "outputs": [
        {
          "output_type": "execute_result",
          "data": {
            "text/plain": [
              "1198622"
            ]
          },
          "metadata": {},
          "execution_count": 3
        }
      ]
    },
    {
      "cell_type": "code",
      "source": [
        "print(read_file('/content/Novel - Moby-Dick By Herman Melville.txt')[:5000])"
      ],
      "metadata": {
        "execution": {
          "iopub.status.busy": "2021-11-20T16:07:34.688291Z",
          "iopub.execute_input": "2021-11-20T16:07:34.688843Z",
          "iopub.status.idle": "2021-11-20T16:07:34.699651Z",
          "shell.execute_reply.started": "2021-11-20T16:07:34.688789Z",
          "shell.execute_reply": "2021-11-20T16:07:34.699007Z"
        },
        "trusted": true,
        "colab": {
          "base_uri": "https://localhost:8080/"
        },
        "id": "DcIu5m1WJrwB",
        "outputId": "a360b439-a8bf-482a-9858-305391da4a04"
      },
      "execution_count": 4,
      "outputs": [
        {
          "output_type": "stream",
          "name": "stdout",
          "text": [
            "CHAPTER 1\n",
            "\n",
            "Loomings.\n",
            "\n",
            "\n",
            "Call me Ishmael.  Some years ago--never mind how long\n",
            "precisely--having little or no money in my purse, and nothing\n",
            "particular to interest me on shore, I thought I would sail about a\n",
            "little and see the watery part of the world.  It is a way I have of\n",
            "driving off the spleen and regulating the circulation.  Whenever I\n",
            "find myself growing grim about the mouth; whenever it is a damp,\n",
            "drizzly November in my soul; whenever I find myself involuntarily\n",
            "pausing before coffin warehouses, and bringing up the rear of every\n",
            "funeral I meet; and especially whenever my hypos get such an upper\n",
            "hand of me, that it requires a strong moral principle to prevent me\n",
            "from deliberately stepping into the street, and methodically knocking\n",
            "people's hats off--then, I account it high time to get to sea as soon\n",
            "as I can.  This is my substitute for pistol and ball.  With a\n",
            "philosophical flourish Cato throws himself upon his sword; I quietly\n",
            "take to the ship.  There is nothing surprising in this.  If they but\n",
            "knew it, almost all men in their degree, some time or other, cherish\n",
            "very nearly the same feelings towards the ocean with me.\n",
            "\n",
            "There now is your insular city of the Manhattoes, belted round by\n",
            "wharves as Indian isles by coral reefs--commerce surrounds it with\n",
            "her surf.  Right and left, the streets take you waterward.  Its\n",
            "extreme downtown is the battery, where that noble mole is washed by\n",
            "waves, and cooled by breezes, which a few hours previous were out of\n",
            "sight of land.  Look at the crowds of water-gazers there.\n",
            "\n",
            "Circumambulate the city of a dreamy Sabbath afternoon.  Go from\n",
            "Corlears Hook to Coenties Slip, and from thence, by Whitehall,\n",
            "northward.  What do you see?--Posted like silent sentinels all around\n",
            "the town, stand thousands upon thousands of mortal men fixed in ocean\n",
            "reveries.  Some leaning against the spiles; some seated upon the\n",
            "pier-heads; some looking over the bulwarks of ships from China; some\n",
            "high aloft in the rigging, as if striving to get a still better\n",
            "seaward peep.  But these are all landsmen; of week days pent up in\n",
            "lath and plaster--tied to counters, nailed to benches, clinched to\n",
            "desks.  How then is this?  Are the green fields gone?  What do they\n",
            "here?\n",
            "\n",
            "But look! here come more crowds, pacing straight for the water, and\n",
            "seemingly bound for a dive.  Strange!  Nothing will content them but\n",
            "the extremest limit of the land; loitering under the shady lee of\n",
            "yonder warehouses will not suffice.  No.  They must get just as nigh\n",
            "the water as they possibly can without falling in.  And there they\n",
            "stand--miles of them--leagues.  Inlanders all, they come from lanes\n",
            "and alleys, streets and avenues--north, east, south, and west.  Yet\n",
            "here they all unite.  Tell me, does the magnetic virtue of the\n",
            "needles of the compasses of all those ships attract them thither?\n",
            "\n",
            "Once more.  Say you are in the country; in some high land of lakes.\n",
            "Take almost any path you please, and ten to one it carries you down\n",
            "in a dale, and leaves you there by a pool in the stream.  There is\n",
            "magic in it.  Let the most absent-minded of men be plunged in his\n",
            "deepest reveries--stand that man on his legs, set his feet a-going,\n",
            "and he will infallibly lead you to water, if water there be in all\n",
            "that region.  Should you ever be athirst in the great American\n",
            "desert, try this experiment, if your caravan happen to be supplied\n",
            "with a metaphysical professor.  Yes, as every one knows, meditation\n",
            "and water are wedded for ever.\n",
            "\n",
            "But here is an artist.  He desires to paint you the dreamiest,\n",
            "shadiest, quietest, most enchanting bit of romantic landscape in all\n",
            "the valley of the Saco.  What is the chief element he employs?  There\n",
            "stand his trees, each with a hollow trunk, as if a hermit and a\n",
            "crucifix were within; and here sleeps his meadow, and there sleep his\n",
            "cattle; and up from yonder cottage goes a sleepy smoke.  Deep into\n",
            "distant woodlands winds a mazy way, reaching to overlapping spurs of\n",
            "mountains bathed in their hill-side blue.  But though the picture\n",
            "lies thus tranced, and though this pine-tree shakes down its sighs\n",
            "like leaves upon this shepherd's head, yet all were vain, unless the\n",
            "shepherd's eye were fixed upon the magic stream before him.  Go visit\n",
            "the Prairies in June, when for scores on scores of miles you wade\n",
            "knee-deep among Tiger-lilies--what is the one charm\n",
            "wanting?--Water--there is not a drop of water there!  Were Niagara\n",
            "but a cataract of sand, would you travel your thousand miles to see\n",
            "it?  Why did the poor poet of Tennessee, upon suddenly receiving two\n",
            "handfuls of silver, deliberate whether to buy him a coat, which he\n",
            "sadly needed, or invest his money in a pedestrian trip to Rockaway\n",
            "Beach?  Why is almost every robust healthy boy with a robust healthy\n",
            "soul in him, at some time or other crazy to go to sea?  Why upon your\n",
            "first voyage as a passenger, did you yourself feel such a mystical\n",
            "vibration, when first told that you and your ship were now out of\n",
            "sight of land?  Why did the old Persians hold the sea holy?  Why did\n",
            "the Greeks \n"
          ]
        }
      ]
    },
    {
      "cell_type": "markdown",
      "source": [
        "### b. Tokenize and Clean Text"
      ],
      "metadata": {
        "id": "UJhrd7e1JrwC"
      }
    },
    {
      "cell_type": "code",
      "source": [
        "import spacy\n",
        "import en_core_web_sm\n",
        "\n",
        "nlp = en_core_web_sm.load()\n",
        "nlp.max_length = 1198623"
      ],
      "metadata": {
        "execution": {
          "iopub.status.busy": "2021-11-20T16:07:34.700879Z",
          "iopub.execute_input": "2021-11-20T16:07:34.701397Z",
          "iopub.status.idle": "2021-11-20T16:07:43.886089Z",
          "shell.execute_reply.started": "2021-11-20T16:07:34.701361Z",
          "shell.execute_reply": "2021-11-20T16:07:43.885292Z"
        },
        "trusted": true,
        "id": "DfTKT_IZJrwD"
      },
      "execution_count": 5,
      "outputs": []
    },
    {
      "cell_type": "code",
      "source": [
        "def read_file(filepath):\n",
        "\n",
        "    with open(filepath) as f:\n",
        "        str_text = f.read()\n",
        "\n",
        "    return str_text[:250000]"
      ],
      "metadata": {
        "execution": {
          "iopub.status.busy": "2021-11-20T16:07:43.887563Z",
          "iopub.execute_input": "2021-11-20T16:07:43.887857Z",
          "iopub.status.idle": "2021-11-20T16:07:43.892824Z",
          "shell.execute_reply.started": "2021-11-20T16:07:43.887821Z",
          "shell.execute_reply": "2021-11-20T16:07:43.891830Z"
        },
        "trusted": true,
        "id": "h7IokICHJrwD"
      },
      "execution_count": 6,
      "outputs": []
    },
    {
      "cell_type": "code",
      "source": [
        "def separate_punc(doc_text):\n",
        "    return [token.text.lower() for token in nlp(doc_text) if token.text not in '\\n\\n \\n\\n\\n!\"-#$%&()--.*+,-/:;<=>?@[\\\\]^_`{|}~\\t\\n ']"
      ],
      "metadata": {
        "execution": {
          "iopub.status.busy": "2021-11-20T16:07:43.894359Z",
          "iopub.execute_input": "2021-11-20T16:07:43.894978Z",
          "iopub.status.idle": "2021-11-20T16:07:43.902918Z",
          "shell.execute_reply.started": "2021-11-20T16:07:43.894866Z",
          "shell.execute_reply": "2021-11-20T16:07:43.902145Z"
        },
        "trusted": true,
        "id": "oh9v9mnFJrwE"
      },
      "execution_count": 7,
      "outputs": []
    },
    {
      "cell_type": "code",
      "source": [
        "d = read_file('/content/Novel - Moby-Dick By Herman Melville.txt')\n",
        "tokens = separate_punc(d)"
      ],
      "metadata": {
        "execution": {
          "iopub.status.busy": "2021-11-20T16:07:43.904147Z",
          "iopub.execute_input": "2021-11-20T16:07:43.904605Z",
          "iopub.status.idle": "2021-11-20T16:08:00.763489Z",
          "shell.execute_reply.started": "2021-11-20T16:07:43.904568Z",
          "shell.execute_reply": "2021-11-20T16:08:00.762700Z"
        },
        "trusted": true,
        "id": "k6T0SDWbJrwE"
      },
      "execution_count": 8,
      "outputs": []
    },
    {
      "cell_type": "code",
      "source": [
        "type(tokens)"
      ],
      "metadata": {
        "execution": {
          "iopub.status.busy": "2021-11-20T16:08:00.764991Z",
          "iopub.execute_input": "2021-11-20T16:08:00.765250Z",
          "iopub.status.idle": "2021-11-20T16:08:00.770547Z",
          "shell.execute_reply.started": "2021-11-20T16:08:00.765215Z",
          "shell.execute_reply": "2021-11-20T16:08:00.769841Z"
        },
        "trusted": true,
        "colab": {
          "base_uri": "https://localhost:8080/"
        },
        "id": "jSNNR26dJrwE",
        "outputId": "417437d4-b785-471c-8480-63180dcc5273"
      },
      "execution_count": 9,
      "outputs": [
        {
          "output_type": "execute_result",
          "data": {
            "text/plain": [
              "list"
            ]
          },
          "metadata": {},
          "execution_count": 9
        }
      ]
    },
    {
      "cell_type": "code",
      "source": [
        "len(tokens)"
      ],
      "metadata": {
        "execution": {
          "iopub.status.busy": "2021-11-20T16:08:00.771908Z",
          "iopub.execute_input": "2021-11-20T16:08:00.772450Z",
          "iopub.status.idle": "2021-11-20T16:08:00.782045Z",
          "shell.execute_reply.started": "2021-11-20T16:08:00.772414Z",
          "shell.execute_reply": "2021-11-20T16:08:00.781238Z"
        },
        "trusted": true,
        "colab": {
          "base_uri": "https://localhost:8080/"
        },
        "id": "udN8qwUqJrwF",
        "outputId": "2fe3966a-36fc-43ce-8e2c-430473e935d8"
      },
      "execution_count": 10,
      "outputs": [
        {
          "output_type": "execute_result",
          "data": {
            "text/plain": [
              "45279"
            ]
          },
          "metadata": {},
          "execution_count": 10
        }
      ]
    },
    {
      "cell_type": "code",
      "source": [
        "tokens[:10]"
      ],
      "metadata": {
        "execution": {
          "iopub.status.busy": "2021-11-20T16:08:00.783485Z",
          "iopub.execute_input": "2021-11-20T16:08:00.784033Z",
          "iopub.status.idle": "2021-11-20T16:08:00.792918Z",
          "shell.execute_reply.started": "2021-11-20T16:08:00.783995Z",
          "shell.execute_reply": "2021-11-20T16:08:00.792125Z"
        },
        "trusted": true,
        "colab": {
          "base_uri": "https://localhost:8080/"
        },
        "id": "PcXQcY0HJrwF",
        "outputId": "e8a5ac9c-0029-44db-b2cd-c519159d8254"
      },
      "execution_count": 11,
      "outputs": [
        {
          "output_type": "execute_result",
          "data": {
            "text/plain": [
              "['chapter',\n",
              " '1',\n",
              " 'loomings',\n",
              " 'call',\n",
              " 'me',\n",
              " 'ishmael',\n",
              " 'some',\n",
              " 'years',\n",
              " 'ago',\n",
              " 'never']"
            ]
          },
          "metadata": {},
          "execution_count": 11
        }
      ]
    },
    {
      "cell_type": "markdown",
      "source": [
        "### c. Create Sequences of Tokens"
      ],
      "metadata": {
        "id": "lb5DZuzVJrwG"
      }
    },
    {
      "cell_type": "code",
      "source": [
        "# organize into sequences of tokens\n",
        "train_len = 25+1 # 25 training words , then one target word\n",
        "\n",
        "# Empty list of sequences\n",
        "text_sequences = []\n",
        "\n",
        "for i in range(train_len, len(tokens)):\n",
        "\n",
        "    # Grab train_len# amount of characters\n",
        "    seq = tokens[i-train_len:i]\n",
        "\n",
        "    # Add to list of sequences\n",
        "    text_sequences.append(seq)"
      ],
      "metadata": {
        "execution": {
          "iopub.status.busy": "2021-11-20T16:08:00.794257Z",
          "iopub.execute_input": "2021-11-20T16:08:00.794515Z",
          "iopub.status.idle": "2021-11-20T16:08:00.836440Z",
          "shell.execute_reply.started": "2021-11-20T16:08:00.794481Z",
          "shell.execute_reply": "2021-11-20T16:08:00.835767Z"
        },
        "trusted": true,
        "id": "j1S1WrlXJrwG"
      },
      "execution_count": 12,
      "outputs": []
    },
    {
      "cell_type": "code",
      "source": [
        "print(read_file('/content/Novel - Moby-Dick By Herman Melville.txt')[:1000])"
      ],
      "metadata": {
        "execution": {
          "iopub.status.busy": "2021-11-20T16:08:00.840070Z",
          "iopub.execute_input": "2021-11-20T16:08:00.840276Z",
          "iopub.status.idle": "2021-11-20T16:08:00.849189Z",
          "shell.execute_reply.started": "2021-11-20T16:08:00.840252Z",
          "shell.execute_reply": "2021-11-20T16:08:00.848091Z"
        },
        "trusted": true,
        "colab": {
          "base_uri": "https://localhost:8080/"
        },
        "id": "chHPcAyzJrwG",
        "outputId": "5be0e02f-321e-439e-ff75-ab5e181eb9f1"
      },
      "execution_count": 13,
      "outputs": [
        {
          "output_type": "stream",
          "name": "stdout",
          "text": [
            "CHAPTER 1\n",
            "\n",
            "Loomings.\n",
            "\n",
            "\n",
            "Call me Ishmael.  Some years ago--never mind how long\n",
            "precisely--having little or no money in my purse, and nothing\n",
            "particular to interest me on shore, I thought I would sail about a\n",
            "little and see the watery part of the world.  It is a way I have of\n",
            "driving off the spleen and regulating the circulation.  Whenever I\n",
            "find myself growing grim about the mouth; whenever it is a damp,\n",
            "drizzly November in my soul; whenever I find myself involuntarily\n",
            "pausing before coffin warehouses, and bringing up the rear of every\n",
            "funeral I meet; and especially whenever my hypos get such an upper\n",
            "hand of me, that it requires a strong moral principle to prevent me\n",
            "from deliberately stepping into the street, and methodically knocking\n",
            "people's hats off--then, I account it high time to get to sea as soon\n",
            "as I can.  This is my substitute for pistol and ball.  With a\n",
            "philosophical flourish Cato throws himself upon his sword; I quietly\n",
            "take to the ship.  There is nothing surprising in this\n"
          ]
        }
      ]
    },
    {
      "cell_type": "code",
      "source": [
        "' '.join(text_sequences[0])"
      ],
      "metadata": {
        "execution": {
          "iopub.status.busy": "2021-11-20T16:08:00.851237Z",
          "iopub.execute_input": "2021-11-20T16:08:00.851932Z",
          "iopub.status.idle": "2021-11-20T16:08:00.857848Z",
          "shell.execute_reply.started": "2021-11-20T16:08:00.851893Z",
          "shell.execute_reply": "2021-11-20T16:08:00.857090Z"
        },
        "trusted": true,
        "colab": {
          "base_uri": "https://localhost:8080/",
          "height": 36
        },
        "id": "tKegK6rYJrwH",
        "outputId": "9d9afdee-6784-4589-b4aa-add58f3bcdd1"
      },
      "execution_count": 14,
      "outputs": [
        {
          "output_type": "execute_result",
          "data": {
            "text/plain": [
              "'chapter 1 loomings call me ishmael some years ago never mind how long precisely having little or no money in my purse and nothing particular to'"
            ],
            "application/vnd.google.colaboratory.intrinsic+json": {
              "type": "string"
            }
          },
          "metadata": {},
          "execution_count": 14
        }
      ]
    },
    {
      "cell_type": "code",
      "source": [
        "' '.join(text_sequences[1])"
      ],
      "metadata": {
        "execution": {
          "iopub.status.busy": "2021-11-20T16:08:00.859092Z",
          "iopub.execute_input": "2021-11-20T16:08:00.859592Z",
          "iopub.status.idle": "2021-11-20T16:08:00.868691Z",
          "shell.execute_reply.started": "2021-11-20T16:08:00.859497Z",
          "shell.execute_reply": "2021-11-20T16:08:00.867974Z"
        },
        "trusted": true,
        "colab": {
          "base_uri": "https://localhost:8080/",
          "height": 36
        },
        "id": "Ff9m6J9DJrwH",
        "outputId": "b307e9e3-ff7b-48a1-f6a2-01484c52342b"
      },
      "execution_count": 15,
      "outputs": [
        {
          "output_type": "execute_result",
          "data": {
            "text/plain": [
              "'1 loomings call me ishmael some years ago never mind how long precisely having little or no money in my purse and nothing particular to interest'"
            ],
            "application/vnd.google.colaboratory.intrinsic+json": {
              "type": "string"
            }
          },
          "metadata": {},
          "execution_count": 15
        }
      ]
    },
    {
      "cell_type": "code",
      "source": [
        "' '.join(text_sequences[2])"
      ],
      "metadata": {
        "execution": {
          "iopub.status.busy": "2021-11-20T16:08:00.870338Z",
          "iopub.execute_input": "2021-11-20T16:08:00.871128Z",
          "iopub.status.idle": "2021-11-20T16:08:00.877273Z",
          "shell.execute_reply.started": "2021-11-20T16:08:00.871088Z",
          "shell.execute_reply": "2021-11-20T16:08:00.876372Z"
        },
        "trusted": true,
        "colab": {
          "base_uri": "https://localhost:8080/",
          "height": 36
        },
        "id": "tixbQsNIJrwH",
        "outputId": "45fcbbad-fce4-40dc-ac5c-29b33185b6ec"
      },
      "execution_count": 16,
      "outputs": [
        {
          "output_type": "execute_result",
          "data": {
            "text/plain": [
              "'loomings call me ishmael some years ago never mind how long precisely having little or no money in my purse and nothing particular to interest me'"
            ],
            "application/vnd.google.colaboratory.intrinsic+json": {
              "type": "string"
            }
          },
          "metadata": {},
          "execution_count": 16
        }
      ]
    },
    {
      "cell_type": "code",
      "source": [
        "len(text_sequences) #Every sentence is containing 26 words"
      ],
      "metadata": {
        "execution": {
          "iopub.status.busy": "2021-11-20T16:08:00.878650Z",
          "iopub.execute_input": "2021-11-20T16:08:00.878969Z",
          "iopub.status.idle": "2021-11-20T16:08:00.887016Z",
          "shell.execute_reply.started": "2021-11-20T16:08:00.878935Z",
          "shell.execute_reply": "2021-11-20T16:08:00.886164Z"
        },
        "trusted": true,
        "colab": {
          "base_uri": "https://localhost:8080/"
        },
        "id": "iLx08mq9JrwI",
        "outputId": "164354e9-594e-4fd1-b4f0-0b992335c7aa"
      },
      "execution_count": 17,
      "outputs": [
        {
          "output_type": "execute_result",
          "data": {
            "text/plain": [
              "45253"
            ]
          },
          "metadata": {},
          "execution_count": 17
        }
      ]
    },
    {
      "cell_type": "code",
      "source": [
        "len(tokens) # These are total number of words in the whole novel"
      ],
      "metadata": {
        "execution": {
          "iopub.status.busy": "2021-11-20T16:08:00.888909Z",
          "iopub.execute_input": "2021-11-20T16:08:00.890397Z",
          "iopub.status.idle": "2021-11-20T16:08:00.897160Z",
          "shell.execute_reply.started": "2021-11-20T16:08:00.890365Z",
          "shell.execute_reply": "2021-11-20T16:08:00.896355Z"
        },
        "trusted": true,
        "colab": {
          "base_uri": "https://localhost:8080/"
        },
        "id": "N0M8f8RtJrwI",
        "outputId": "65590773-60b5-4015-f0a1-c48ec42d6cb1"
      },
      "execution_count": 18,
      "outputs": [
        {
          "output_type": "execute_result",
          "data": {
            "text/plain": [
              "45279"
            ]
          },
          "metadata": {},
          "execution_count": 18
        }
      ]
    },
    {
      "cell_type": "code",
      "source": [
        "print(len(text_sequences[0]))\n",
        "print(text_sequences[0])"
      ],
      "metadata": {
        "execution": {
          "iopub.status.busy": "2021-11-20T16:08:00.898470Z",
          "iopub.execute_input": "2021-11-20T16:08:00.899021Z",
          "iopub.status.idle": "2021-11-20T16:08:00.905690Z",
          "shell.execute_reply.started": "2021-11-20T16:08:00.898971Z",
          "shell.execute_reply": "2021-11-20T16:08:00.904966Z"
        },
        "trusted": true,
        "colab": {
          "base_uri": "https://localhost:8080/"
        },
        "id": "mhiV1UTaJrwI",
        "outputId": "08829580-0e7d-4bda-b0ef-adc316c18ce7"
      },
      "execution_count": 19,
      "outputs": [
        {
          "output_type": "stream",
          "name": "stdout",
          "text": [
            "26\n",
            "['chapter', '1', 'loomings', 'call', 'me', 'ishmael', 'some', 'years', 'ago', 'never', 'mind', 'how', 'long', 'precisely', 'having', 'little', 'or', 'no', 'money', 'in', 'my', 'purse', 'and', 'nothing', 'particular', 'to']\n"
          ]
        }
      ]
    },
    {
      "cell_type": "markdown",
      "source": [
        "### d. Keras Tokenization"
      ],
      "metadata": {
        "id": "drqJyLuQJrwI"
      }
    },
    {
      "cell_type": "code",
      "source": [
        "from keras.preprocessing.text import Tokenizer"
      ],
      "metadata": {
        "execution": {
          "iopub.status.busy": "2021-11-20T16:08:00.906990Z",
          "iopub.execute_input": "2021-11-20T16:08:00.907403Z",
          "iopub.status.idle": "2021-11-20T16:08:01.446849Z",
          "shell.execute_reply.started": "2021-11-20T16:08:00.907367Z",
          "shell.execute_reply": "2021-11-20T16:08:01.446056Z"
        },
        "trusted": true,
        "id": "yDTFal9KJrwI"
      },
      "execution_count": 20,
      "outputs": []
    },
    {
      "cell_type": "code",
      "source": [
        "# integer encode sequences of words\n",
        "tokenizer = Tokenizer()\n",
        "tokenizer.fit_on_texts(text_sequences)\n",
        "sequences = tokenizer.texts_to_sequences(text_sequences)"
      ],
      "metadata": {
        "execution": {
          "iopub.status.busy": "2021-11-20T16:08:01.450107Z",
          "iopub.execute_input": "2021-11-20T16:08:01.450330Z",
          "iopub.status.idle": "2021-11-20T16:08:02.940457Z",
          "shell.execute_reply.started": "2021-11-20T16:08:01.450303Z",
          "shell.execute_reply": "2021-11-20T16:08:02.939664Z"
        },
        "trusted": true,
        "id": "TkncdzcmJrwI"
      },
      "execution_count": 21,
      "outputs": []
    },
    {
      "cell_type": "code",
      "source": [
        "print(len(sequences[0]))\n",
        "print(sequences[0])"
      ],
      "metadata": {
        "execution": {
          "iopub.status.busy": "2021-11-20T16:08:02.943968Z",
          "iopub.execute_input": "2021-11-20T16:08:02.944178Z",
          "iopub.status.idle": "2021-11-20T16:08:02.952077Z",
          "shell.execute_reply.started": "2021-11-20T16:08:02.944151Z",
          "shell.execute_reply": "2021-11-20T16:08:02.950352Z"
        },
        "trusted": true,
        "colab": {
          "base_uri": "https://localhost:8080/"
        },
        "id": "3ZkVZ3gqJrwJ",
        "outputId": "b71e1d19-570b-432d-c10b-2ff6a0bcb9ef"
      },
      "execution_count": 22,
      "outputs": [
        {
          "output_type": "stream",
          "name": "stdout",
          "text": [
            "26\n",
            "[187, 7000, 6999, 516, 24, 432, 65, 232, 640, 100, 223, 99, 93, 1331, 277, 68, 48, 36, 639, 6, 31, 1028, 2, 150, 431, 5]\n"
          ]
        }
      ]
    },
    {
      "cell_type": "code",
      "source": [
        "type(tokenizer.index_word)"
      ],
      "metadata": {
        "execution": {
          "iopub.status.busy": "2021-11-20T16:08:02.953524Z",
          "iopub.execute_input": "2021-11-20T16:08:02.953809Z",
          "iopub.status.idle": "2021-11-20T16:08:02.961145Z",
          "shell.execute_reply.started": "2021-11-20T16:08:02.953755Z",
          "shell.execute_reply": "2021-11-20T16:08:02.960061Z"
        },
        "trusted": true,
        "colab": {
          "base_uri": "https://localhost:8080/"
        },
        "id": "v6g3JS9tJrwJ",
        "outputId": "f0ad6e6c-24ca-41e3-b55e-a35950b41be2"
      },
      "execution_count": 23,
      "outputs": [
        {
          "output_type": "execute_result",
          "data": {
            "text/plain": [
              "dict"
            ]
          },
          "metadata": {},
          "execution_count": 23
        }
      ]
    },
    {
      "cell_type": "code",
      "source": [
        "' '.join(text_sequences[0])"
      ],
      "metadata": {
        "execution": {
          "iopub.status.busy": "2021-11-20T16:08:02.962453Z",
          "iopub.execute_input": "2021-11-20T16:08:02.962827Z",
          "iopub.status.idle": "2021-11-20T16:08:02.972323Z",
          "shell.execute_reply.started": "2021-11-20T16:08:02.962773Z",
          "shell.execute_reply": "2021-11-20T16:08:02.971548Z"
        },
        "trusted": true,
        "colab": {
          "base_uri": "https://localhost:8080/",
          "height": 36
        },
        "id": "l9WK7twaJrwJ",
        "outputId": "6d63fd8b-ca84-46bf-b7ad-af17e4414e8a"
      },
      "execution_count": 24,
      "outputs": [
        {
          "output_type": "execute_result",
          "data": {
            "text/plain": [
              "'chapter 1 loomings call me ishmael some years ago never mind how long precisely having little or no money in my purse and nothing particular to'"
            ],
            "application/vnd.google.colaboratory.intrinsic+json": {
              "type": "string"
            }
          },
          "metadata": {},
          "execution_count": 24
        }
      ]
    },
    {
      "cell_type": "code",
      "source": [
        "i=0\n",
        "for a in tokenizer.index_word:\n",
        "    print(a,\"--->\",tokenizer.index_word[a])\n",
        "    i+=1\n",
        "    if i==20 : break"
      ],
      "metadata": {
        "execution": {
          "iopub.status.busy": "2021-11-20T16:08:02.973894Z",
          "iopub.execute_input": "2021-11-20T16:08:02.974442Z",
          "iopub.status.idle": "2021-11-20T16:08:02.987838Z",
          "shell.execute_reply.started": "2021-11-20T16:08:02.974404Z",
          "shell.execute_reply": "2021-11-20T16:08:02.987117Z"
        },
        "trusted": true,
        "colab": {
          "base_uri": "https://localhost:8080/"
        },
        "id": "vZwiUE2wJrwJ",
        "outputId": "da71741e-42f5-4fb8-c5c5-0eb8c2980095"
      },
      "execution_count": 25,
      "outputs": [
        {
          "output_type": "stream",
          "name": "stdout",
          "text": [
            "1 ---> the\n",
            "2 ---> and\n",
            "3 ---> of\n",
            "4 ---> a\n",
            "5 ---> to\n",
            "6 ---> in\n",
            "7 ---> i\n",
            "8 ---> that\n",
            "9 ---> his\n",
            "10 ---> he\n",
            "11 ---> it\n",
            "12 ---> was\n",
            "13 ---> but\n",
            "14 ---> with\n",
            "15 ---> all\n",
            "16 ---> for\n",
            "17 ---> as\n",
            "18 ---> 's\n",
            "19 ---> at\n",
            "20 ---> is\n"
          ]
        }
      ]
    },
    {
      "cell_type": "code",
      "source": [
        "for i in sequences[0]:\n",
        "    print(f'{i} : {tokenizer.index_word[i]}')"
      ],
      "metadata": {
        "execution": {
          "iopub.status.busy": "2021-11-20T16:08:02.989184Z",
          "iopub.execute_input": "2021-11-20T16:08:02.989413Z",
          "iopub.status.idle": "2021-11-20T16:08:02.997522Z",
          "shell.execute_reply.started": "2021-11-20T16:08:02.989381Z",
          "shell.execute_reply": "2021-11-20T16:08:02.996651Z"
        },
        "trusted": true,
        "colab": {
          "base_uri": "https://localhost:8080/"
        },
        "id": "enTsu8zFJrwK",
        "outputId": "2b6419c7-6f79-4fc1-9710-8bd5eb6468b5"
      },
      "execution_count": 26,
      "outputs": [
        {
          "output_type": "stream",
          "name": "stdout",
          "text": [
            "187 : chapter\n",
            "7000 : 1\n",
            "6999 : loomings\n",
            "516 : call\n",
            "24 : me\n",
            "432 : ishmael\n",
            "65 : some\n",
            "232 : years\n",
            "640 : ago\n",
            "100 : never\n",
            "223 : mind\n",
            "99 : how\n",
            "93 : long\n",
            "1331 : precisely\n",
            "277 : having\n",
            "68 : little\n",
            "48 : or\n",
            "36 : no\n",
            "639 : money\n",
            "6 : in\n",
            "31 : my\n",
            "1028 : purse\n",
            "2 : and\n",
            "150 : nothing\n",
            "431 : particular\n",
            "5 : to\n"
          ]
        }
      ]
    },
    {
      "cell_type": "code",
      "source": [
        "i=0\n",
        "for a in tokenizer.word_counts:\n",
        "    print((a,tokenizer.word_counts[a]))\n",
        "    i+=1\n",
        "    if i==10 : break"
      ],
      "metadata": {
        "execution": {
          "iopub.status.busy": "2021-11-20T16:08:02.999021Z",
          "iopub.execute_input": "2021-11-20T16:08:02.999314Z",
          "iopub.status.idle": "2021-11-20T16:08:03.006324Z",
          "shell.execute_reply.started": "2021-11-20T16:08:02.999279Z",
          "shell.execute_reply": "2021-11-20T16:08:03.005521Z"
        },
        "trusted": true,
        "colab": {
          "base_uri": "https://localhost:8080/"
        },
        "id": "8c7TYvTSJrwK",
        "outputId": "7ff37cb5-6ba3-46cc-9b48-6a2a3fb1c782"
      },
      "execution_count": 27,
      "outputs": [
        {
          "output_type": "stream",
          "name": "stdout",
          "text": [
            "('chapter', 807)\n",
            "('1', 2)\n",
            "('loomings', 3)\n",
            "('call', 238)\n",
            "('me', 6214)\n",
            "('ishmael', 292)\n",
            "('some', 2451)\n",
            "('years', 606)\n",
            "('ago', 191)\n",
            "('never', 1700)\n"
          ]
        }
      ]
    },
    {
      "cell_type": "code",
      "source": [
        "vocabulary_size = len(tokenizer.word_counts)\n",
        "vocabulary_size"
      ],
      "metadata": {
        "execution": {
          "iopub.status.busy": "2021-11-20T16:08:03.007917Z",
          "iopub.execute_input": "2021-11-20T16:08:03.008240Z",
          "iopub.status.idle": "2021-11-20T16:08:03.014738Z",
          "shell.execute_reply.started": "2021-11-20T16:08:03.008205Z",
          "shell.execute_reply": "2021-11-20T16:08:03.013857Z"
        },
        "trusted": true,
        "colab": {
          "base_uri": "https://localhost:8080/"
        },
        "id": "N-CcizWJJrwK",
        "outputId": "8de6830e-3fec-4ffb-be34-26a69fed29ba"
      },
      "execution_count": 28,
      "outputs": [
        {
          "output_type": "execute_result",
          "data": {
            "text/plain": [
              "7000"
            ]
          },
          "metadata": {},
          "execution_count": 28
        }
      ]
    },
    {
      "cell_type": "code",
      "source": [
        "i=6990\n",
        "for a in range(i,7000):\n",
        "    print(a,\"--->\",tokenizer.index_word[a])\n",
        "    #i+=1\n",
        "    #if i==6999 : break"
      ],
      "metadata": {
        "scrolled": true,
        "execution": {
          "iopub.status.busy": "2021-11-20T16:08:03.016305Z",
          "iopub.execute_input": "2021-11-20T16:08:03.016782Z",
          "iopub.status.idle": "2021-11-20T16:08:03.026894Z",
          "shell.execute_reply.started": "2021-11-20T16:08:03.016747Z",
          "shell.execute_reply": "2021-11-20T16:08:03.026012Z"
        },
        "trusted": true,
        "colab": {
          "base_uri": "https://localhost:8080/"
        },
        "id": "gHkgR7BWJrwK",
        "outputId": "77d13b46-2adf-4089-ab69-b7798b550db4"
      },
      "execution_count": 29,
      "outputs": [
        {
          "output_type": "stream",
          "name": "stdout",
          "text": [
            "6990 ---> subtle\n",
            "6991 ---> conceived\n",
            "6992 ---> poorly\n",
            "6993 ---> moods\n",
            "6994 ---> whimsicalities\n",
            "6995 ---> apprehensiveness\n",
            "6996 ---> uneasiness\n",
            "6997 ---> warrantry\n",
            "6998 ---> emotions\n",
            "6999 ---> loomings\n"
          ]
        }
      ]
    },
    {
      "cell_type": "code",
      "source": [
        "# tokenizer.index_word"
      ],
      "metadata": {
        "execution": {
          "iopub.status.busy": "2021-11-20T16:08:03.028313Z",
          "iopub.execute_input": "2021-11-20T16:08:03.028997Z",
          "iopub.status.idle": "2021-11-20T16:08:03.032400Z",
          "shell.execute_reply.started": "2021-11-20T16:08:03.028952Z",
          "shell.execute_reply": "2021-11-20T16:08:03.031502Z"
        },
        "trusted": true,
        "id": "LZZO0wxGJrwL"
      },
      "execution_count": 30,
      "outputs": []
    },
    {
      "cell_type": "markdown",
      "source": [
        "### e. Convert to Numpy Matrix"
      ],
      "metadata": {
        "id": "I8Ggq_LtJrwL"
      }
    },
    {
      "cell_type": "code",
      "source": [
        "import numpy as np"
      ],
      "metadata": {
        "execution": {
          "iopub.status.busy": "2021-11-20T16:08:03.034222Z",
          "iopub.execute_input": "2021-11-20T16:08:03.034692Z",
          "iopub.status.idle": "2021-11-20T16:08:03.041685Z",
          "shell.execute_reply.started": "2021-11-20T16:08:03.034653Z",
          "shell.execute_reply": "2021-11-20T16:08:03.040978Z"
        },
        "trusted": true,
        "id": "GNhF-UDmJrwL"
      },
      "execution_count": 31,
      "outputs": []
    },
    {
      "cell_type": "code",
      "source": [
        "len(sequences)"
      ],
      "metadata": {
        "execution": {
          "iopub.status.busy": "2021-11-20T16:08:03.044249Z",
          "iopub.execute_input": "2021-11-20T16:08:03.045080Z",
          "iopub.status.idle": "2021-11-20T16:08:03.052295Z",
          "shell.execute_reply.started": "2021-11-20T16:08:03.045040Z",
          "shell.execute_reply": "2021-11-20T16:08:03.051485Z"
        },
        "trusted": true,
        "colab": {
          "base_uri": "https://localhost:8080/"
        },
        "id": "TDMW865NJrwL",
        "outputId": "7c36e47c-b8ab-4541-dd18-7fa6ca2e29f7"
      },
      "execution_count": 32,
      "outputs": [
        {
          "output_type": "execute_result",
          "data": {
            "text/plain": [
              "45253"
            ]
          },
          "metadata": {},
          "execution_count": 32
        }
      ]
    },
    {
      "cell_type": "code",
      "source": [
        "len(sequences[0])"
      ],
      "metadata": {
        "execution": {
          "iopub.status.busy": "2021-11-20T16:08:03.053958Z",
          "iopub.execute_input": "2021-11-20T16:08:03.054462Z",
          "iopub.status.idle": "2021-11-20T16:08:03.061536Z",
          "shell.execute_reply.started": "2021-11-20T16:08:03.054425Z",
          "shell.execute_reply": "2021-11-20T16:08:03.060774Z"
        },
        "trusted": true,
        "colab": {
          "base_uri": "https://localhost:8080/"
        },
        "id": "I3Zlj4GGJrwR",
        "outputId": "d7891bd4-d82c-431f-bdd5-cb4664abc616"
      },
      "execution_count": 33,
      "outputs": [
        {
          "output_type": "execute_result",
          "data": {
            "text/plain": [
              "26"
            ]
          },
          "metadata": {},
          "execution_count": 33
        }
      ]
    },
    {
      "cell_type": "code",
      "source": [
        "sequences = np.array(sequences)"
      ],
      "metadata": {
        "execution": {
          "iopub.status.busy": "2021-11-20T16:08:03.063030Z",
          "iopub.execute_input": "2021-11-20T16:08:03.063361Z",
          "iopub.status.idle": "2021-11-20T16:08:03.322004Z",
          "shell.execute_reply.started": "2021-11-20T16:08:03.063303Z",
          "shell.execute_reply": "2021-11-20T16:08:03.321021Z"
        },
        "trusted": true,
        "id": "imHq1NJIJrwR"
      },
      "execution_count": 34,
      "outputs": []
    },
    {
      "cell_type": "code",
      "source": [
        "sequences.shape"
      ],
      "metadata": {
        "execution": {
          "iopub.status.busy": "2021-11-20T16:08:03.323553Z",
          "iopub.execute_input": "2021-11-20T16:08:03.323899Z",
          "iopub.status.idle": "2021-11-20T16:08:03.334371Z",
          "shell.execute_reply.started": "2021-11-20T16:08:03.323858Z",
          "shell.execute_reply": "2021-11-20T16:08:03.333651Z"
        },
        "trusted": true,
        "colab": {
          "base_uri": "https://localhost:8080/"
        },
        "id": "cMSVGlgkJrwR",
        "outputId": "46269797-c7aa-4e13-9abf-bb13c9d511ed"
      },
      "execution_count": 35,
      "outputs": [
        {
          "output_type": "execute_result",
          "data": {
            "text/plain": [
              "(45253, 26)"
            ]
          },
          "metadata": {},
          "execution_count": 35
        }
      ]
    },
    {
      "cell_type": "code",
      "source": [
        "sequences"
      ],
      "metadata": {
        "execution": {
          "iopub.status.busy": "2021-11-20T16:08:03.336586Z",
          "iopub.execute_input": "2021-11-20T16:08:03.336868Z",
          "iopub.status.idle": "2021-11-20T16:08:03.343630Z",
          "shell.execute_reply.started": "2021-11-20T16:08:03.336832Z",
          "shell.execute_reply": "2021-11-20T16:08:03.342700Z"
        },
        "trusted": true,
        "colab": {
          "base_uri": "https://localhost:8080/"
        },
        "id": "H_iP7w9bJrwS",
        "outputId": "6dc447ad-24e2-4fe1-991e-e73fe32726cd"
      },
      "execution_count": 36,
      "outputs": [
        {
          "output_type": "execute_result",
          "data": {
            "text/plain": [
              "array([[ 187, 7000, 6999, ...,  150,  431,    5],\n",
              "       [7000, 6999,  516, ...,  431,    5,  734],\n",
              "       [6999,  516,   24, ...,    5,  734,   24],\n",
              "       ...,\n",
              "       [  86,  578,    7, ...,  472,   14,    1],\n",
              "       [ 578,    7,  171, ...,   14,    1,  111],\n",
              "       [   7,  171,    5, ...,    1,  111,  577]])"
            ]
          },
          "metadata": {},
          "execution_count": 36
        }
      ]
    },
    {
      "cell_type": "markdown",
      "source": [
        "## 2. Creating an LSTM based model"
      ],
      "metadata": {
        "id": "XXQZJWkSJrwS"
      }
    },
    {
      "cell_type": "code",
      "source": [
        "import keras\n",
        "from keras.models import Sequential\n",
        "from keras.layers import Dense,LSTM,Embedding"
      ],
      "metadata": {
        "execution": {
          "iopub.status.busy": "2021-11-20T16:10:15.996834Z",
          "iopub.execute_input": "2021-11-20T16:10:15.997656Z",
          "iopub.status.idle": "2021-11-20T16:10:16.002293Z",
          "shell.execute_reply.started": "2021-11-20T16:10:15.997604Z",
          "shell.execute_reply": "2021-11-20T16:10:16.001476Z"
        },
        "trusted": true,
        "id": "HC0skOQJJrwS"
      },
      "execution_count": 37,
      "outputs": []
    },
    {
      "cell_type": "code",
      "source": [
        "def create_model(vocabulary_size, seq_len):\n",
        "    model = Sequential()\n",
        "    model.add(Embedding(vocabulary_size, 25, input_length=seq_len))\n",
        "    model.add(LSTM(150, return_sequences=True))\n",
        "    model.add(LSTM(150))\n",
        "    model.add(Dense(150, activation='relu'))\n",
        "\n",
        "    model.add(Dense(vocabulary_size, activation='softmax'))\n",
        "\n",
        "    model.compile(loss='categorical_crossentropy', optimizer='adam', metrics=['accuracy'])\n",
        "\n",
        "    model.summary()\n",
        "\n",
        "    return model"
      ],
      "metadata": {
        "execution": {
          "iopub.status.busy": "2021-11-20T16:17:58.020073Z",
          "iopub.execute_input": "2021-11-20T16:17:58.020352Z",
          "iopub.status.idle": "2021-11-20T16:17:58.027547Z",
          "shell.execute_reply.started": "2021-11-20T16:17:58.020321Z",
          "shell.execute_reply": "2021-11-20T16:17:58.026857Z"
        },
        "trusted": true,
        "id": "7IW7DvEAJrwS"
      },
      "execution_count": 38,
      "outputs": []
    },
    {
      "cell_type": "markdown",
      "source": [
        "## 3. Train / Test Split"
      ],
      "metadata": {
        "id": "p6S3OO_cJrwS"
      }
    },
    {
      "cell_type": "code",
      "source": [
        "from tensorflow.keras.utils import to_categorical"
      ],
      "metadata": {
        "execution": {
          "iopub.status.busy": "2021-11-20T16:18:34.479096Z",
          "iopub.execute_input": "2021-11-20T16:18:34.479353Z",
          "iopub.status.idle": "2021-11-20T16:18:34.777220Z",
          "shell.execute_reply.started": "2021-11-20T16:18:34.479324Z",
          "shell.execute_reply": "2021-11-20T16:18:34.776451Z"
        },
        "trusted": true,
        "id": "Q1l50PnfJrwT"
      },
      "execution_count": 39,
      "outputs": []
    },
    {
      "cell_type": "code",
      "source": [
        "print(sequences.shape)\n",
        "sequences"
      ],
      "metadata": {
        "execution": {
          "iopub.status.busy": "2021-11-20T16:18:36.050428Z",
          "iopub.execute_input": "2021-11-20T16:18:36.050680Z",
          "iopub.status.idle": "2021-11-20T16:18:36.061793Z",
          "shell.execute_reply.started": "2021-11-20T16:18:36.050652Z",
          "shell.execute_reply": "2021-11-20T16:18:36.061085Z"
        },
        "trusted": true,
        "colab": {
          "base_uri": "https://localhost:8080/"
        },
        "id": "6rZMnKLfJrwT",
        "outputId": "7b26ca1a-093f-42fa-d602-12a2688982b9"
      },
      "execution_count": 40,
      "outputs": [
        {
          "output_type": "stream",
          "name": "stdout",
          "text": [
            "(45253, 26)\n"
          ]
        },
        {
          "output_type": "execute_result",
          "data": {
            "text/plain": [
              "array([[ 187, 7000, 6999, ...,  150,  431,    5],\n",
              "       [7000, 6999,  516, ...,  431,    5,  734],\n",
              "       [6999,  516,   24, ...,    5,  734,   24],\n",
              "       ...,\n",
              "       [  86,  578,    7, ...,  472,   14,    1],\n",
              "       [ 578,    7,  171, ...,   14,    1,  111],\n",
              "       [   7,  171,    5, ...,    1,  111,  577]])"
            ]
          },
          "metadata": {},
          "execution_count": 40
        }
      ]
    },
    {
      "cell_type": "code",
      "source": [
        "# First 25 words\n",
        "print(sequences[:,:-1].shape)\n",
        "sequences[:,:-1]"
      ],
      "metadata": {
        "execution": {
          "iopub.status.busy": "2021-11-20T16:23:11.975462Z",
          "iopub.execute_input": "2021-11-20T16:23:11.975713Z",
          "iopub.status.idle": "2021-11-20T16:23:11.984463Z",
          "shell.execute_reply.started": "2021-11-20T16:23:11.975682Z",
          "shell.execute_reply": "2021-11-20T16:23:11.983565Z"
        },
        "trusted": true,
        "colab": {
          "base_uri": "https://localhost:8080/"
        },
        "id": "EHBzqiPVJrwT",
        "outputId": "02f568b5-38df-4a3f-b00a-6bec039634e0"
      },
      "execution_count": 41,
      "outputs": [
        {
          "output_type": "stream",
          "name": "stdout",
          "text": [
            "(45253, 25)\n"
          ]
        },
        {
          "output_type": "execute_result",
          "data": {
            "text/plain": [
              "array([[ 187, 7000, 6999, ...,    2,  150,  431],\n",
              "       [7000, 6999,  516, ...,  150,  431,    5],\n",
              "       [6999,  516,   24, ...,  431,    5,  734],\n",
              "       ...,\n",
              "       [  86,  578,    7, ...,    1,  472,   14],\n",
              "       [ 578,    7,  171, ...,  472,   14,    1],\n",
              "       [   7,  171,    5, ...,   14,    1,  111]])"
            ]
          },
          "metadata": {},
          "execution_count": 41
        }
      ]
    },
    {
      "cell_type": "code",
      "source": [
        "# last Word\n",
        "print(sequences[:,-1].shape)\n",
        "sequences[:,-1]"
      ],
      "metadata": {
        "execution": {
          "iopub.status.busy": "2021-11-20T16:23:00.016191Z",
          "iopub.execute_input": "2021-11-20T16:23:00.016887Z",
          "iopub.status.idle": "2021-11-20T16:23:00.022703Z",
          "shell.execute_reply.started": "2021-11-20T16:23:00.016854Z",
          "shell.execute_reply": "2021-11-20T16:23:00.021855Z"
        },
        "trusted": true,
        "colab": {
          "base_uri": "https://localhost:8080/"
        },
        "id": "tfaPcRQmJrwT",
        "outputId": "2bdc4025-e361-4f88-9965-0555783afb6a"
      },
      "execution_count": 42,
      "outputs": [
        {
          "output_type": "stream",
          "name": "stdout",
          "text": [
            "(45253,)\n"
          ]
        },
        {
          "output_type": "execute_result",
          "data": {
            "text/plain": [
              "array([  5, 734,  24, ...,   1, 111, 577])"
            ]
          },
          "metadata": {},
          "execution_count": 42
        }
      ]
    },
    {
      "cell_type": "code",
      "source": [
        "X = sequences[:,:-1]"
      ],
      "metadata": {
        "execution": {
          "iopub.status.busy": "2021-11-20T16:23:51.629952Z",
          "iopub.execute_input": "2021-11-20T16:23:51.630727Z",
          "iopub.status.idle": "2021-11-20T16:23:51.635126Z",
          "shell.execute_reply.started": "2021-11-20T16:23:51.630672Z",
          "shell.execute_reply": "2021-11-20T16:23:51.634058Z"
        },
        "trusted": true,
        "id": "7Xc2vWW7JrwT"
      },
      "execution_count": 43,
      "outputs": []
    },
    {
      "cell_type": "code",
      "source": [
        "X.shape"
      ],
      "metadata": {
        "execution": {
          "iopub.status.busy": "2021-11-20T16:23:53.753357Z",
          "iopub.execute_input": "2021-11-20T16:23:53.753631Z",
          "iopub.status.idle": "2021-11-20T16:23:53.759122Z",
          "shell.execute_reply.started": "2021-11-20T16:23:53.753600Z",
          "shell.execute_reply": "2021-11-20T16:23:53.758391Z"
        },
        "trusted": true,
        "colab": {
          "base_uri": "https://localhost:8080/"
        },
        "id": "FR4VH-EeJrwT",
        "outputId": "e6782a59-81f3-410c-9847-090cbc35036c"
      },
      "execution_count": 44,
      "outputs": [
        {
          "output_type": "execute_result",
          "data": {
            "text/plain": [
              "(45253, 25)"
            ]
          },
          "metadata": {},
          "execution_count": 44
        }
      ]
    },
    {
      "cell_type": "code",
      "source": [
        "y = sequences[:,-1]"
      ],
      "metadata": {
        "execution": {
          "iopub.status.busy": "2021-11-20T16:23:57.195456Z",
          "iopub.execute_input": "2021-11-20T16:23:57.196232Z",
          "iopub.status.idle": "2021-11-20T16:23:57.200928Z",
          "shell.execute_reply.started": "2021-11-20T16:23:57.196179Z",
          "shell.execute_reply": "2021-11-20T16:23:57.199912Z"
        },
        "trusted": true,
        "id": "wS7xwrwSJrwU"
      },
      "execution_count": 45,
      "outputs": []
    },
    {
      "cell_type": "code",
      "source": [
        "y.shape"
      ],
      "metadata": {
        "execution": {
          "iopub.status.busy": "2021-11-20T16:24:03.132095Z",
          "iopub.execute_input": "2021-11-20T16:24:03.132757Z",
          "iopub.status.idle": "2021-11-20T16:24:03.138687Z",
          "shell.execute_reply.started": "2021-11-20T16:24:03.132705Z",
          "shell.execute_reply": "2021-11-20T16:24:03.137918Z"
        },
        "trusted": true,
        "colab": {
          "base_uri": "https://localhost:8080/"
        },
        "id": "PhDSSlL2JrwU",
        "outputId": "c6918cd0-6ae4-4b4a-e97e-e8b8e61cd32e"
      },
      "execution_count": 46,
      "outputs": [
        {
          "output_type": "execute_result",
          "data": {
            "text/plain": [
              "(45253,)"
            ]
          },
          "metadata": {},
          "execution_count": 46
        }
      ]
    },
    {
      "cell_type": "code",
      "source": [
        "y = to_categorical(y, num_classes=vocabulary_size)"
      ],
      "metadata": {
        "execution": {
          "iopub.status.busy": "2021-11-20T16:24:10.297076Z",
          "iopub.execute_input": "2021-11-20T16:24:10.297574Z",
          "iopub.status.idle": "2021-11-20T16:24:10.393855Z",
          "shell.execute_reply.started": "2021-11-20T16:24:10.297533Z",
          "shell.execute_reply": "2021-11-20T16:24:10.393066Z"
        },
        "trusted": true,
        "id": "ZV3C6oF5JrwU"
      },
      "execution_count": 47,
      "outputs": []
    },
    {
      "cell_type": "code",
      "source": [
        "y.shape"
      ],
      "metadata": {
        "execution": {
          "iopub.status.busy": "2021-11-20T16:24:12.700098Z",
          "iopub.execute_input": "2021-11-20T16:24:12.700741Z",
          "iopub.status.idle": "2021-11-20T16:24:12.706859Z",
          "shell.execute_reply.started": "2021-11-20T16:24:12.700698Z",
          "shell.execute_reply": "2021-11-20T16:24:12.705941Z"
        },
        "trusted": true,
        "colab": {
          "base_uri": "https://localhost:8080/"
        },
        "id": "f4vEkfpIJrwV",
        "outputId": "b938d63b-3d98-4deb-badd-f598771df624"
      },
      "execution_count": 48,
      "outputs": [
        {
          "output_type": "execute_result",
          "data": {
            "text/plain": [
              "(45253, 7000)"
            ]
          },
          "metadata": {},
          "execution_count": 48
        }
      ]
    },
    {
      "cell_type": "code",
      "source": [
        "seq_len = X.shape[1]"
      ],
      "metadata": {
        "execution": {
          "iopub.status.busy": "2021-11-20T16:24:42.435572Z",
          "iopub.execute_input": "2021-11-20T16:24:42.436120Z",
          "iopub.status.idle": "2021-11-20T16:24:42.439740Z",
          "shell.execute_reply.started": "2021-11-20T16:24:42.436080Z",
          "shell.execute_reply": "2021-11-20T16:24:42.438762Z"
        },
        "trusted": true,
        "id": "I-8oebVOJrwV"
      },
      "execution_count": 49,
      "outputs": []
    },
    {
      "cell_type": "code",
      "source": [
        "seq_len"
      ],
      "metadata": {
        "execution": {
          "iopub.status.busy": "2021-11-20T16:24:43.818788Z",
          "iopub.execute_input": "2021-11-20T16:24:43.819357Z",
          "iopub.status.idle": "2021-11-20T16:24:43.825152Z",
          "shell.execute_reply.started": "2021-11-20T16:24:43.819317Z",
          "shell.execute_reply": "2021-11-20T16:24:43.824218Z"
        },
        "trusted": true,
        "colab": {
          "base_uri": "https://localhost:8080/"
        },
        "id": "_c7rEm_CJrwV",
        "outputId": "777c2939-d61f-4f4d-99d9-e9709332a3e9"
      },
      "execution_count": 50,
      "outputs": [
        {
          "output_type": "execute_result",
          "data": {
            "text/plain": [
              "25"
            ]
          },
          "metadata": {},
          "execution_count": 50
        }
      ]
    },
    {
      "cell_type": "markdown",
      "source": [
        "## 4. Training the Model"
      ],
      "metadata": {
        "id": "pEjM5zMaJrwV"
      }
    },
    {
      "cell_type": "code",
      "source": [
        "# define model\n",
        "model = create_model(vocabulary_size, seq_len)\n",
        "#model = create_model(vocabulary_size, seq_len)"
      ],
      "metadata": {
        "execution": {
          "iopub.status.busy": "2021-11-20T16:24:57.008986Z",
          "iopub.execute_input": "2021-11-20T16:24:57.009651Z",
          "iopub.status.idle": "2021-11-20T16:25:04.816192Z",
          "shell.execute_reply.started": "2021-11-20T16:24:57.009613Z",
          "shell.execute_reply": "2021-11-20T16:25:04.815470Z"
        },
        "trusted": true,
        "colab": {
          "base_uri": "https://localhost:8080/"
        },
        "id": "yIow7lAsJrwW",
        "outputId": "d896e556-4f1e-4474-f994-e3eb0087acd1"
      },
      "execution_count": 51,
      "outputs": [
        {
          "output_type": "stream",
          "name": "stdout",
          "text": [
            "Model: \"sequential\"\n",
            "_________________________________________________________________\n",
            " Layer (type)                Output Shape              Param #   \n",
            "=================================================================\n",
            " embedding (Embedding)       (None, 25, 25)            175000    \n",
            "                                                                 \n",
            " lstm (LSTM)                 (None, 25, 150)           105600    \n",
            "                                                                 \n",
            " lstm_1 (LSTM)               (None, 150)               180600    \n",
            "                                                                 \n",
            " dense (Dense)               (None, 150)               22650     \n",
            "                                                                 \n",
            " dense_1 (Dense)             (None, 7000)              1057000   \n",
            "                                                                 \n",
            "=================================================================\n",
            "Total params: 1540850 (5.88 MB)\n",
            "Trainable params: 1540850 (5.88 MB)\n",
            "Non-trainable params: 0 (0.00 Byte)\n",
            "_________________________________________________________________\n"
          ]
        }
      ]
    },
    {
      "cell_type": "markdown",
      "source": [
        "---\n",
        "\n",
        "----"
      ],
      "metadata": {
        "id": "2yuMeaqtJrwW"
      }
    },
    {
      "cell_type": "markdown",
      "source": [
        "## 5. Fit model"
      ],
      "metadata": {
        "id": "U-tW9mm0JrwW"
      }
    },
    {
      "cell_type": "code",
      "source": [
        "model.fit(X, y, batch_size=512, epochs=250,verbose=1,validation_batch_size=.20)"
      ],
      "metadata": {
        "execution": {
          "iopub.status.busy": "2021-11-20T16:26:25.287630Z",
          "iopub.execute_input": "2021-11-20T16:26:25.288463Z",
          "iopub.status.idle": "2021-11-20T16:35:52.361595Z",
          "shell.execute_reply.started": "2021-11-20T16:26:25.288414Z",
          "shell.execute_reply": "2021-11-20T16:35:52.360782Z"
        },
        "scrolled": true,
        "trusted": true,
        "colab": {
          "base_uri": "https://localhost:8080/"
        },
        "id": "MQdaTo9HJrwW",
        "outputId": "476ecd91-70a4-46d3-9eeb-d7684601d45d"
      },
      "execution_count": null,
      "outputs": [
        {
          "output_type": "stream",
          "name": "stdout",
          "text": [
            "Epoch 1/250\n",
            "89/89 [==============================] - 16s 127ms/step - loss: 1.8545 - accuracy: 0.5578\n",
            "Epoch 2/250\n",
            "89/89 [==============================] - 6s 71ms/step - loss: 1.8498 - accuracy: 0.5572\n",
            "Epoch 3/250\n",
            "89/89 [==============================] - 5s 57ms/step - loss: 1.8361 - accuracy: 0.5612\n",
            "Epoch 4/250\n",
            "89/89 [==============================] - 3s 37ms/step - loss: 1.8301 - accuracy: 0.5628\n",
            "Epoch 5/250\n",
            "89/89 [==============================] - 4s 47ms/step - loss: 1.8264 - accuracy: 0.5625\n",
            "Epoch 6/250\n",
            "89/89 [==============================] - 3s 33ms/step - loss: 1.8143 - accuracy: 0.5644\n",
            "Epoch 7/250\n",
            "89/89 [==============================] - 3s 37ms/step - loss: 1.8011 - accuracy: 0.5668\n",
            "Epoch 8/250\n",
            "89/89 [==============================] - 3s 38ms/step - loss: 1.7921 - accuracy: 0.5701\n",
            "Epoch 9/250\n",
            "89/89 [==============================] - 3s 31ms/step - loss: 1.7885 - accuracy: 0.5703\n",
            "Epoch 10/250\n",
            "89/89 [==============================] - 3s 33ms/step - loss: 1.7770 - accuracy: 0.5745\n",
            "Epoch 11/250\n",
            "89/89 [==============================] - 3s 29ms/step - loss: 1.7766 - accuracy: 0.5737\n",
            "Epoch 12/250\n",
            "89/89 [==============================] - 2s 27ms/step - loss: 1.7673 - accuracy: 0.5739\n",
            "Epoch 13/250\n",
            "89/89 [==============================] - 3s 30ms/step - loss: 1.7551 - accuracy: 0.5789\n",
            "Epoch 14/250\n",
            "89/89 [==============================] - 2s 27ms/step - loss: 1.7445 - accuracy: 0.5828\n",
            "Epoch 15/250\n",
            "89/89 [==============================] - 3s 31ms/step - loss: 1.7386 - accuracy: 0.5812\n",
            "Epoch 16/250\n",
            "89/89 [==============================] - 3s 31ms/step - loss: 1.7297 - accuracy: 0.5826\n",
            "Epoch 17/250\n",
            "89/89 [==============================] - 3s 29ms/step - loss: 1.7201 - accuracy: 0.5856\n",
            "Epoch 18/250\n",
            "89/89 [==============================] - 3s 29ms/step - loss: 1.7149 - accuracy: 0.5869\n",
            "Epoch 19/250\n",
            "89/89 [==============================] - 3s 31ms/step - loss: 1.7037 - accuracy: 0.5899\n",
            "Epoch 20/250\n",
            "89/89 [==============================] - 2s 27ms/step - loss: 1.6929 - accuracy: 0.5928\n",
            "Epoch 21/250\n",
            "89/89 [==============================] - 2s 26ms/step - loss: 1.6900 - accuracy: 0.5936\n",
            "Epoch 22/250\n",
            "89/89 [==============================] - 3s 29ms/step - loss: 1.6919 - accuracy: 0.5939\n",
            "Epoch 23/250\n",
            "89/89 [==============================] - 3s 30ms/step - loss: 1.6730 - accuracy: 0.5944\n",
            "Epoch 24/250\n",
            "89/89 [==============================] - 2s 28ms/step - loss: 1.6664 - accuracy: 0.5960\n",
            "Epoch 25/250\n",
            "89/89 [==============================] - 2s 25ms/step - loss: 1.6551 - accuracy: 0.6023\n",
            "Epoch 26/250\n",
            "89/89 [==============================] - 2s 27ms/step - loss: 1.6484 - accuracy: 0.6005\n",
            "Epoch 27/250\n",
            "89/89 [==============================] - 3s 29ms/step - loss: 1.6344 - accuracy: 0.6049\n",
            "Epoch 28/250\n",
            "89/89 [==============================] - 3s 31ms/step - loss: 1.6234 - accuracy: 0.6082\n",
            "Epoch 29/250\n",
            "89/89 [==============================] - 3s 29ms/step - loss: 1.6156 - accuracy: 0.6109\n",
            "Epoch 30/250\n",
            "89/89 [==============================] - 2s 27ms/step - loss: 1.6072 - accuracy: 0.6119\n",
            "Epoch 31/250\n",
            "89/89 [==============================] - 2s 26ms/step - loss: 1.6076 - accuracy: 0.6091\n",
            "Epoch 32/250\n",
            "89/89 [==============================] - 3s 31ms/step - loss: 1.6040 - accuracy: 0.6113\n",
            "Epoch 33/250\n",
            "89/89 [==============================] - 3s 32ms/step - loss: 1.5876 - accuracy: 0.6151\n",
            "Epoch 34/250\n",
            "89/89 [==============================] - 2s 26ms/step - loss: 1.5840 - accuracy: 0.6173\n",
            "Epoch 35/250\n",
            "89/89 [==============================] - 2s 26ms/step - loss: 1.5691 - accuracy: 0.6209\n",
            "Epoch 36/250\n",
            "89/89 [==============================] - 2s 27ms/step - loss: 1.5630 - accuracy: 0.6227\n",
            "Epoch 37/250\n",
            "89/89 [==============================] - 2s 28ms/step - loss: 1.5534 - accuracy: 0.6250\n",
            "Epoch 38/250\n",
            "89/89 [==============================] - 2s 26ms/step - loss: 1.5419 - accuracy: 0.6273\n",
            "Epoch 39/250\n",
            "89/89 [==============================] - 2s 27ms/step - loss: 1.5322 - accuracy: 0.6271\n",
            "Epoch 40/250\n",
            "89/89 [==============================] - 2s 27ms/step - loss: 1.5308 - accuracy: 0.6287\n",
            "Epoch 41/250\n",
            "89/89 [==============================] - 2s 27ms/step - loss: 1.5181 - accuracy: 0.6320\n",
            "Epoch 42/250\n",
            "89/89 [==============================] - 3s 30ms/step - loss: 1.5101 - accuracy: 0.6338\n",
            "Epoch 43/250\n",
            "89/89 [==============================] - 2s 27ms/step - loss: 1.5041 - accuracy: 0.6366\n",
            "Epoch 44/250\n",
            "89/89 [==============================] - 2s 27ms/step - loss: 1.4971 - accuracy: 0.6356\n",
            "Epoch 45/250\n",
            "89/89 [==============================] - 2s 28ms/step - loss: 1.4847 - accuracy: 0.6406\n",
            "Epoch 46/250\n",
            "89/89 [==============================] - 3s 32ms/step - loss: 1.4777 - accuracy: 0.6411\n",
            "Epoch 47/250\n",
            "89/89 [==============================] - 3s 31ms/step - loss: 1.4739 - accuracy: 0.6433\n",
            "Epoch 48/250\n",
            "89/89 [==============================] - 3s 29ms/step - loss: 1.4590 - accuracy: 0.6441\n",
            "Epoch 49/250\n",
            "89/89 [==============================] - 3s 29ms/step - loss: 1.4506 - accuracy: 0.6479\n",
            "Epoch 50/250\n",
            "89/89 [==============================] - 2s 25ms/step - loss: 1.4475 - accuracy: 0.6462\n",
            "Epoch 51/250\n",
            "89/89 [==============================] - 3s 32ms/step - loss: 1.4369 - accuracy: 0.6496\n",
            "Epoch 52/250\n",
            "89/89 [==============================] - 2s 26ms/step - loss: 1.4373 - accuracy: 0.6509\n",
            "Epoch 53/250\n",
            "89/89 [==============================] - 3s 28ms/step - loss: 1.4275 - accuracy: 0.6512\n",
            "Epoch 54/250\n",
            "89/89 [==============================] - 2s 28ms/step - loss: 1.4188 - accuracy: 0.6560\n",
            "Epoch 55/250\n",
            "89/89 [==============================] - 2s 27ms/step - loss: 1.4103 - accuracy: 0.6543\n",
            "Epoch 56/250\n",
            "89/89 [==============================] - 3s 29ms/step - loss: 1.3982 - accuracy: 0.6591\n",
            "Epoch 57/250\n",
            "89/89 [==============================] - 2s 27ms/step - loss: 1.3953 - accuracy: 0.6592\n",
            "Epoch 58/250\n",
            "89/89 [==============================] - 2s 26ms/step - loss: 1.3881 - accuracy: 0.6597\n",
            "Epoch 59/250\n",
            "89/89 [==============================] - 2s 25ms/step - loss: 1.3880 - accuracy: 0.6605\n",
            "Epoch 60/250\n",
            "89/89 [==============================] - 2s 27ms/step - loss: 1.3827 - accuracy: 0.6616\n",
            "Epoch 61/250\n",
            "89/89 [==============================] - 3s 30ms/step - loss: 1.3712 - accuracy: 0.6642\n",
            "Epoch 62/250\n",
            "89/89 [==============================] - 2s 26ms/step - loss: 1.3499 - accuracy: 0.6693\n",
            "Epoch 63/250\n",
            "89/89 [==============================] - 2s 26ms/step - loss: 1.3313 - accuracy: 0.6749\n",
            "Epoch 64/250\n",
            "89/89 [==============================] - 2s 25ms/step - loss: 1.3244 - accuracy: 0.6774\n",
            "Epoch 65/250\n",
            "89/89 [==============================] - 2s 26ms/step - loss: 1.3157 - accuracy: 0.6790\n",
            "Epoch 66/250\n",
            "89/89 [==============================] - 3s 28ms/step - loss: 1.3207 - accuracy: 0.6748\n",
            "Epoch 67/250\n",
            "89/89 [==============================] - 2s 26ms/step - loss: 1.3112 - accuracy: 0.6789\n",
            "Epoch 68/250\n",
            "89/89 [==============================] - 2s 26ms/step - loss: 1.2962 - accuracy: 0.6830\n",
            "Epoch 69/250\n",
            "89/89 [==============================] - 2s 26ms/step - loss: 1.2888 - accuracy: 0.6857\n",
            "Epoch 70/250\n",
            "89/89 [==============================] - 3s 30ms/step - loss: 1.2816 - accuracy: 0.6860\n",
            "Epoch 71/250\n",
            "89/89 [==============================] - 3s 28ms/step - loss: 1.2802 - accuracy: 0.6865\n",
            "Epoch 72/250\n",
            "89/89 [==============================] - 2s 26ms/step - loss: 1.2712 - accuracy: 0.6886\n",
            "Epoch 73/250\n",
            "89/89 [==============================] - 2s 27ms/step - loss: 1.2616 - accuracy: 0.6909\n",
            "Epoch 74/250\n",
            "89/89 [==============================] - 2s 26ms/step - loss: 1.2588 - accuracy: 0.6918\n",
            "Epoch 75/250\n",
            "89/89 [==============================] - 2s 26ms/step - loss: 1.2648 - accuracy: 0.6893\n",
            "Epoch 76/250\n",
            "89/89 [==============================] - 3s 29ms/step - loss: 1.2449 - accuracy: 0.6942\n",
            "Epoch 77/250\n",
            "89/89 [==============================] - 2s 25ms/step - loss: 1.2239 - accuracy: 0.7002\n",
            "Epoch 78/250\n",
            "89/89 [==============================] - 2s 27ms/step - loss: 1.2148 - accuracy: 0.7026\n",
            "Epoch 79/250\n",
            "89/89 [==============================] - 2s 26ms/step - loss: 1.2089 - accuracy: 0.7056\n",
            "Epoch 80/250\n",
            "89/89 [==============================] - 2s 27ms/step - loss: 1.2047 - accuracy: 0.7032\n",
            "Epoch 81/250\n",
            "89/89 [==============================] - 3s 29ms/step - loss: 1.2011 - accuracy: 0.7045\n",
            "Epoch 82/250\n",
            "89/89 [==============================] - 2s 27ms/step - loss: 1.2006 - accuracy: 0.7044\n",
            "Epoch 83/250\n",
            "89/89 [==============================] - 2s 26ms/step - loss: 1.1849 - accuracy: 0.7088\n",
            "Epoch 84/250\n",
            "89/89 [==============================] - 2s 27ms/step - loss: 1.1829 - accuracy: 0.7092\n",
            "Epoch 85/250\n",
            "89/89 [==============================] - 2s 28ms/step - loss: 1.1732 - accuracy: 0.7120\n",
            "Epoch 86/250\n",
            "89/89 [==============================] - 3s 29ms/step - loss: 1.1603 - accuracy: 0.7157\n",
            "Epoch 87/250\n",
            "89/89 [==============================] - 2s 27ms/step - loss: 1.1460 - accuracy: 0.7193\n",
            "Epoch 88/250\n",
            "89/89 [==============================] - 2s 27ms/step - loss: 1.1352 - accuracy: 0.7208\n",
            "Epoch 89/250\n",
            "89/89 [==============================] - 2s 26ms/step - loss: 1.1232 - accuracy: 0.7252\n",
            "Epoch 90/250\n",
            "89/89 [==============================] - 2s 27ms/step - loss: 1.1340 - accuracy: 0.7209\n",
            "Epoch 91/250\n",
            "89/89 [==============================] - 3s 29ms/step - loss: 1.1317 - accuracy: 0.7203\n",
            "Epoch 92/250\n",
            "89/89 [==============================] - 2s 25ms/step - loss: 1.1216 - accuracy: 0.7241\n",
            "Epoch 93/250\n",
            "89/89 [==============================] - 2s 27ms/step - loss: 1.1044 - accuracy: 0.7296\n",
            "Epoch 94/250\n",
            "89/89 [==============================] - 2s 25ms/step - loss: 1.0941 - accuracy: 0.7315\n",
            "Epoch 95/250\n",
            "89/89 [==============================] - 2s 27ms/step - loss: 1.0863 - accuracy: 0.7342\n",
            "Epoch 96/250\n",
            "89/89 [==============================] - 2s 27ms/step - loss: 1.0847 - accuracy: 0.7320\n",
            "Epoch 97/250\n",
            "89/89 [==============================] - 2s 26ms/step - loss: 1.0833 - accuracy: 0.7343\n",
            "Epoch 98/250\n",
            "89/89 [==============================] - 2s 26ms/step - loss: 1.0790 - accuracy: 0.7327\n",
            "Epoch 99/250\n",
            "89/89 [==============================] - 2s 25ms/step - loss: 1.0821 - accuracy: 0.7343\n",
            "Epoch 100/250\n",
            "89/89 [==============================] - 3s 29ms/step - loss: 1.0875 - accuracy: 0.7304\n",
            "Epoch 101/250\n",
            "89/89 [==============================] - 2s 28ms/step - loss: 1.0643 - accuracy: 0.7380\n",
            "Epoch 102/250\n",
            "89/89 [==============================] - 2s 27ms/step - loss: 1.0484 - accuracy: 0.7408\n",
            "Epoch 103/250\n",
            "89/89 [==============================] - 2s 25ms/step - loss: 1.0306 - accuracy: 0.7469\n",
            "Epoch 104/250\n",
            "89/89 [==============================] - 2s 25ms/step - loss: 1.0161 - accuracy: 0.7513\n",
            "Epoch 105/250\n",
            "89/89 [==============================] - 2s 28ms/step - loss: 1.0058 - accuracy: 0.7539\n",
            "Epoch 106/250\n",
            "89/89 [==============================] - 3s 28ms/step - loss: 0.9960 - accuracy: 0.7573\n",
            "Epoch 107/250\n",
            "89/89 [==============================] - 2s 28ms/step - loss: 0.9835 - accuracy: 0.7614\n",
            "Epoch 108/250\n",
            "89/89 [==============================] - 2s 25ms/step - loss: 0.9780 - accuracy: 0.7616\n",
            "Epoch 109/250\n",
            "89/89 [==============================] - 2s 25ms/step - loss: 0.9740 - accuracy: 0.7620\n",
            "Epoch 110/250\n",
            "89/89 [==============================] - 3s 29ms/step - loss: 0.9748 - accuracy: 0.7609\n",
            "Epoch 111/250\n",
            "89/89 [==============================] - 2s 27ms/step - loss: 0.9687 - accuracy: 0.7636\n",
            "Epoch 112/250\n",
            "89/89 [==============================] - 2s 25ms/step - loss: 0.9801 - accuracy: 0.7583\n",
            "Epoch 113/250\n",
            "89/89 [==============================] - 2s 27ms/step - loss: 0.9725 - accuracy: 0.7615\n",
            "Epoch 114/250\n",
            "89/89 [==============================] - 2s 27ms/step - loss: 0.9585 - accuracy: 0.7626\n",
            "Epoch 115/250\n",
            "89/89 [==============================] - 2s 27ms/step - loss: 0.9463 - accuracy: 0.7670\n",
            "Epoch 116/250\n",
            "89/89 [==============================] - 2s 28ms/step - loss: 0.9451 - accuracy: 0.7672\n",
            "Epoch 117/250\n",
            "89/89 [==============================] - 2s 26ms/step - loss: 0.9309 - accuracy: 0.7708\n",
            "Epoch 118/250\n",
            "89/89 [==============================] - 2s 26ms/step - loss: 0.9359 - accuracy: 0.7702\n",
            "Epoch 119/250\n",
            "89/89 [==============================] - 2s 27ms/step - loss: 0.9282 - accuracy: 0.7715\n",
            "Epoch 120/250\n",
            "89/89 [==============================] - 2s 27ms/step - loss: 0.9123 - accuracy: 0.7761\n",
            "Epoch 121/250\n",
            "89/89 [==============================] - 2s 28ms/step - loss: 0.9036 - accuracy: 0.7795\n",
            "Epoch 122/250\n",
            "89/89 [==============================] - 2s 26ms/step - loss: 0.8978 - accuracy: 0.7801\n",
            "Epoch 123/250\n",
            "89/89 [==============================] - 2s 25ms/step - loss: 0.8933 - accuracy: 0.7805\n",
            "Epoch 124/250\n",
            "89/89 [==============================] - 2s 25ms/step - loss: 0.8915 - accuracy: 0.7816\n",
            "Epoch 125/250\n",
            "89/89 [==============================] - 2s 26ms/step - loss: 0.8674 - accuracy: 0.7883\n",
            "Epoch 126/250\n",
            "89/89 [==============================] - 2s 27ms/step - loss: 0.8563 - accuracy: 0.7917\n",
            "Epoch 127/250\n",
            "89/89 [==============================] - 2s 27ms/step - loss: 0.8470 - accuracy: 0.7949\n",
            "Epoch 128/250\n",
            "89/89 [==============================] - 2s 25ms/step - loss: 0.8430 - accuracy: 0.7955\n",
            "Epoch 129/250\n",
            "89/89 [==============================] - 2s 27ms/step - loss: 0.8620 - accuracy: 0.7886\n",
            "Epoch 130/250\n",
            "89/89 [==============================] - 2s 28ms/step - loss: 0.8671 - accuracy: 0.7849\n",
            "Epoch 131/250\n",
            "89/89 [==============================] - 3s 29ms/step - loss: 0.8639 - accuracy: 0.7865\n",
            "Epoch 132/250\n",
            "89/89 [==============================] - 2s 26ms/step - loss: 0.8732 - accuracy: 0.7827\n",
            "Epoch 133/250\n",
            "89/89 [==============================] - 2s 26ms/step - loss: 0.8426 - accuracy: 0.7958\n",
            "Epoch 134/250\n",
            "89/89 [==============================] - 2s 25ms/step - loss: 0.8404 - accuracy: 0.7940\n",
            "Epoch 135/250\n",
            "89/89 [==============================] - 2s 26ms/step - loss: 0.8319 - accuracy: 0.7930\n",
            "Epoch 136/250\n",
            "89/89 [==============================] - 2s 27ms/step - loss: 0.7974 - accuracy: 0.8071\n",
            "Epoch 137/250\n",
            "89/89 [==============================] - 2s 27ms/step - loss: 0.7828 - accuracy: 0.8111\n",
            "Epoch 138/250\n",
            "89/89 [==============================] - 2s 25ms/step - loss: 0.7770 - accuracy: 0.8129\n",
            "Epoch 139/250\n",
            "89/89 [==============================] - 2s 26ms/step - loss: 0.7651 - accuracy: 0.8157\n",
            "Epoch 140/250\n",
            "89/89 [==============================] - 2s 27ms/step - loss: 0.7526 - accuracy: 0.8198\n",
            "Epoch 141/250\n",
            "89/89 [==============================] - 3s 28ms/step - loss: 0.7476 - accuracy: 0.8217\n",
            "Epoch 142/250\n",
            "89/89 [==============================] - 2s 25ms/step - loss: 0.7495 - accuracy: 0.8189\n",
            "Epoch 143/250\n",
            "89/89 [==============================] - 2s 25ms/step - loss: 0.7629 - accuracy: 0.8143\n",
            "Epoch 144/250\n",
            "89/89 [==============================] - 2s 25ms/step - loss: 0.7723 - accuracy: 0.8102\n",
            "Epoch 145/250\n",
            "89/89 [==============================] - 2s 25ms/step - loss: 0.7531 - accuracy: 0.8161\n",
            "Epoch 146/250\n",
            "89/89 [==============================] - 3s 29ms/step - loss: 0.7357 - accuracy: 0.8216\n",
            "Epoch 147/250\n",
            "89/89 [==============================] - 2s 26ms/step - loss: 0.7285 - accuracy: 0.8246\n",
            "Epoch 148/250\n",
            "89/89 [==============================] - 2s 25ms/step - loss: 0.7551 - accuracy: 0.8154\n",
            "Epoch 149/250\n",
            "89/89 [==============================] - 2s 25ms/step - loss: 0.7683 - accuracy: 0.8098\n",
            "Epoch 150/250\n",
            "89/89 [==============================] - 2s 25ms/step - loss: 0.7489 - accuracy: 0.8152\n",
            "Epoch 151/250\n",
            "89/89 [==============================] - 2s 28ms/step - loss: 0.7379 - accuracy: 0.8169\n",
            "Epoch 152/250\n",
            "89/89 [==============================] - 2s 25ms/step - loss: 0.7023 - accuracy: 0.8300\n",
            "Epoch 153/250\n",
            "89/89 [==============================] - 2s 25ms/step - loss: 0.6935 - accuracy: 0.8332\n",
            "Epoch 154/250\n",
            "89/89 [==============================] - 2s 26ms/step - loss: 0.6724 - accuracy: 0.8396\n",
            "Epoch 155/250\n",
            "89/89 [==============================] - 2s 26ms/step - loss: 0.6566 - accuracy: 0.8453\n",
            "Epoch 156/250\n",
            "89/89 [==============================] - 2s 28ms/step - loss: 0.6473 - accuracy: 0.8465\n",
            "Epoch 157/250\n",
            "89/89 [==============================] - 2s 26ms/step - loss: 0.6559 - accuracy: 0.8431\n",
            "Epoch 158/250\n",
            "89/89 [==============================] - 2s 26ms/step - loss: 0.6478 - accuracy: 0.8451\n",
            "Epoch 159/250\n",
            "89/89 [==============================] - 2s 25ms/step - loss: 0.6542 - accuracy: 0.8431\n",
            "Epoch 160/250\n",
            "89/89 [==============================] - 2s 27ms/step - loss: 0.6594 - accuracy: 0.8419\n",
            "Epoch 161/250\n",
            "89/89 [==============================] - 2s 27ms/step - loss: 0.6558 - accuracy: 0.8414\n",
            "Epoch 162/250\n",
            "89/89 [==============================] - 2s 26ms/step - loss: 0.6500 - accuracy: 0.8422\n",
            "Epoch 163/250\n",
            "89/89 [==============================] - 2s 26ms/step - loss: 0.6574 - accuracy: 0.8403\n",
            "Epoch 164/250\n",
            "89/89 [==============================] - 2s 25ms/step - loss: 0.6508 - accuracy: 0.8415\n",
            "Epoch 165/250\n",
            "89/89 [==============================] - 2s 25ms/step - loss: 0.6312 - accuracy: 0.8486\n",
            "Epoch 166/250\n",
            "89/89 [==============================] - 2s 27ms/step - loss: 0.6222 - accuracy: 0.8498\n",
            "Epoch 167/250\n",
            "89/89 [==============================] - 2s 25ms/step - loss: 0.6071 - accuracy: 0.8555\n",
            "Epoch 168/250\n",
            "89/89 [==============================] - 2s 25ms/step - loss: 0.6138 - accuracy: 0.8518\n",
            "Epoch 169/250\n",
            "89/89 [==============================] - 2s 26ms/step - loss: 0.6124 - accuracy: 0.8540\n",
            "Epoch 170/250\n",
            "89/89 [==============================] - 2s 25ms/step - loss: 0.6126 - accuracy: 0.8518\n",
            "Epoch 171/250\n",
            "89/89 [==============================] - 3s 29ms/step - loss: 0.6080 - accuracy: 0.8540\n",
            "Epoch 172/250\n",
            "89/89 [==============================] - 2s 27ms/step - loss: 0.5908 - accuracy: 0.8585\n",
            "Epoch 173/250\n",
            "89/89 [==============================] - 2s 25ms/step - loss: 0.5774 - accuracy: 0.8633\n",
            "Epoch 174/250\n",
            "89/89 [==============================] - 2s 25ms/step - loss: 0.5698 - accuracy: 0.8650\n",
            "Epoch 175/250\n",
            "89/89 [==============================] - 2s 25ms/step - loss: 0.5614 - accuracy: 0.8676\n",
            "Epoch 176/250\n",
            "89/89 [==============================] - 3s 29ms/step - loss: 0.5523 - accuracy: 0.8707\n",
            "Epoch 177/250\n",
            "89/89 [==============================] - 2s 26ms/step - loss: 0.5830 - accuracy: 0.8609\n",
            "Epoch 178/250\n",
            "89/89 [==============================] - 2s 25ms/step - loss: 0.5676 - accuracy: 0.8642\n",
            "Epoch 179/250\n",
            "89/89 [==============================] - 2s 25ms/step - loss: 0.5558 - accuracy: 0.8678\n",
            "Epoch 180/250\n",
            "89/89 [==============================] - 2s 27ms/step - loss: 0.5480 - accuracy: 0.8705\n",
            "Epoch 181/250\n",
            "89/89 [==============================] - 2s 26ms/step - loss: 0.5477 - accuracy: 0.8707\n",
            "Epoch 182/250\n",
            "89/89 [==============================] - 2s 27ms/step - loss: 0.5495 - accuracy: 0.8694\n",
            "Epoch 183/250\n",
            "89/89 [==============================] - 2s 25ms/step - loss: 0.5540 - accuracy: 0.8654\n",
            "Epoch 184/250\n",
            "89/89 [==============================] - 2s 25ms/step - loss: 0.5261 - accuracy: 0.8761\n",
            "Epoch 185/250\n",
            "89/89 [==============================] - 2s 27ms/step - loss: 0.5105 - accuracy: 0.8804\n",
            "Epoch 186/250\n",
            "89/89 [==============================] - 2s 26ms/step - loss: 0.4924 - accuracy: 0.8866\n",
            "Epoch 187/250\n",
            "89/89 [==============================] - 3s 28ms/step - loss: 0.4820 - accuracy: 0.8900\n",
            "Epoch 188/250\n",
            "89/89 [==============================] - 2s 26ms/step - loss: 0.4798 - accuracy: 0.8909\n",
            "Epoch 189/250\n",
            "89/89 [==============================] - 2s 27ms/step - loss: 0.4970 - accuracy: 0.8843\n",
            "Epoch 190/250\n",
            "89/89 [==============================] - 2s 27ms/step - loss: 0.4822 - accuracy: 0.8885\n",
            "Epoch 191/250\n",
            "89/89 [==============================] - 3s 29ms/step - loss: 0.4732 - accuracy: 0.8913\n",
            "Epoch 192/250\n",
            "89/89 [==============================] - 2s 26ms/step - loss: 0.4677 - accuracy: 0.8936\n",
            "Epoch 193/250\n",
            "89/89 [==============================] - 2s 25ms/step - loss: 0.4832 - accuracy: 0.8881\n",
            "Epoch 194/250\n",
            "89/89 [==============================] - 2s 27ms/step - loss: 0.4786 - accuracy: 0.8882\n",
            "Epoch 195/250\n",
            "89/89 [==============================] - 2s 27ms/step - loss: 0.4865 - accuracy: 0.8840\n",
            "Epoch 196/250\n",
            "89/89 [==============================] - 2s 26ms/step - loss: 0.4743 - accuracy: 0.8886\n",
            "Epoch 197/250\n",
            "89/89 [==============================] - 2s 27ms/step - loss: 0.4567 - accuracy: 0.8939\n",
            "Epoch 198/250\n",
            "89/89 [==============================] - 2s 27ms/step - loss: 0.4475 - accuracy: 0.8972\n",
            "Epoch 199/250\n",
            "89/89 [==============================] - 2s 25ms/step - loss: 0.4859 - accuracy: 0.8826\n",
            "Epoch 200/250\n",
            "89/89 [==============================] - 2s 26ms/step - loss: 0.5103 - accuracy: 0.8742\n",
            "Epoch 201/250\n",
            "89/89 [==============================] - 2s 26ms/step - loss: 0.5131 - accuracy: 0.8735\n",
            "Epoch 202/250\n",
            "89/89 [==============================] - 2s 27ms/step - loss: 0.4817 - accuracy: 0.8839\n",
            "Epoch 203/250\n",
            "89/89 [==============================] - 2s 26ms/step - loss: 0.4530 - accuracy: 0.8930\n",
            "Epoch 204/250\n",
            "89/89 [==============================] - 2s 25ms/step - loss: 0.4395 - accuracy: 0.8992\n",
            "Epoch 205/250\n",
            "89/89 [==============================] - 2s 26ms/step - loss: 0.4120 - accuracy: 0.9073\n",
            "Epoch 206/250\n",
            "89/89 [==============================] - 2s 26ms/step - loss: 0.3913 - accuracy: 0.9147\n",
            "Epoch 207/250\n",
            "89/89 [==============================] - 2s 28ms/step - loss: 0.3736 - accuracy: 0.9197\n",
            "Epoch 208/250\n",
            "89/89 [==============================] - 2s 25ms/step - loss: 0.3922 - accuracy: 0.9134\n",
            "Epoch 209/250\n",
            "89/89 [==============================] - 2s 25ms/step - loss: 0.4315 - accuracy: 0.8988\n",
            "Epoch 210/250\n",
            "89/89 [==============================] - 2s 26ms/step - loss: 0.4417 - accuracy: 0.8940\n",
            "Epoch 211/250\n",
            "89/89 [==============================] - 2s 25ms/step - loss: 0.4301 - accuracy: 0.8991\n",
            "Epoch 212/250\n",
            "89/89 [==============================] - 2s 28ms/step - loss: 0.4029 - accuracy: 0.9079\n",
            "Epoch 213/250\n",
            "89/89 [==============================] - 2s 26ms/step - loss: 0.3770 - accuracy: 0.9168\n",
            "Epoch 214/250\n",
            "89/89 [==============================] - 2s 25ms/step - loss: 0.3624 - accuracy: 0.9196\n",
            "Epoch 215/250\n",
            "89/89 [==============================] - 2s 25ms/step - loss: 0.3581 - accuracy: 0.9223\n",
            "Epoch 216/250\n",
            "89/89 [==============================] - 2s 26ms/step - loss: 0.3497 - accuracy: 0.9252\n",
            "Epoch 217/250\n",
            "89/89 [==============================] - 3s 30ms/step - loss: 0.3735 - accuracy: 0.9170\n",
            "Epoch 218/250\n",
            "89/89 [==============================] - 2s 26ms/step - loss: 0.3627 - accuracy: 0.9190\n",
            "Epoch 219/250\n",
            "89/89 [==============================] - 2s 25ms/step - loss: 0.3574 - accuracy: 0.9220\n",
            "Epoch 220/250\n",
            "89/89 [==============================] - 2s 25ms/step - loss: 0.3451 - accuracy: 0.9257\n",
            "Epoch 221/250\n",
            "89/89 [==============================] - 2s 26ms/step - loss: 0.3523 - accuracy: 0.9234\n",
            "Epoch 222/250\n",
            "89/89 [==============================] - 3s 30ms/step - loss: 0.3716 - accuracy: 0.9165\n",
            "Epoch 223/250\n",
            "89/89 [==============================] - 2s 26ms/step - loss: 0.3894 - accuracy: 0.9087\n",
            "Epoch 224/250\n",
            "89/89 [==============================] - 2s 26ms/step - loss: 0.3974 - accuracy: 0.9069\n",
            "Epoch 225/250\n",
            "89/89 [==============================] - 2s 25ms/step - loss: 0.3947 - accuracy: 0.9065\n",
            "Epoch 226/250\n",
            "89/89 [==============================] - 2s 27ms/step - loss: 0.3769 - accuracy: 0.9126\n",
            "Epoch 227/250\n",
            "89/89 [==============================] - 3s 30ms/step - loss: 0.3659 - accuracy: 0.9175\n",
            "Epoch 228/250\n",
            "89/89 [==============================] - 2s 25ms/step - loss: 0.3475 - accuracy: 0.9226\n",
            "Epoch 229/250\n",
            "89/89 [==============================] - 2s 25ms/step - loss: 0.3384 - accuracy: 0.9248\n",
            "Epoch 230/250\n",
            "89/89 [==============================] - 2s 25ms/step - loss: 0.3144 - accuracy: 0.9339\n",
            "Epoch 231/250\n",
            "89/89 [==============================] - 2s 25ms/step - loss: 0.2954 - accuracy: 0.9404\n",
            "Epoch 232/250\n",
            "89/89 [==============================] - 2s 28ms/step - loss: 0.2820 - accuracy: 0.9432\n",
            "Epoch 233/250\n",
            "89/89 [==============================] - 2s 26ms/step - loss: 0.2672 - accuracy: 0.9486\n",
            "Epoch 234/250\n",
            "89/89 [==============================] - 2s 25ms/step - loss: 0.2641 - accuracy: 0.9484\n",
            "Epoch 235/250\n",
            "89/89 [==============================] - 2s 27ms/step - loss: 0.2586 - accuracy: 0.9514\n",
            "Epoch 236/250\n",
            "89/89 [==============================] - 2s 26ms/step - loss: 0.2575 - accuracy: 0.9511\n",
            "Epoch 237/250\n",
            "89/89 [==============================] - 2s 28ms/step - loss: 0.2776 - accuracy: 0.9429\n",
            "Epoch 238/250\n",
            "89/89 [==============================] - 2s 26ms/step - loss: 0.3229 - accuracy: 0.9282\n",
            "Epoch 239/250\n",
            "89/89 [==============================] - 2s 26ms/step - loss: 0.3733 - accuracy: 0.9084\n",
            "Epoch 240/250\n",
            "89/89 [==============================] - 2s 26ms/step - loss: 0.4525 - accuracy: 0.8825\n",
            "Epoch 241/250\n",
            "89/89 [==============================] - 2s 27ms/step - loss: 0.4893 - accuracy: 0.8694\n",
            "Epoch 242/250\n",
            "89/89 [==============================] - 2s 28ms/step - loss: 0.4297 - accuracy: 0.8901\n",
            "Epoch 243/250\n",
            "89/89 [==============================] - 2s 26ms/step - loss: 0.3563 - accuracy: 0.9153\n",
            "Epoch 244/250\n",
            "89/89 [==============================] - 2s 26ms/step - loss: 0.2989 - accuracy: 0.9348\n",
            "Epoch 245/250\n",
            "89/89 [==============================] - 2s 27ms/step - loss: 0.2571 - accuracy: 0.9500\n",
            "Epoch 246/250\n",
            "89/89 [==============================] - 2s 28ms/step - loss: 0.2328 - accuracy: 0.9573\n",
            "Epoch 247/250\n",
            "89/89 [==============================] - 2s 28ms/step - loss: 0.2186 - accuracy: 0.9612\n",
            "Epoch 248/250\n",
            "89/89 [==============================] - 3s 29ms/step - loss: 0.2090 - accuracy: 0.9638\n",
            "Epoch 249/250\n",
            " 1/89 [..............................] - ETA: 2s - loss: 0.1755 - accuracy: 0.9707"
          ]
        }
      ]
    },
    {
      "cell_type": "markdown",
      "source": [
        "### Download Model Object"
      ],
      "metadata": {
        "id": "Du3e3AlSJrwX"
      }
    },
    {
      "cell_type": "code",
      "source": [
        "from pickle import dump,load"
      ],
      "metadata": {
        "execution": {
          "iopub.status.busy": "2021-11-20T16:36:24.974328Z",
          "iopub.execute_input": "2021-11-20T16:36:24.975060Z",
          "iopub.status.idle": "2021-11-20T16:36:24.979192Z",
          "shell.execute_reply.started": "2021-11-20T16:36:24.975020Z",
          "shell.execute_reply": "2021-11-20T16:36:24.978045Z"
        },
        "trusted": true,
        "id": "xhYZe21tJrwX"
      },
      "execution_count": 73,
      "outputs": []
    },
    {
      "cell_type": "code",
      "source": [
        "# save the model to file\n",
        "model.save('epochBIG.h5')\n",
        "# save the tokenizer\n",
        "dump(tokenizer, open('epochBIG', 'wb'))"
      ],
      "metadata": {
        "scrolled": true,
        "execution": {
          "iopub.status.busy": "2021-11-20T16:36:26.302455Z",
          "iopub.execute_input": "2021-11-20T16:36:26.302742Z",
          "iopub.status.idle": "2021-11-20T16:36:26.383659Z",
          "shell.execute_reply.started": "2021-11-20T16:36:26.302709Z",
          "shell.execute_reply": "2021-11-20T16:36:26.382891Z"
        },
        "trusted": true,
        "id": "_UAoa-RZJrwX"
      },
      "execution_count": 74,
      "outputs": []
    },
    {
      "cell_type": "markdown",
      "source": [
        "## 6. Generating New Text"
      ],
      "metadata": {
        "id": "8TgRZRBYJrwX"
      }
    },
    {
      "cell_type": "code",
      "source": [
        "from random import randint\n",
        "from pickle import load\n",
        "from keras.models import load_model\n",
        "from keras.preprocessing.sequence import pad_sequences"
      ],
      "metadata": {
        "execution": {
          "iopub.status.busy": "2021-11-20T16:36:52.786375Z",
          "iopub.execute_input": "2021-11-20T16:36:52.786654Z",
          "iopub.status.idle": "2021-11-20T16:36:52.791214Z",
          "shell.execute_reply.started": "2021-11-20T16:36:52.786620Z",
          "shell.execute_reply": "2021-11-20T16:36:52.790094Z"
        },
        "trusted": true,
        "id": "cbHX74DEJrwX"
      },
      "execution_count": null,
      "outputs": []
    },
    {
      "cell_type": "code",
      "source": [
        "def generate_text(model, tokenizer, seq_len, seed_text, num_gen_words):\n",
        "    '''\n",
        "    INPUTS:\n",
        "    model : model that was trained on text data\n",
        "    tokenizer : tokenizer that was fit on text data\n",
        "    seq_len : length of training sequence\n",
        "    seed_text : raw string text to serve as the seed\n",
        "    num_gen_words : number of words to be generated by model\n",
        "    '''\n",
        "\n",
        "    # Final Output\n",
        "    output_text = []\n",
        "\n",
        "    # Intial Seed Sequence\n",
        "    input_text = seed_text\n",
        "\n",
        "    # Create num_gen_words\n",
        "    for i in range(num_gen_words):\n",
        "\n",
        "        # Take the input text string and encode it to a sequence\n",
        "        encoded_text = tokenizer.texts_to_sequences([input_text])[0]\n",
        "\n",
        "        # Pad sequences to our trained rate (25 words in the video)\n",
        "        pad_encoded = pad_sequences([encoded_text], maxlen=seq_len, truncating='pre')\n",
        "\n",
        "        # Predict Class Probabilities for each word\n",
        "        #pred_word_ind = model.predict_classes(pad_encoded, verbose=0)[0]\n",
        "        predict_x=model.predict(pad_encoded)\n",
        "        pred_word_ind=np.argmax(predict_x,axis=1)[0]\n",
        "        #print(pred_word_ind)\n",
        "        # Grab word\n",
        "        pred_word = tokenizer.index_word[pred_word_ind]\n",
        "\n",
        "        # Update the sequence of input text (shifting one over with the new word)\n",
        "        input_text += ' ' + pred_word\n",
        "\n",
        "        output_text.append(pred_word)\n",
        "\n",
        "    # Make it look like a sentence.\n",
        "    return ' '.join(output_text)"
      ],
      "metadata": {
        "execution": {
          "iopub.status.busy": "2021-11-20T16:37:16.771265Z",
          "iopub.execute_input": "2021-11-20T16:37:16.771678Z",
          "iopub.status.idle": "2021-11-20T16:37:16.782743Z",
          "shell.execute_reply.started": "2021-11-20T16:37:16.771633Z",
          "shell.execute_reply": "2021-11-20T16:37:16.781849Z"
        },
        "trusted": true,
        "id": "VKa3zZyFJrwY"
      },
      "execution_count": 75,
      "outputs": []
    },
    {
      "cell_type": "markdown",
      "source": [
        "## 7. Grab a random Text Sequence"
      ],
      "metadata": {
        "id": "fCiHKZPMJrwY"
      }
    },
    {
      "cell_type": "code",
      "source": [
        "print(text_sequences[0])"
      ],
      "metadata": {
        "execution": {
          "iopub.status.busy": "2021-11-20T16:37:28.126442Z",
          "iopub.execute_input": "2021-11-20T16:37:28.126713Z",
          "iopub.status.idle": "2021-11-20T16:37:28.131913Z",
          "shell.execute_reply.started": "2021-11-20T16:37:28.126681Z",
          "shell.execute_reply": "2021-11-20T16:37:28.131128Z"
        },
        "trusted": true,
        "colab": {
          "base_uri": "https://localhost:8080/"
        },
        "id": "2gpvbeclJrwY",
        "outputId": "174b2614-f0ce-41e4-dcbb-a83f96a17fa2"
      },
      "execution_count": 76,
      "outputs": [
        {
          "output_type": "stream",
          "name": "stdout",
          "text": [
            "['chapter', '1', 'loomings', 'call', 'me', 'ishmael', 'some', 'years', 'ago', 'never', 'mind', 'how', 'long', 'precisely', 'having', 'little', 'or', 'no', 'money', 'in', 'my', 'purse', 'and', 'nothing', 'particular', 'to']\n"
          ]
        }
      ]
    },
    {
      "cell_type": "code",
      "source": [
        "import random\n",
        "random_pick = random.randint(0,len(text_sequences))"
      ],
      "metadata": {
        "execution": {
          "iopub.status.busy": "2021-11-20T16:37:30.041448Z",
          "iopub.execute_input": "2021-11-20T16:37:30.042068Z",
          "iopub.status.idle": "2021-11-20T16:37:30.046434Z",
          "shell.execute_reply.started": "2021-11-20T16:37:30.042021Z",
          "shell.execute_reply": "2021-11-20T16:37:30.045312Z"
        },
        "trusted": true,
        "id": "bWFq_iTvJrwY"
      },
      "execution_count": 77,
      "outputs": []
    },
    {
      "cell_type": "code",
      "source": [
        "random_seed_text = text_sequences[random_pick]"
      ],
      "metadata": {
        "execution": {
          "iopub.status.busy": "2021-11-20T16:37:31.844613Z",
          "iopub.execute_input": "2021-11-20T16:37:31.845195Z",
          "iopub.status.idle": "2021-11-20T16:37:31.848788Z",
          "shell.execute_reply.started": "2021-11-20T16:37:31.845154Z",
          "shell.execute_reply": "2021-11-20T16:37:31.847994Z"
        },
        "trusted": true,
        "id": "JLbr90YcJrwZ"
      },
      "execution_count": 78,
      "outputs": []
    },
    {
      "cell_type": "code",
      "source": [
        "print(random_seed_text)"
      ],
      "metadata": {
        "execution": {
          "iopub.status.busy": "2021-11-20T16:37:39.477314Z",
          "iopub.execute_input": "2021-11-20T16:37:39.477576Z",
          "iopub.status.idle": "2021-11-20T16:37:39.484502Z",
          "shell.execute_reply.started": "2021-11-20T16:37:39.477544Z",
          "shell.execute_reply": "2021-11-20T16:37:39.482983Z"
        },
        "trusted": true,
        "colab": {
          "base_uri": "https://localhost:8080/"
        },
        "id": "3aAJBc5BJrwZ",
        "outputId": "a2fda103-e211-4da3-f0c2-a79fc18f7bf9"
      },
      "execution_count": 79,
      "outputs": [
        {
          "output_type": "stream",
          "name": "stdout",
          "text": [
            "['take', 'my', 'word', 'for', 'it', 'you', 'never', 'saw', 'such', 'a', 'rare', 'old', 'craft', 'as', 'this', 'same', 'rare', 'old', 'pequod', 'she', 'was', 'a', 'ship', 'of', 'the', 'old']\n"
          ]
        }
      ]
    },
    {
      "cell_type": "code",
      "source": [
        "seed_text = ' '.join(random_seed_text)\n",
        "seed_text"
      ],
      "metadata": {
        "execution": {
          "iopub.status.busy": "2021-11-20T16:37:42.706223Z",
          "iopub.execute_input": "2021-11-20T16:37:42.706493Z",
          "iopub.status.idle": "2021-11-20T16:37:42.711981Z",
          "shell.execute_reply.started": "2021-11-20T16:37:42.706461Z",
          "shell.execute_reply": "2021-11-20T16:37:42.710855Z"
        },
        "trusted": true,
        "colab": {
          "base_uri": "https://localhost:8080/",
          "height": 36
        },
        "id": "AHlIK8dEJrwZ",
        "outputId": "b8334014-94fb-480d-f502-7205de9c0894"
      },
      "execution_count": 80,
      "outputs": [
        {
          "output_type": "execute_result",
          "data": {
            "text/plain": [
              "'take my word for it you never saw such a rare old craft as this same rare old pequod she was a ship of the old'"
            ],
            "application/vnd.google.colaboratory.intrinsic+json": {
              "type": "string"
            }
          },
          "metadata": {},
          "execution_count": 80
        }
      ]
    },
    {
      "cell_type": "code",
      "source": [
        "model = load_model('epochBIG.h5')"
      ],
      "metadata": {
        "execution": {
          "iopub.status.busy": "2021-11-20T16:37:48.916279Z",
          "iopub.execute_input": "2021-11-20T16:37:48.916602Z",
          "iopub.status.idle": "2021-11-20T16:37:49.440778Z",
          "shell.execute_reply.started": "2021-11-20T16:37:48.916564Z",
          "shell.execute_reply": "2021-11-20T16:37:49.440058Z"
        },
        "trusted": true,
        "id": "Hw_lDyx4Jrwa"
      },
      "execution_count": 81,
      "outputs": []
    },
    {
      "cell_type": "code",
      "source": [
        "tokenizer = load(open('epochBIG', 'rb'))"
      ],
      "metadata": {
        "execution": {
          "iopub.status.busy": "2021-11-20T16:37:51.633034Z",
          "iopub.execute_input": "2021-11-20T16:37:51.633597Z",
          "iopub.status.idle": "2021-11-20T16:37:51.649065Z",
          "shell.execute_reply.started": "2021-11-20T16:37:51.633554Z",
          "shell.execute_reply": "2021-11-20T16:37:51.648321Z"
        },
        "trusted": true,
        "id": "sjLFkPbjJrwa"
      },
      "execution_count": 82,
      "outputs": []
    },
    {
      "cell_type": "code",
      "source": [
        "generate_text(model,tokenizer,seq_len,seed_text=seed_text,num_gen_words=3)"
      ],
      "metadata": {
        "execution": {
          "iopub.status.busy": "2021-11-20T16:38:11.751635Z",
          "iopub.execute_input": "2021-11-20T16:38:11.752481Z",
          "iopub.status.idle": "2021-11-20T16:38:12.459876Z",
          "shell.execute_reply.started": "2021-11-20T16:38:11.752441Z",
          "shell.execute_reply": "2021-11-20T16:38:12.459188Z"
        },
        "trusted": true,
        "colab": {
          "base_uri": "https://localhost:8080/",
          "height": 88
        },
        "id": "9jMp6HTgJrwa",
        "outputId": "902f9970-ca7a-4859-a6aa-de6bc4013aed"
      },
      "execution_count": 83,
      "outputs": [
        {
          "output_type": "stream",
          "name": "stdout",
          "text": [
            "1/1 [==============================] - 1s 581ms/step\n",
            "1/1 [==============================] - 0s 18ms/step\n",
            "1/1 [==============================] - 0s 17ms/step\n"
          ]
        },
        {
          "output_type": "execute_result",
          "data": {
            "text/plain": [
              "'school rather small'"
            ],
            "application/vnd.google.colaboratory.intrinsic+json": {
              "type": "string"
            }
          },
          "metadata": {},
          "execution_count": 83
        }
      ]
    },
    {
      "cell_type": "code",
      "source": [
        "text=' It is a way I have of driving off the spleen and regulating the circulation.  Whenever I find'\n",
        "print(text)"
      ],
      "metadata": {
        "execution": {
          "iopub.status.busy": "2021-11-20T16:39:20.486263Z",
          "iopub.execute_input": "2021-11-20T16:39:20.486518Z",
          "iopub.status.idle": "2021-11-20T16:39:20.490645Z",
          "shell.execute_reply.started": "2021-11-20T16:39:20.486488Z",
          "shell.execute_reply": "2021-11-20T16:39:20.489963Z"
        },
        "trusted": true,
        "colab": {
          "base_uri": "https://localhost:8080/"
        },
        "id": "vGm1L-iWJrwa",
        "outputId": "e2c654f4-d78b-4069-c131-535a1276c1a1"
      },
      "execution_count": 84,
      "outputs": [
        {
          "output_type": "stream",
          "name": "stdout",
          "text": [
            " It is a way I have of driving off the spleen and regulating the circulation.  Whenever I find\n"
          ]
        }
      ]
    },
    {
      "cell_type": "code",
      "source": [
        "generate_text(model,tokenizer,seq_len,seed_text=text,num_gen_words=3)"
      ],
      "metadata": {
        "execution": {
          "iopub.status.busy": "2021-11-20T16:39:30.256536Z",
          "iopub.execute_input": "2021-11-20T16:39:30.256826Z",
          "iopub.status.idle": "2021-11-20T16:39:30.374387Z",
          "shell.execute_reply.started": "2021-11-20T16:39:30.256774Z",
          "shell.execute_reply": "2021-11-20T16:39:30.373659Z"
        },
        "trusted": true,
        "colab": {
          "base_uri": "https://localhost:8080/",
          "height": 88
        },
        "id": "EnVTO5osJrwb",
        "outputId": "00c985b4-5953-478d-bf30-c7ed650c1418"
      },
      "execution_count": 85,
      "outputs": [
        {
          "output_type": "stream",
          "name": "stdout",
          "text": [
            "1/1 [==============================] - 0s 19ms/step\n",
            "1/1 [==============================] - 0s 17ms/step\n",
            "1/1 [==============================] - 0s 18ms/step\n"
          ]
        },
        {
          "output_type": "execute_result",
          "data": {
            "text/plain": [
              "'it tell queequeg'"
            ],
            "application/vnd.google.colaboratory.intrinsic+json": {
              "type": "string"
            }
          },
          "metadata": {},
          "execution_count": 85
        }
      ]
    },
    {
      "cell_type": "code",
      "source": [
        "print(read_file('/content/Novel - Moby-Dick By Herman Melville.txt')[250000:251000])"
      ],
      "metadata": {
        "scrolled": true,
        "execution": {
          "iopub.status.busy": "2021-11-20T16:41:47.972215Z",
          "iopub.execute_input": "2021-11-20T16:41:47.973069Z",
          "iopub.status.idle": "2021-11-20T16:41:47.982643Z",
          "shell.execute_reply.started": "2021-11-20T16:41:47.973029Z",
          "shell.execute_reply": "2021-11-20T16:41:47.981155Z"
        },
        "trusted": true,
        "colab": {
          "base_uri": "https://localhost:8080/"
        },
        "id": "yiYu-BWaJrwb",
        "outputId": "1f7784c1-d64a-4088-e21b-27f9f46d2f7a"
      },
      "execution_count": 86,
      "outputs": [
        {
          "output_type": "stream",
          "name": "stdout",
          "text": [
            "\n"
          ]
        }
      ]
    },
    {
      "cell_type": "code",
      "source": [
        "test_text='Three better,more likely sea-officers and men, each in his own different way,could not readily be found, and they were every'\n",
        "print(test_text)"
      ],
      "metadata": {
        "execution": {
          "iopub.status.busy": "2021-11-20T16:44:48.821574Z",
          "iopub.execute_input": "2021-11-20T16:44:48.821861Z",
          "iopub.status.idle": "2021-11-20T16:44:48.826424Z",
          "shell.execute_reply.started": "2021-11-20T16:44:48.821827Z",
          "shell.execute_reply": "2021-11-20T16:44:48.825507Z"
        },
        "trusted": true,
        "colab": {
          "base_uri": "https://localhost:8080/"
        },
        "id": "-QBILKGRJrwb",
        "outputId": "6b8df879-5b92-4a90-f96e-698a7728332d"
      },
      "execution_count": 87,
      "outputs": [
        {
          "output_type": "stream",
          "name": "stdout",
          "text": [
            "Three better,more likely sea-officers and men, each in his own different way,could not readily be found, and they were every\n"
          ]
        }
      ]
    },
    {
      "cell_type": "code",
      "source": [
        "generate_text(model,tokenizer,seq_len,seed_text=test_text,num_gen_words=1)"
      ],
      "metadata": {
        "execution": {
          "iopub.status.busy": "2021-11-20T16:45:51.364504Z",
          "iopub.execute_input": "2021-11-20T16:45:51.364775Z",
          "iopub.status.idle": "2021-11-20T16:45:51.412311Z",
          "shell.execute_reply.started": "2021-11-20T16:45:51.364739Z",
          "shell.execute_reply": "2021-11-20T16:45:51.411630Z"
        },
        "trusted": true,
        "colab": {
          "base_uri": "https://localhost:8080/",
          "height": 53
        },
        "id": "lROedKARJrwb",
        "outputId": "31bd47de-0ed4-4bd3-aa04-61f747cecf3a"
      },
      "execution_count": 88,
      "outputs": [
        {
          "output_type": "stream",
          "name": "stdout",
          "text": [
            "1/1 [==============================] - 0s 19ms/step\n"
          ]
        },
        {
          "output_type": "execute_result",
          "data": {
            "text/plain": [
              "'day'"
            ],
            "application/vnd.google.colaboratory.intrinsic+json": {
              "type": "string"
            }
          },
          "metadata": {},
          "execution_count": 88
        }
      ]
    },
    {
      "cell_type": "code",
      "source": [
        "seed_text = \"landsman has had fresh fruit to his daily hand and broken the world 's fresh bread to my mouldy crusts away whole oceans away from that\""
      ],
      "metadata": {
        "trusted": true,
        "id": "DNf0zYjRJrwc"
      },
      "execution_count": 89,
      "outputs": []
    },
    {
      "cell_type": "code",
      "source": [
        "generate_text(model,tokenizer,seq_len,seed_text=seed_text,num_gen_words=300)"
      ],
      "metadata": {
        "trusted": true,
        "colab": {
          "base_uri": "https://localhost:8080/",
          "height": 1000
        },
        "id": "LNGm3nVJJrwc",
        "outputId": "e317bbdc-83b3-455b-8b54-70ca3b685200"
      },
      "execution_count": 93,
      "outputs": [
        {
          "output_type": "stream",
          "name": "stdout",
          "text": [
            "1/1 [==============================] - 0s 19ms/step\n",
            "1/1 [==============================] - 0s 17ms/step\n",
            "1/1 [==============================] - 0s 18ms/step\n",
            "1/1 [==============================] - 0s 17ms/step\n",
            "1/1 [==============================] - 0s 17ms/step\n",
            "1/1 [==============================] - 0s 17ms/step\n",
            "1/1 [==============================] - 0s 17ms/step\n",
            "1/1 [==============================] - 0s 18ms/step\n",
            "1/1 [==============================] - 0s 17ms/step\n",
            "1/1 [==============================] - 0s 17ms/step\n",
            "1/1 [==============================] - 0s 18ms/step\n",
            "1/1 [==============================] - 0s 24ms/step\n",
            "1/1 [==============================] - 0s 17ms/step\n",
            "1/1 [==============================] - 0s 18ms/step\n",
            "1/1 [==============================] - 0s 18ms/step\n",
            "1/1 [==============================] - 0s 20ms/step\n",
            "1/1 [==============================] - 0s 17ms/step\n",
            "1/1 [==============================] - 0s 18ms/step\n",
            "1/1 [==============================] - 0s 18ms/step\n",
            "1/1 [==============================] - 0s 17ms/step\n",
            "1/1 [==============================] - 0s 18ms/step\n",
            "1/1 [==============================] - 0s 18ms/step\n",
            "1/1 [==============================] - 0s 17ms/step\n",
            "1/1 [==============================] - 0s 17ms/step\n",
            "1/1 [==============================] - 0s 19ms/step\n",
            "1/1 [==============================] - 0s 19ms/step\n",
            "1/1 [==============================] - 0s 17ms/step\n",
            "1/1 [==============================] - 0s 19ms/step\n",
            "1/1 [==============================] - 0s 19ms/step\n",
            "1/1 [==============================] - 0s 17ms/step\n",
            "1/1 [==============================] - 0s 19ms/step\n",
            "1/1 [==============================] - 0s 18ms/step\n",
            "1/1 [==============================] - 0s 18ms/step\n",
            "1/1 [==============================] - 0s 17ms/step\n",
            "1/1 [==============================] - 0s 17ms/step\n",
            "1/1 [==============================] - 0s 18ms/step\n",
            "1/1 [==============================] - 0s 17ms/step\n",
            "1/1 [==============================] - 0s 18ms/step\n",
            "1/1 [==============================] - 0s 20ms/step\n",
            "1/1 [==============================] - 0s 17ms/step\n",
            "1/1 [==============================] - 0s 17ms/step\n",
            "1/1 [==============================] - 0s 17ms/step\n",
            "1/1 [==============================] - 0s 17ms/step\n",
            "1/1 [==============================] - 0s 17ms/step\n",
            "1/1 [==============================] - 0s 17ms/step\n",
            "1/1 [==============================] - 0s 18ms/step\n",
            "1/1 [==============================] - 0s 19ms/step\n",
            "1/1 [==============================] - 0s 17ms/step\n",
            "1/1 [==============================] - 0s 17ms/step\n",
            "1/1 [==============================] - 0s 17ms/step\n",
            "1/1 [==============================] - 0s 17ms/step\n",
            "1/1 [==============================] - 0s 18ms/step\n",
            "1/1 [==============================] - 0s 18ms/step\n",
            "1/1 [==============================] - 0s 19ms/step\n",
            "1/1 [==============================] - 0s 20ms/step\n",
            "1/1 [==============================] - 0s 17ms/step\n",
            "1/1 [==============================] - 0s 17ms/step\n",
            "1/1 [==============================] - 0s 17ms/step\n",
            "1/1 [==============================] - 0s 17ms/step\n",
            "1/1 [==============================] - 0s 17ms/step\n",
            "1/1 [==============================] - 0s 17ms/step\n",
            "1/1 [==============================] - 0s 17ms/step\n",
            "1/1 [==============================] - 0s 17ms/step\n",
            "1/1 [==============================] - 0s 18ms/step\n",
            "1/1 [==============================] - 0s 24ms/step\n",
            "1/1 [==============================] - 0s 18ms/step\n",
            "1/1 [==============================] - 0s 18ms/step\n",
            "1/1 [==============================] - 0s 17ms/step\n",
            "1/1 [==============================] - 0s 18ms/step\n",
            "1/1 [==============================] - 0s 17ms/step\n",
            "1/1 [==============================] - 0s 17ms/step\n",
            "1/1 [==============================] - 0s 17ms/step\n",
            "1/1 [==============================] - 0s 19ms/step\n",
            "1/1 [==============================] - 0s 17ms/step\n",
            "1/1 [==============================] - 0s 20ms/step\n",
            "1/1 [==============================] - 0s 17ms/step\n",
            "1/1 [==============================] - 0s 17ms/step\n",
            "1/1 [==============================] - 0s 17ms/step\n",
            "1/1 [==============================] - 0s 17ms/step\n",
            "1/1 [==============================] - 0s 17ms/step\n",
            "1/1 [==============================] - 0s 17ms/step\n",
            "1/1 [==============================] - 0s 17ms/step\n",
            "1/1 [==============================] - 0s 18ms/step\n",
            "1/1 [==============================] - 0s 17ms/step\n",
            "1/1 [==============================] - 0s 20ms/step\n",
            "1/1 [==============================] - 0s 17ms/step\n",
            "1/1 [==============================] - 0s 17ms/step\n",
            "1/1 [==============================] - 0s 18ms/step\n",
            "1/1 [==============================] - 0s 17ms/step\n",
            "1/1 [==============================] - 0s 18ms/step\n",
            "1/1 [==============================] - 0s 18ms/step\n",
            "1/1 [==============================] - 0s 18ms/step\n",
            "1/1 [==============================] - 0s 17ms/step\n",
            "1/1 [==============================] - 0s 18ms/step\n",
            "1/1 [==============================] - 0s 18ms/step\n",
            "1/1 [==============================] - 0s 17ms/step\n",
            "1/1 [==============================] - 0s 19ms/step\n",
            "1/1 [==============================] - 0s 20ms/step\n",
            "1/1 [==============================] - 0s 18ms/step\n",
            "1/1 [==============================] - 0s 20ms/step\n",
            "1/1 [==============================] - 0s 18ms/step\n",
            "1/1 [==============================] - 0s 18ms/step\n",
            "1/1 [==============================] - 0s 18ms/step\n",
            "1/1 [==============================] - 0s 18ms/step\n",
            "1/1 [==============================] - 0s 17ms/step\n",
            "1/1 [==============================] - 0s 20ms/step\n",
            "1/1 [==============================] - 0s 18ms/step\n",
            "1/1 [==============================] - 0s 17ms/step\n",
            "1/1 [==============================] - 0s 18ms/step\n",
            "1/1 [==============================] - 0s 17ms/step\n",
            "1/1 [==============================] - 0s 18ms/step\n",
            "1/1 [==============================] - 0s 18ms/step\n",
            "1/1 [==============================] - 0s 24ms/step\n",
            "1/1 [==============================] - 0s 29ms/step\n",
            "1/1 [==============================] - 0s 28ms/step\n",
            "1/1 [==============================] - 0s 40ms/step\n",
            "1/1 [==============================] - 0s 26ms/step\n",
            "1/1 [==============================] - 0s 25ms/step\n",
            "1/1 [==============================] - 0s 27ms/step\n",
            "1/1 [==============================] - 0s 27ms/step\n",
            "1/1 [==============================] - 0s 25ms/step\n",
            "1/1 [==============================] - 0s 25ms/step\n",
            "1/1 [==============================] - 0s 25ms/step\n",
            "1/1 [==============================] - 0s 26ms/step\n",
            "1/1 [==============================] - 0s 24ms/step\n",
            "1/1 [==============================] - 0s 31ms/step\n",
            "1/1 [==============================] - 0s 25ms/step\n",
            "1/1 [==============================] - 0s 28ms/step\n",
            "1/1 [==============================] - 0s 26ms/step\n",
            "1/1 [==============================] - 0s 27ms/step\n",
            "1/1 [==============================] - 0s 29ms/step\n",
            "1/1 [==============================] - 0s 32ms/step\n",
            "1/1 [==============================] - 0s 27ms/step\n",
            "1/1 [==============================] - 0s 27ms/step\n",
            "1/1 [==============================] - 0s 21ms/step\n",
            "1/1 [==============================] - 0s 17ms/step\n",
            "1/1 [==============================] - 0s 17ms/step\n",
            "1/1 [==============================] - 0s 18ms/step\n",
            "1/1 [==============================] - 0s 17ms/step\n",
            "1/1 [==============================] - 0s 18ms/step\n",
            "1/1 [==============================] - 0s 17ms/step\n",
            "1/1 [==============================] - 0s 17ms/step\n",
            "1/1 [==============================] - 0s 17ms/step\n",
            "1/1 [==============================] - 0s 16ms/step\n",
            "1/1 [==============================] - 0s 18ms/step\n",
            "1/1 [==============================] - 0s 20ms/step\n",
            "1/1 [==============================] - 0s 17ms/step\n",
            "1/1 [==============================] - 0s 17ms/step\n",
            "1/1 [==============================] - 0s 17ms/step\n",
            "1/1 [==============================] - 0s 17ms/step\n",
            "1/1 [==============================] - 0s 20ms/step\n",
            "1/1 [==============================] - 0s 17ms/step\n",
            "1/1 [==============================] - 0s 16ms/step\n",
            "1/1 [==============================] - 0s 17ms/step\n",
            "1/1 [==============================] - 0s 17ms/step\n",
            "1/1 [==============================] - 0s 17ms/step\n",
            "1/1 [==============================] - 0s 17ms/step\n",
            "1/1 [==============================] - 0s 17ms/step\n",
            "1/1 [==============================] - 0s 20ms/step\n",
            "1/1 [==============================] - 0s 17ms/step\n",
            "1/1 [==============================] - 0s 17ms/step\n",
            "1/1 [==============================] - 0s 17ms/step\n",
            "1/1 [==============================] - 0s 17ms/step\n",
            "1/1 [==============================] - 0s 17ms/step\n",
            "1/1 [==============================] - 0s 20ms/step\n",
            "1/1 [==============================] - 0s 18ms/step\n",
            "1/1 [==============================] - 0s 17ms/step\n",
            "1/1 [==============================] - 0s 17ms/step\n",
            "1/1 [==============================] - 0s 18ms/step\n",
            "1/1 [==============================] - 0s 18ms/step\n",
            "1/1 [==============================] - 0s 17ms/step\n",
            "1/1 [==============================] - 0s 19ms/step\n",
            "1/1 [==============================] - 0s 17ms/step\n",
            "1/1 [==============================] - 0s 17ms/step\n",
            "1/1 [==============================] - 0s 17ms/step\n",
            "1/1 [==============================] - 0s 17ms/step\n",
            "1/1 [==============================] - 0s 21ms/step\n",
            "1/1 [==============================] - 0s 17ms/step\n",
            "1/1 [==============================] - 0s 17ms/step\n",
            "1/1 [==============================] - 0s 16ms/step\n",
            "1/1 [==============================] - 0s 17ms/step\n",
            "1/1 [==============================] - 0s 18ms/step\n",
            "1/1 [==============================] - 0s 17ms/step\n",
            "1/1 [==============================] - 0s 17ms/step\n",
            "1/1 [==============================] - 0s 18ms/step\n",
            "1/1 [==============================] - 0s 17ms/step\n",
            "1/1 [==============================] - 0s 17ms/step\n",
            "1/1 [==============================] - 0s 17ms/step\n",
            "1/1 [==============================] - 0s 17ms/step\n",
            "1/1 [==============================] - 0s 18ms/step\n",
            "1/1 [==============================] - 0s 17ms/step\n",
            "1/1 [==============================] - 0s 19ms/step\n",
            "1/1 [==============================] - 0s 18ms/step\n",
            "1/1 [==============================] - 0s 17ms/step\n",
            "1/1 [==============================] - 0s 18ms/step\n",
            "1/1 [==============================] - 0s 19ms/step\n",
            "1/1 [==============================] - 0s 21ms/step\n",
            "1/1 [==============================] - 0s 17ms/step\n",
            "1/1 [==============================] - 0s 17ms/step\n",
            "1/1 [==============================] - 0s 18ms/step\n",
            "1/1 [==============================] - 0s 17ms/step\n",
            "1/1 [==============================] - 0s 17ms/step\n",
            "1/1 [==============================] - 0s 17ms/step\n",
            "1/1 [==============================] - 0s 17ms/step\n",
            "1/1 [==============================] - 0s 19ms/step\n",
            "1/1 [==============================] - 0s 18ms/step\n",
            "1/1 [==============================] - 0s 17ms/step\n",
            "1/1 [==============================] - 0s 18ms/step\n",
            "1/1 [==============================] - 0s 18ms/step\n",
            "1/1 [==============================] - 0s 18ms/step\n",
            "1/1 [==============================] - 0s 17ms/step\n",
            "1/1 [==============================] - 0s 18ms/step\n",
            "1/1 [==============================] - 0s 17ms/step\n",
            "1/1 [==============================] - 0s 17ms/step\n",
            "1/1 [==============================] - 0s 17ms/step\n",
            "1/1 [==============================] - 0s 17ms/step\n",
            "1/1 [==============================] - 0s 17ms/step\n",
            "1/1 [==============================] - 0s 17ms/step\n",
            "1/1 [==============================] - 0s 17ms/step\n",
            "1/1 [==============================] - 0s 18ms/step\n",
            "1/1 [==============================] - 0s 19ms/step\n",
            "1/1 [==============================] - 0s 21ms/step\n",
            "1/1 [==============================] - 0s 17ms/step\n",
            "1/1 [==============================] - 0s 17ms/step\n",
            "1/1 [==============================] - 0s 18ms/step\n",
            "1/1 [==============================] - 0s 19ms/step\n",
            "1/1 [==============================] - 0s 21ms/step\n",
            "1/1 [==============================] - 0s 28ms/step\n",
            "1/1 [==============================] - 0s 18ms/step\n",
            "1/1 [==============================] - 0s 18ms/step\n",
            "1/1 [==============================] - 0s 18ms/step\n",
            "1/1 [==============================] - 0s 18ms/step\n",
            "1/1 [==============================] - 0s 17ms/step\n",
            "1/1 [==============================] - 0s 18ms/step\n",
            "1/1 [==============================] - 0s 17ms/step\n",
            "1/1 [==============================] - 0s 18ms/step\n",
            "1/1 [==============================] - 0s 29ms/step\n",
            "1/1 [==============================] - 0s 18ms/step\n",
            "1/1 [==============================] - 0s 21ms/step\n",
            "1/1 [==============================] - 0s 17ms/step\n",
            "1/1 [==============================] - 0s 18ms/step\n",
            "1/1 [==============================] - 0s 17ms/step\n",
            "1/1 [==============================] - 0s 17ms/step\n",
            "1/1 [==============================] - 0s 18ms/step\n",
            "1/1 [==============================] - 0s 18ms/step\n",
            "1/1 [==============================] - 0s 18ms/step\n",
            "1/1 [==============================] - 0s 18ms/step\n",
            "1/1 [==============================] - 0s 20ms/step\n",
            "1/1 [==============================] - 0s 17ms/step\n",
            "1/1 [==============================] - 0s 17ms/step\n",
            "1/1 [==============================] - 0s 17ms/step\n",
            "1/1 [==============================] - 0s 17ms/step\n",
            "1/1 [==============================] - 0s 17ms/step\n",
            "1/1 [==============================] - 0s 18ms/step\n",
            "1/1 [==============================] - 0s 19ms/step\n",
            "1/1 [==============================] - 0s 21ms/step\n",
            "1/1 [==============================] - 0s 19ms/step\n",
            "1/1 [==============================] - 0s 18ms/step\n",
            "1/1 [==============================] - 0s 17ms/step\n",
            "1/1 [==============================] - 0s 17ms/step\n",
            "1/1 [==============================] - 0s 17ms/step\n",
            "1/1 [==============================] - 0s 17ms/step\n",
            "1/1 [==============================] - 0s 17ms/step\n",
            "1/1 [==============================] - 0s 18ms/step\n",
            "1/1 [==============================] - 0s 19ms/step\n",
            "1/1 [==============================] - 0s 18ms/step\n",
            "1/1 [==============================] - 0s 17ms/step\n",
            "1/1 [==============================] - 0s 18ms/step\n",
            "1/1 [==============================] - 0s 18ms/step\n",
            "1/1 [==============================] - 0s 17ms/step\n",
            "1/1 [==============================] - 0s 18ms/step\n",
            "1/1 [==============================] - 0s 22ms/step\n",
            "1/1 [==============================] - 0s 20ms/step\n",
            "1/1 [==============================] - 0s 20ms/step\n",
            "1/1 [==============================] - 0s 19ms/step\n",
            "1/1 [==============================] - 0s 18ms/step\n",
            "1/1 [==============================] - 0s 18ms/step\n",
            "1/1 [==============================] - 0s 18ms/step\n",
            "1/1 [==============================] - 0s 18ms/step\n",
            "1/1 [==============================] - 0s 19ms/step\n",
            "1/1 [==============================] - 0s 20ms/step\n",
            "1/1 [==============================] - 0s 19ms/step\n",
            "1/1 [==============================] - 0s 22ms/step\n",
            "1/1 [==============================] - 0s 18ms/step\n",
            "1/1 [==============================] - 0s 19ms/step\n",
            "1/1 [==============================] - 0s 18ms/step\n",
            "1/1 [==============================] - 0s 17ms/step\n",
            "1/1 [==============================] - 0s 24ms/step\n",
            "1/1 [==============================] - 0s 18ms/step\n",
            "1/1 [==============================] - 0s 18ms/step\n",
            "1/1 [==============================] - 0s 18ms/step\n",
            "1/1 [==============================] - 0s 18ms/step\n",
            "1/1 [==============================] - 0s 19ms/step\n",
            "1/1 [==============================] - 0s 18ms/step\n",
            "1/1 [==============================] - 0s 29ms/step\n",
            "1/1 [==============================] - 0s 28ms/step\n",
            "1/1 [==============================] - 0s 28ms/step\n",
            "1/1 [==============================] - 0s 26ms/step\n",
            "1/1 [==============================] - 0s 26ms/step\n",
            "1/1 [==============================] - 0s 25ms/step\n"
          ]
        },
        {
          "output_type": "execute_result",
          "data": {
            "text/plain": [
              "'important subject or more like a man comfortably in that respect you had only at last rising in some other at first watery word if for shall they have been carted to make to pour shipmates therein i are all over the half behind must have told him in some time to settle a shirt or deacon deuteronomy than him which joy the man casts me that continuous eyes or after the pilot of a man was sweet knocking this confidence with a may got but all the fact of the fishery in the ships yet flingers of me and to spring bildad did this biscuit and worthy that with a regular chief in by polished agony do that growl twos and wail in hand and judges delight,--top than poor that dumplings ye will have a little damaged so harpooneer you stand a long breath that cried that because more lay my friends was sin stubb come visit the whole to find of him though terrors of it doubtless yourself centre upon lath and plaster tied to engage for woe of the room the architect stood the other employed of sun said that perry dood or macy and samuel person have pitched ahab the dearest element of tennessee and selecting our log and exactly the beaches of benjamin the world worth it was what in a countryman this sudden but with a certain good captain while he had like that down for the floor of a wide primal horns pertaining of their native pocket but said the white moon shows affghanistan his dreadful temple and exasperating permitted will quaked once for such the door we will just seemed shone god begged such man was a tent would be drawing over many a mortal combat and deeply intimate with the long'"
            ],
            "application/vnd.google.colaboratory.intrinsic+json": {
              "type": "string"
            }
          },
          "metadata": {},
          "execution_count": 93
        }
      ]
    }
  ]
}