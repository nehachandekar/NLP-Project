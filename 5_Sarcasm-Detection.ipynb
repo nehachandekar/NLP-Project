{
 "cells": [
  {
   "cell_type": "markdown",
   "id": "2606cd13",
   "metadata": {},
   "source": [
    "# Main Library"
   ]
  },
  {
   "cell_type": "code",
   "execution_count": 1,
   "id": "f1af765f",
   "metadata": {},
   "outputs": [],
   "source": [
    "# Reading Data\n",
    "import json, os\n",
    "import numpy as np\n",
    "import pandas as pd\n",
    "import matplotlib.pyplot as plt\n",
    "\n",
    "# Data Preprocessing \n",
    "import re, nltk, string\n",
    "from nltk.corpus import stopwords\n",
    "from nltk.tokenize import word_tokenize\n",
    "from nltk.stem import WordNetLemmatizer\n",
    "from tensorflow.keras.utils import to_categorical\n",
    "from sklearn.model_selection import train_test_split\n",
    "from tensorflow.keras.preprocessing.text import Tokenizer\n",
    "from tensorflow.keras.preprocessing.sequence import pad_sequences\n",
    "\n",
    "# Building Model\n",
    "from tensorflow.keras.layers import Dense, Embedding, LSTM, Bidirectional, GlobalAveragePooling1D\n",
    "import tensorflow.keras as k\n",
    "\n",
    "# Download Model\n",
    "import pickle"
   ]
  },
  {
   "cell_type": "markdown",
   "id": "37905d0d",
   "metadata": {},
   "source": [
    "# Reading Data"
   ]
  },
  {
   "cell_type": "code",
   "execution_count": 2,
   "id": "8455303a",
   "metadata": {},
   "outputs": [
    {
     "data": {
      "text/html": [
       "<div>\n",
       "<style scoped>\n",
       "    .dataframe tbody tr th:only-of-type {\n",
       "        vertical-align: middle;\n",
       "    }\n",
       "\n",
       "    .dataframe tbody tr th {\n",
       "        vertical-align: top;\n",
       "    }\n",
       "\n",
       "    .dataframe thead th {\n",
       "        text-align: right;\n",
       "    }\n",
       "</style>\n",
       "<table border=\"1\" class=\"dataframe\">\n",
       "  <thead>\n",
       "    <tr style=\"text-align: right;\">\n",
       "      <th></th>\n",
       "      <th>article_link</th>\n",
       "      <th>headline</th>\n",
       "      <th>is_sarcastic</th>\n",
       "    </tr>\n",
       "  </thead>\n",
       "  <tbody>\n",
       "    <tr>\n",
       "      <th>0</th>\n",
       "      <td>https://www.huffingtonpost.com/entry/versace-b...</td>\n",
       "      <td>former versace store clerk sues over secret 'b...</td>\n",
       "      <td>0</td>\n",
       "    </tr>\n",
       "    <tr>\n",
       "      <th>1</th>\n",
       "      <td>https://www.huffingtonpost.com/entry/roseanne-...</td>\n",
       "      <td>the 'roseanne' revival catches up to our thorn...</td>\n",
       "      <td>0</td>\n",
       "    </tr>\n",
       "    <tr>\n",
       "      <th>2</th>\n",
       "      <td>https://local.theonion.com/mom-starting-to-fea...</td>\n",
       "      <td>mom starting to fear son's web series closest ...</td>\n",
       "      <td>1</td>\n",
       "    </tr>\n",
       "    <tr>\n",
       "      <th>3</th>\n",
       "      <td>https://politics.theonion.com/boehner-just-wan...</td>\n",
       "      <td>boehner just wants wife to listen, not come up...</td>\n",
       "      <td>1</td>\n",
       "    </tr>\n",
       "    <tr>\n",
       "      <th>4</th>\n",
       "      <td>https://www.huffingtonpost.com/entry/jk-rowlin...</td>\n",
       "      <td>j.k. rowling wishes snape happy birthday in th...</td>\n",
       "      <td>0</td>\n",
       "    </tr>\n",
       "  </tbody>\n",
       "</table>\n",
       "</div>"
      ],
      "text/plain": [
       "                                        article_link  \\\n",
       "0  https://www.huffingtonpost.com/entry/versace-b...   \n",
       "1  https://www.huffingtonpost.com/entry/roseanne-...   \n",
       "2  https://local.theonion.com/mom-starting-to-fea...   \n",
       "3  https://politics.theonion.com/boehner-just-wan...   \n",
       "4  https://www.huffingtonpost.com/entry/jk-rowlin...   \n",
       "\n",
       "                                            headline  is_sarcastic  \n",
       "0  former versace store clerk sues over secret 'b...             0  \n",
       "1  the 'roseanne' revival catches up to our thorn...             0  \n",
       "2  mom starting to fear son's web series closest ...             1  \n",
       "3  boehner just wants wife to listen, not come up...             1  \n",
       "4  j.k. rowling wishes snape happy birthday in th...             0  "
      ]
     },
     "execution_count": 2,
     "metadata": {},
     "output_type": "execute_result"
    }
   ],
   "source": [
    "data = pd.read_json(r\"Sarcasm_Headlines_Dataset.json\", lines=True)\n",
    "data.head()"
   ]
  },
  {
   "cell_type": "code",
   "execution_count": 3,
   "id": "27b021e5",
   "metadata": {},
   "outputs": [
    {
     "data": {
      "text/html": [
       "<div>\n",
       "<style scoped>\n",
       "    .dataframe tbody tr th:only-of-type {\n",
       "        vertical-align: middle;\n",
       "    }\n",
       "\n",
       "    .dataframe tbody tr th {\n",
       "        vertical-align: top;\n",
       "    }\n",
       "\n",
       "    .dataframe thead th {\n",
       "        text-align: right;\n",
       "    }\n",
       "</style>\n",
       "<table border=\"1\" class=\"dataframe\">\n",
       "  <thead>\n",
       "    <tr style=\"text-align: right;\">\n",
       "      <th></th>\n",
       "      <th>headline</th>\n",
       "      <th>is_sarcastic</th>\n",
       "    </tr>\n",
       "  </thead>\n",
       "  <tbody>\n",
       "    <tr>\n",
       "      <th>0</th>\n",
       "      <td>former versace store clerk sues over secret 'b...</td>\n",
       "      <td>0</td>\n",
       "    </tr>\n",
       "    <tr>\n",
       "      <th>1</th>\n",
       "      <td>the 'roseanne' revival catches up to our thorn...</td>\n",
       "      <td>0</td>\n",
       "    </tr>\n",
       "    <tr>\n",
       "      <th>2</th>\n",
       "      <td>mom starting to fear son's web series closest ...</td>\n",
       "      <td>1</td>\n",
       "    </tr>\n",
       "    <tr>\n",
       "      <th>3</th>\n",
       "      <td>boehner just wants wife to listen, not come up...</td>\n",
       "      <td>1</td>\n",
       "    </tr>\n",
       "    <tr>\n",
       "      <th>4</th>\n",
       "      <td>j.k. rowling wishes snape happy birthday in th...</td>\n",
       "      <td>0</td>\n",
       "    </tr>\n",
       "  </tbody>\n",
       "</table>\n",
       "</div>"
      ],
      "text/plain": [
       "                                            headline  is_sarcastic\n",
       "0  former versace store clerk sues over secret 'b...             0\n",
       "1  the 'roseanne' revival catches up to our thorn...             0\n",
       "2  mom starting to fear son's web series closest ...             1\n",
       "3  boehner just wants wife to listen, not come up...             1\n",
       "4  j.k. rowling wishes snape happy birthday in th...             0"
      ]
     },
     "execution_count": 3,
     "metadata": {},
     "output_type": "execute_result"
    }
   ],
   "source": [
    "data.drop(columns=\"article_link\", axis=1, inplace=True)\n",
    "data.head(5)"
   ]
  },
  {
   "cell_type": "code",
   "execution_count": 4,
   "id": "516f3bf9",
   "metadata": {},
   "outputs": [
    {
     "data": {
      "text/plain": [
       "\"former versace store clerk sues over secret 'black code' for minority shoppers\""
      ]
     },
     "execution_count": 4,
     "metadata": {},
     "output_type": "execute_result"
    }
   ],
   "source": [
    "data[\"headline\"][0]"
   ]
  },
  {
   "cell_type": "code",
   "execution_count": 5,
   "id": "2ddb32f5",
   "metadata": {},
   "outputs": [
    {
     "name": "stdout",
     "output_type": "stream",
     "text": [
      "<class 'pandas.core.frame.DataFrame'>\n",
      "RangeIndex: 26709 entries, 0 to 26708\n",
      "Data columns (total 2 columns):\n",
      " #   Column        Non-Null Count  Dtype \n",
      "---  ------        --------------  ----- \n",
      " 0   headline      26709 non-null  object\n",
      " 1   is_sarcastic  26709 non-null  int64 \n",
      "dtypes: int64(1), object(1)\n",
      "memory usage: 417.5+ KB\n"
     ]
    }
   ],
   "source": [
    "data.info()"
   ]
  },
  {
   "cell_type": "markdown",
   "id": "16ed1b8f",
   "metadata": {},
   "source": [
    "Data Do not Have Null Value"
   ]
  },
  {
   "cell_type": "markdown",
   "id": "0d2f4927",
   "metadata": {},
   "source": [
    "##### Preprocessing in Data"
   ]
  },
  {
   "cell_type": "markdown",
   "id": "1e2340d2",
   "metadata": {},
   "source": [
    "Removing Stop Word And Punctuation And Make Lemmetization"
   ]
  },
  {
   "cell_type": "markdown",
   "id": "e3218e0e",
   "metadata": {},
   "source": [
    "1 - Stop Word\n",
    "\n",
    "2 - Punctuation\n",
    "\n",
    "3 - Lemmatization"
   ]
  },
  {
   "cell_type": "code",
   "execution_count": 6,
   "id": "5c0e0f19",
   "metadata": {},
   "outputs": [],
   "source": [
    "punc = list(string.punctuation)\n",
    "stop_words = stopwords.words(\"english\")\n",
    "lemma = WordNetLemmatizer()"
   ]
  },
  {
   "cell_type": "code",
   "execution_count": 7,
   "id": "bd694523",
   "metadata": {},
   "outputs": [],
   "source": [
    "def Process(data):\n",
    "    data.lower()\n",
    "    \n",
    "    data = \" \".join([lemma.lemmatize(word) for word in word_tokenize(data) if ((word not in punc) and (word not in stop_words))])\n",
    "    \n",
    "    data = re.sub(\"[^a-z]\", \" \", data)\n",
    "    \n",
    "    return data"
   ]
  },
  {
   "cell_type": "code",
   "execution_count": 8,
   "id": "7eede82d",
   "metadata": {},
   "outputs": [
    {
     "data": {
      "text/html": [
       "<div>\n",
       "<style scoped>\n",
       "    .dataframe tbody tr th:only-of-type {\n",
       "        vertical-align: middle;\n",
       "    }\n",
       "\n",
       "    .dataframe tbody tr th {\n",
       "        vertical-align: top;\n",
       "    }\n",
       "\n",
       "    .dataframe thead th {\n",
       "        text-align: right;\n",
       "    }\n",
       "</style>\n",
       "<table border=\"1\" class=\"dataframe\">\n",
       "  <thead>\n",
       "    <tr style=\"text-align: right;\">\n",
       "      <th></th>\n",
       "      <th>headline</th>\n",
       "      <th>is_sarcastic</th>\n",
       "    </tr>\n",
       "  </thead>\n",
       "  <tbody>\n",
       "    <tr>\n",
       "      <th>0</th>\n",
       "      <td>former versace store clerk sue secret  black c...</td>\n",
       "      <td>0</td>\n",
       "    </tr>\n",
       "    <tr>\n",
       "      <th>1</th>\n",
       "      <td>roseanne revival catch thorny political mood ...</td>\n",
       "      <td>0</td>\n",
       "    </tr>\n",
       "    <tr>\n",
       "      <th>2</th>\n",
       "      <td>mom starting fear son  s web series closest th...</td>\n",
       "      <td>1</td>\n",
       "    </tr>\n",
       "    <tr>\n",
       "      <th>3</th>\n",
       "      <td>boehner want wife listen come alternative debt...</td>\n",
       "      <td>1</td>\n",
       "    </tr>\n",
       "    <tr>\n",
       "      <th>4</th>\n",
       "      <td>j k  rowling wish snape happy birthday magical...</td>\n",
       "      <td>0</td>\n",
       "    </tr>\n",
       "  </tbody>\n",
       "</table>\n",
       "</div>"
      ],
      "text/plain": [
       "                                            headline  is_sarcastic\n",
       "0  former versace store clerk sue secret  black c...             0\n",
       "1   roseanne revival catch thorny political mood ...             0\n",
       "2  mom starting fear son  s web series closest th...             1\n",
       "3  boehner want wife listen come alternative debt...             1\n",
       "4  j k  rowling wish snape happy birthday magical...             0"
      ]
     },
     "execution_count": 8,
     "metadata": {},
     "output_type": "execute_result"
    }
   ],
   "source": [
    "data[\"headline\"] = data[\"headline\"].apply(Process)\n",
    "data.head(5)"
   ]
  },
  {
   "cell_type": "markdown",
   "id": "41f72bb4",
   "metadata": {},
   "source": [
    "##### To Categorical \n",
    "To Make Transform From 1output Label --> Len*Ouput (One Hot Encoder)"
   ]
  },
  {
   "cell_type": "code",
   "execution_count": 9,
   "id": "7c9dfe3c",
   "metadata": {},
   "outputs": [
    {
     "data": {
      "text/plain": [
       "array([[1., 0.],\n",
       "       [1., 0.],\n",
       "       [0., 1.],\n",
       "       [0., 1.],\n",
       "       [1., 0.]], dtype=float32)"
      ]
     },
     "execution_count": 9,
     "metadata": {},
     "output_type": "execute_result"
    }
   ],
   "source": [
    "label = to_categorical(data[\"is_sarcastic\"], 2)\n",
    "label[:5]"
   ]
  },
  {
   "cell_type": "markdown",
   "id": "a649c785",
   "metadata": {},
   "source": [
    "# Make Tokenization"
   ]
  },
  {
   "cell_type": "code",
   "execution_count": 10,
   "id": "59d56dc1",
   "metadata": {},
   "outputs": [
    {
     "name": "stdout",
     "output_type": "stream",
     "text": [
      "[[1. 0.]\n",
      " [1. 0.]]\n"
     ]
    }
   ],
   "source": [
    "X = data[\"headline\"]\n",
    "Y = label\n",
    "print(Y[:2])"
   ]
  },
  {
   "cell_type": "code",
   "execution_count": 11,
   "id": "cfd8f735",
   "metadata": {},
   "outputs": [
    {
     "name": "stdout",
     "output_type": "stream",
     "text": [
      "The Padding Sequance Shape is  -->  (26709, 31)\n"
     ]
    }
   ],
   "source": [
    "tokenize = Tokenizer(oov_token=\"<oov>\")\n",
    "tokenize.fit_on_texts(X)\n",
    "word_idx = tokenize.word_index\n",
    "\n",
    "data_seqence = tokenize.texts_to_sequences(X)\n",
    "pad_seq = pad_sequences(data_seqence, padding=\"pre\", truncating=\"pre\")\n",
    "\n",
    "print(\"The Padding Sequance Shape is  --> \", pad_seq.shape)"
   ]
  },
  {
   "cell_type": "code",
   "execution_count": 12,
   "id": "cfa89979",
   "metadata": {},
   "outputs": [
    {
     "data": {
      "text/plain": [
       "(31, 22043)"
      ]
     },
     "execution_count": 12,
     "metadata": {},
     "output_type": "execute_result"
    }
   ],
   "source": [
    "input_length = max(len(seq) for seq in data_seqence)\n",
    "\n",
    "vocabulary_size = len(word_idx) + 1\n",
    "\n",
    "input_length, vocabulary_size"
   ]
  },
  {
   "cell_type": "markdown",
   "id": "3aea84ae",
   "metadata": {},
   "source": [
    "# Splitting Data To Training And Testing"
   ]
  },
  {
   "cell_type": "code",
   "execution_count": 13,
   "id": "4cc2f391",
   "metadata": {},
   "outputs": [],
   "source": [
    "x_train, x_test, y_train, y_test = train_test_split(pad_seq, label, train_size=0.7)"
   ]
  },
  {
   "cell_type": "markdown",
   "id": "d135bc0a",
   "metadata": {},
   "source": [
    "# Building Deep Learning Model"
   ]
  },
  {
   "cell_type": "code",
   "execution_count": 14,
   "id": "b6114b47",
   "metadata": {},
   "outputs": [],
   "source": [
    "model = k.models.Sequential([\n",
    "    Embedding(vocabulary_size, 50, input_length=input_length),\n",
    "    GlobalAveragePooling1D(),\n",
    "    Dense(48, activation=\"relu\"), \n",
    "    Dense(2, activation=\"softmax\")\n",
    "])\n",
    "\n",
    "model.compile(optimizer=\"adam\", loss=k.losses.BinaryCrossentropy(), metrics=[\"accuracy\"])"
   ]
  },
  {
   "cell_type": "code",
   "execution_count": 15,
   "id": "f4280728",
   "metadata": {
    "scrolled": true
   },
   "outputs": [
    {
     "name": "stdout",
     "output_type": "stream",
     "text": [
      "Train on 18696 samples, validate on 8013 samples\n",
      "Epoch 1/20\n",
      "WARNING:tensorflow:Entity <function Function._initialize_uninitialized_variables.<locals>.initialize_variables at 0x0000025050FAABF8> could not be transformed and will be executed as-is. Please report this to the AutoGraph team. When filing the bug, set the verbosity to 10 (on Linux, `export AUTOGRAPH_VERBOSITY=10`) and attach the full output. Cause: No module named 'tensorflow_core.estimator'\n",
      "WARNING: Entity <function Function._initialize_uninitialized_variables.<locals>.initialize_variables at 0x0000025050FAABF8> could not be transformed and will be executed as-is. Please report this to the AutoGraph team. When filing the bug, set the verbosity to 10 (on Linux, `export AUTOGRAPH_VERBOSITY=10`) and attach the full output. Cause: No module named 'tensorflow_core.estimator'\n",
      "18696/18696 - 14s - loss: 0.5675 - accuracy: 0.6894 - val_loss: 0.4595 - val_accuracy: 0.7881\n",
      "Epoch 2/20\n",
      "18696/18696 - 12s - loss: 0.3336 - accuracy: 0.8578 - val_loss: 0.4389 - val_accuracy: 0.8026\n",
      "Epoch 3/20\n",
      "18696/18696 - 11s - loss: 0.2273 - accuracy: 0.9081 - val_loss: 0.4965 - val_accuracy: 0.7958\n",
      "Epoch 4/20\n",
      "18696/18696 - 11s - loss: 0.1649 - accuracy: 0.9385 - val_loss: 0.5941 - val_accuracy: 0.7731\n",
      "Epoch 5/20\n",
      "18696/18696 - 11s - loss: 0.1211 - accuracy: 0.9569 - val_loss: 0.6543 - val_accuracy: 0.7775\n",
      "Epoch 6/20\n",
      "18696/18696 - 11s - loss: 0.0930 - accuracy: 0.9684 - val_loss: 0.7382 - val_accuracy: 0.7765\n",
      "Epoch 7/20\n",
      "18696/18696 - 11s - loss: 0.0718 - accuracy: 0.9765 - val_loss: 0.8411 - val_accuracy: 0.7735\n",
      "Epoch 8/20\n",
      "18696/18696 - 11s - loss: 0.0566 - accuracy: 0.9821 - val_loss: 0.9379 - val_accuracy: 0.7732\n",
      "Epoch 9/20\n",
      "18696/18696 - 11s - loss: 0.0471 - accuracy: 0.9845 - val_loss: 1.0500 - val_accuracy: 0.7705\n",
      "Epoch 10/20\n",
      "18696/18696 - 12s - loss: 0.0392 - accuracy: 0.9873 - val_loss: 1.1582 - val_accuracy: 0.7569\n",
      "Epoch 11/20\n",
      "18696/18696 - 13s - loss: 0.0347 - accuracy: 0.9888 - val_loss: 1.2648 - val_accuracy: 0.7659\n",
      "Epoch 12/20\n",
      "18696/18696 - 12s - loss: 0.0293 - accuracy: 0.9910 - val_loss: 1.2989 - val_accuracy: 0.7594\n",
      "Epoch 13/20\n",
      "18696/18696 - 13s - loss: 0.0235 - accuracy: 0.9923 - val_loss: 1.3889 - val_accuracy: 0.7623\n",
      "Epoch 14/20\n",
      "18696/18696 - 12s - loss: 0.0203 - accuracy: 0.9933 - val_loss: 1.4950 - val_accuracy: 0.7618\n",
      "Epoch 15/20\n",
      "18696/18696 - 12s - loss: 0.0213 - accuracy: 0.9929 - val_loss: 1.5208 - val_accuracy: 0.7590\n",
      "Epoch 16/20\n",
      "18696/18696 - 11s - loss: 0.0188 - accuracy: 0.9942 - val_loss: 1.5751 - val_accuracy: 0.7568\n",
      "Epoch 17/20\n",
      "18696/18696 - 12s - loss: 0.0170 - accuracy: 0.9940 - val_loss: 1.6607 - val_accuracy: 0.7513\n",
      "Epoch 18/20\n",
      "18696/18696 - 12s - loss: 0.0156 - accuracy: 0.9953 - val_loss: 1.7044 - val_accuracy: 0.7559\n",
      "Epoch 19/20\n",
      "18696/18696 - 11s - loss: 0.0129 - accuracy: 0.9957 - val_loss: 1.7931 - val_accuracy: 0.7530\n",
      "Epoch 20/20\n",
      "18696/18696 - 12s - loss: 0.0106 - accuracy: 0.9970 - val_loss: 1.8770 - val_accuracy: 0.7483\n"
     ]
    }
   ],
   "source": [
    "history = model.fit(x_train, y_train, epochs=20, validation_data=(x_test, y_test), verbose=2)"
   ]
  },
  {
   "cell_type": "code",
   "execution_count": 16,
   "id": "761e5814",
   "metadata": {},
   "outputs": [
    {
     "data": {
      "image/png": "[encoded data removed]",
      "text/plain": [
       "<Figure size 432x288 with 1 Axes>"
      ]
     },
     "metadata": {
      "needs_background": "light"
     },
     "output_type": "display_data"
    }
   ],
   "source": [
    "plt.plot(history.history[\"loss\"], label=\"Loss\")\n",
    "plt.plot(history.history[\"val_loss\"], label=\"Val_Loss\")\n",
    "\n",
    "plt.xlabel(\"Epochs\")\n",
    "plt.ylabel(\"Loss\")\n",
    "\n",
    "plt.title(\"Loss Vs Epochs\")\n",
    "\n",
    "plt.legend()\n",
    "plt.grid()"
   ]
  },
  {
   "cell_type": "code",
   "execution_count": 17,
   "id": "7d66770f",
   "metadata": {},
   "outputs": [
    {
     "data": {
      "image/png": "[encoded data removed]",
      "text/plain": [
       "<Figure size 432x288 with 1 Axes>"
      ]
     },
     "metadata": {
      "needs_background": "light"
     },
     "output_type": "display_data"
    }
   ],
   "source": [
    "plt.plot(history.history[\"accuracy\"], label=\"accuracy\")\n",
    "plt.plot(history.history[\"val_accuracy\"], label=\"val_accuracy\")\n",
    "\n",
    "plt.xlabel(\"Epochs\")\n",
    "plt.ylabel(\"Accuracy\")\n",
    "\n",
    "plt.title(\"Accuracy Vs Epochs\")\n",
    "\n",
    "plt.legend()\n",
    "plt.grid()"
   ]
  },
  {
   "cell_type": "markdown",
   "id": "2f8a060e",
   "metadata": {},
   "source": [
    "# System Prediction"
   ]
  },
  {
   "cell_type": "code",
   "execution_count": 18,
   "id": "a291aadc",
   "metadata": {},
   "outputs": [
    {
     "name": "stdout",
     "output_type": "stream",
     "text": [
      "they're really on top of things\n",
      "'re really top thing \n",
      "[0.99890244 0.00109757]\n",
      "This Massage is -->  is_sarcastic \n"
     ]
    }
   ],
   "source": [
    "text = word_tokenize(input())\n",
    "\n",
    "new_text = \"\"\n",
    "for word in text:\n",
    "    if (word not in stop_words) and (word not in punc):\n",
    "        new_text += lemma.lemmatize(word)\n",
    "        new_text += \" \"\n",
    "        \n",
    "print(new_text)\n",
    "test_sequace = tokenize.texts_to_sequences([new_text])\n",
    "test_padding = pad_sequences(test_sequace, maxlen=31, padding=\"pre\", truncating=\"pre\")\n",
    "\n",
    "\n",
    "# test_sequace\n",
    "prediction = model.predict(test_padding)\n",
    "\n",
    "print(prediction[0])\n",
    "if np.argmax(prediction) == 0: print(\"This Massage is -->  is_sarcastic \")\n",
    "else: print(\"This Massage is -->  not is_sarcastic \")"
   ]
  },
  {
   "cell_type": "code",
   "execution_count": null,
   "id": "ab1905d0",
   "metadata": {},
   "outputs": [],
   "source": []
  }
 ],
 "metadata": {
  "kernelspec": {
   "display_name": "Python 3",
   "language": "python",
   "name": "python3"
  },
  "language_info": {
   "codemirror_mode": {
    "name": "ipython",
    "version": 3
   },
   "file_extension": ".py",
   "mimetype": "text/x-python",
   "name": "python",
   "nbconvert_exporter": "python",
   "pygments_lexer": "ipython3",
   "version": "3.6.13"
  }
 },
 "nbformat": 4,
 "nbformat_minor": 5
}
