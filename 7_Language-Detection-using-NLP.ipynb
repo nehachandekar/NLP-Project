{
 "cells": [
  {
   "cell_type": "markdown",
   "id": "570a8925",
   "metadata": {
    "id": "view-in-github",
    "papermill": {
     "duration": 0.006674,
     "end_time": "2022-10-15T09:15:28.858311",
     "exception": false,
     "start_time": "2022-10-15T09:15:28.851637",
     "status": "completed"
    },
    "tags": []
   },
   "source": [
    "<a href=\"https://colab.research.google.com/github/mido-Jr/Language-Detection-Using-NLP/blob/main/Language_Detection.ipynb\" target=\"_parent\"><img src=\"https://colab.research.google.com/assets/colab-badge.svg\" alt=\"Open In Colab\"/></a>"
   ]
  },
  {
   "cell_type": "markdown",
   "id": "09ef434c",
   "metadata": {
    "id": "3XwXqGG_r6Jv",
    "papermill": {
     "duration": 0.006779,
     "end_time": "2022-10-15T09:15:28.930335",
     "exception": false,
     "start_time": "2022-10-15T09:15:28.923556",
     "status": "completed"
    },
    "tags": []
   },
   "source": [
    "Dataset `language-detection` contains text details for 17 different languages"
   ]
  },
  {
   "cell_type": "markdown",
   "id": "6a00226e",
   "metadata": {
    "id": "e4XRqxdSsPhN",
    "papermill": {
     "duration": 0.005324,
     "end_time": "2022-10-15T09:15:28.942235",
     "exception": false,
     "start_time": "2022-10-15T09:15:28.936911",
     "status": "completed"
    },
    "tags": []
   },
   "source": [
    "## Importing libaries"
   ]
  },
  {
   "cell_type": "code",
   "execution_count": 1,
   "id": "2b8ddf7c",
   "metadata": {
    "execution": {
     "iopub.execute_input": "2022-10-15T09:15:28.955100Z",
     "iopub.status.busy": "2022-10-15T09:15:28.954702Z",
     "iopub.status.idle": "2022-10-15T09:15:28.959504Z",
     "shell.execute_reply": "2022-10-15T09:15:28.958093Z"
    },
    "id": "wmrrNh0nrW3e",
    "papermill": {
     "duration": 0.013498,
     "end_time": "2022-10-15T09:15:28.961427",
     "exception": false,
     "start_time": "2022-10-15T09:15:28.947929",
     "status": "completed"
    },
    "tags": []
   },
   "outputs": [],
   "source": [
    "import numpy as np\n",
    "import pandas as pd\n",
    "import re # From the standard library\n",
    "\n"
   ]
  },
  {
   "cell_type": "code",
   "execution_count": 2,
   "id": "b5308b65",
   "metadata": {
    "execution": {
     "iopub.execute_input": "2022-10-15T09:15:28.974253Z",
     "iopub.status.busy": "2022-10-15T09:15:28.973702Z",
     "iopub.status.idle": "2022-10-15T09:15:29.068274Z",
     "shell.execute_reply": "2022-10-15T09:15:29.066859Z"
    },
    "id": "aDeoSXJMs4uv",
    "outputId": "a57f77df-0972-412d-b2a8-1b29ae4941ec",
    "papermill": {
     "duration": 0.103908,
     "end_time": "2022-10-15T09:15:29.070925",
     "exception": false,
     "start_time": "2022-10-15T09:15:28.967017",
     "status": "completed"
    },
    "tags": []
   },
   "outputs": [
    {
     "data": {
      "text/html": [
       "<div>\n",
       "<style scoped>\n",
       "    .dataframe tbody tr th:only-of-type {\n",
       "        vertical-align: middle;\n",
       "    }\n",
       "\n",
       "    .dataframe tbody tr th {\n",
       "        vertical-align: top;\n",
       "    }\n",
       "\n",
       "    .dataframe thead th {\n",
       "        text-align: right;\n",
       "    }\n",
       "</style>\n",
       "<table border=\"1\" class=\"dataframe\">\n",
       "  <thead>\n",
       "    <tr style=\"text-align: right;\">\n",
       "      <th></th>\n",
       "      <th>Text</th>\n",
       "      <th>Language</th>\n",
       "    </tr>\n",
       "  </thead>\n",
       "  <tbody>\n",
       "    <tr>\n",
       "      <th>0</th>\n",
       "      <td>Nature, in the broadest sense, is the natural...</td>\n",
       "      <td>English</td>\n",
       "    </tr>\n",
       "    <tr>\n",
       "      <th>1</th>\n",
       "      <td>\"Nature\" can refer to the phenomena of the phy...</td>\n",
       "      <td>English</td>\n",
       "    </tr>\n",
       "    <tr>\n",
       "      <th>2</th>\n",
       "      <td>The study of nature is a large, if not the onl...</td>\n",
       "      <td>English</td>\n",
       "    </tr>\n",
       "    <tr>\n",
       "      <th>3</th>\n",
       "      <td>Although humans are part of nature, human acti...</td>\n",
       "      <td>English</td>\n",
       "    </tr>\n",
       "    <tr>\n",
       "      <th>4</th>\n",
       "      <td>[1] The word nature is borrowed from the Old F...</td>\n",
       "      <td>English</td>\n",
       "    </tr>\n",
       "  </tbody>\n",
       "</table>\n",
       "</div>"
      ],
      "text/plain": [
       "                                                Text Language\n",
       "0   Nature, in the broadest sense, is the natural...  English\n",
       "1  \"Nature\" can refer to the phenomena of the phy...  English\n",
       "2  The study of nature is a large, if not the onl...  English\n",
       "3  Although humans are part of nature, human acti...  English\n",
       "4  [1] The word nature is borrowed from the Old F...  English"
      ]
     },
     "execution_count": 2,
     "metadata": {},
     "output_type": "execute_result"
    }
   ],
   "source": [
    "# Preview the dataset\n",
    "data = pd.read_csv('Language Detection.csv')\n",
    "data.head()"
   ]
  },
  {
   "cell_type": "code",
   "execution_count": 3,
   "id": "da9278c9",
   "metadata": {
    "execution": {
     "iopub.execute_input": "2022-10-15T09:15:29.084396Z",
     "iopub.status.busy": "2022-10-15T09:15:29.083703Z",
     "iopub.status.idle": "2022-10-15T09:15:29.097900Z",
     "shell.execute_reply": "2022-10-15T09:15:29.097083Z"
    },
    "id": "4F9rwWJOtk8B",
    "outputId": "aa39796b-1c3e-4a1d-affe-1b26bcadc026",
    "papermill": {
     "duration": 0.022824,
     "end_time": "2022-10-15T09:15:29.099732",
     "exception": false,
     "start_time": "2022-10-15T09:15:29.076908",
     "status": "completed"
    },
    "tags": []
   },
   "outputs": [
    {
     "data": {
      "text/plain": [
       "array(['English', 'Malayalam', 'Hindi', 'Tamil', 'Portugeese', 'French',\n",
       "       'Dutch', 'Spanish', 'Greek', 'Russian', 'Danish', 'Italian',\n",
       "       'Turkish', 'Sweedish', 'Arabic', 'German', 'Kannada'], dtype=object)"
      ]
     },
     "execution_count": 3,
     "metadata": {},
     "output_type": "execute_result"
    }
   ],
   "source": [
    "# let`s count the value count for each language\n",
    "data['Language'].unique()"
   ]
  },
  {
   "cell_type": "code",
   "execution_count": 4,
   "id": "fa609197",
   "metadata": {
    "execution": {
     "iopub.execute_input": "2022-10-15T09:15:29.113867Z",
     "iopub.status.busy": "2022-10-15T09:15:29.112450Z",
     "iopub.status.idle": "2022-10-15T09:15:29.122801Z",
     "shell.execute_reply": "2022-10-15T09:15:29.122073Z"
    },
    "id": "0w3BWweIt7gA",
    "outputId": "b0a88d2c-a8c2-4d03-ab2f-7bd2ebb0b011",
    "papermill": {
     "duration": 0.018866,
     "end_time": "2022-10-15T09:15:29.124501",
     "exception": false,
     "start_time": "2022-10-15T09:15:29.105635",
     "status": "completed"
    },
    "tags": []
   },
   "outputs": [
    {
     "data": {
      "text/plain": [
       "English       1385\n",
       "French        1014\n",
       "Spanish        819\n",
       "Portugeese     739\n",
       "Italian        698\n",
       "Russian        692\n",
       "Sweedish       676\n",
       "Malayalam      594\n",
       "Dutch          546\n",
       "Arabic         536\n",
       "Turkish        474\n",
       "German         470\n",
       "Tamil          469\n",
       "Danish         428\n",
       "Kannada        369\n",
       "Greek          365\n",
       "Hindi           63\n",
       "Name: Language, dtype: int64"
      ]
     },
     "execution_count": 4,
     "metadata": {},
     "output_type": "execute_result"
    }
   ],
   "source": [
    "data['Language'].value_counts()"
   ]
  },
  {
   "cell_type": "markdown",
   "id": "7276f138",
   "metadata": {
    "id": "AYWL4lFIvFBc",
    "papermill": {
     "duration": 0.006747,
     "end_time": "2022-10-15T09:15:29.137447",
     "exception": false,
     "start_time": "2022-10-15T09:15:29.130700",
     "status": "completed"
    },
    "tags": []
   },
   "source": [
    "## Separating features\n"
   ]
  },
  {
   "cell_type": "code",
   "execution_count": 5,
   "id": "f8b65f09",
   "metadata": {
    "execution": {
     "iopub.execute_input": "2022-10-15T09:15:29.150996Z",
     "iopub.status.busy": "2022-10-15T09:15:29.150655Z",
     "iopub.status.idle": "2022-10-15T09:15:29.154877Z",
     "shell.execute_reply": "2022-10-15T09:15:29.154231Z"
    },
    "id": "v7b7Ip6PuBZC",
    "papermill": {
     "duration": 0.013243,
     "end_time": "2022-10-15T09:15:29.156663",
     "exception": false,
     "start_time": "2022-10-15T09:15:29.143420",
     "status": "completed"
    },
    "tags": []
   },
   "outputs": [],
   "source": [
    "# Separating the feature and target\n",
    "X = data['Text']\n",
    "y = data['Language']\n",
    "\n"
   ]
  },
  {
   "cell_type": "markdown",
   "id": "cfd0a765",
   "metadata": {
    "id": "PMHiu3USu8Ec",
    "papermill": {
     "duration": 0.006118,
     "end_time": "2022-10-15T09:15:29.169969",
     "exception": false,
     "start_time": "2022-10-15T09:15:29.163851",
     "status": "completed"
    },
    "tags": []
   },
   "source": [
    "## Label Encoding"
   ]
  },
  {
   "cell_type": "code",
   "execution_count": 6,
   "id": "8a9afc79",
   "metadata": {
    "execution": {
     "iopub.execute_input": "2022-10-15T09:15:29.184657Z",
     "iopub.status.busy": "2022-10-15T09:15:29.184093Z",
     "iopub.status.idle": "2022-10-15T09:15:30.237249Z",
     "shell.execute_reply": "2022-10-15T09:15:30.236047Z"
    },
    "id": "FMPe0P7SuUe0",
    "papermill": {
     "duration": 1.06296,
     "end_time": "2022-10-15T09:15:30.239506",
     "exception": false,
     "start_time": "2022-10-15T09:15:29.176546",
     "status": "completed"
    },
    "tags": []
   },
   "outputs": [],
   "source": [
    "# the target variable is categorical , we should have convert it\n",
    "# to numerical form \n",
    "\n",
    "from sklearn.preprocessing import LabelEncoder\n",
    "le = LabelEncoder()\n",
    "y = le.fit_transform(y)\n"
   ]
  },
  {
   "cell_type": "markdown",
   "id": "44ac183c",
   "metadata": {
    "id": "vtLEx0cXvJ1I",
    "papermill": {
     "duration": 0.005724,
     "end_time": "2022-10-15T09:15:30.251301",
     "exception": false,
     "start_time": "2022-10-15T09:15:30.245577",
     "status": "completed"
    },
    "tags": []
   },
   "source": [
    "## Text Preprocessing"
   ]
  },
  {
   "cell_type": "code",
   "execution_count": 7,
   "id": "eb648a17",
   "metadata": {
    "execution": {
     "iopub.execute_input": "2022-10-15T09:15:30.265072Z",
     "iopub.status.busy": "2022-10-15T09:15:30.264658Z",
     "iopub.status.idle": "2022-10-15T09:15:30.326756Z",
     "shell.execute_reply": "2022-10-15T09:15:30.325626Z"
    },
    "id": "N-IcEuk5vI59",
    "outputId": "06bad682-ef98-4efe-c2d6-016beaf00579",
    "papermill": {
     "duration": 0.071652,
     "end_time": "2022-10-15T09:15:30.328929",
     "exception": false,
     "start_time": "2022-10-15T09:15:30.257277",
     "status": "completed"
    },
    "tags": []
   },
   "outputs": [],
   "source": [
    "# you should clean your dataset , and remove all unwanted symbols\n",
    "# also this will affect the quality of your model\n",
    "data_list = []\n",
    "# loop over the Text\n",
    "for text in X:\n",
    "\n",
    "  # removing the symbols and numbers\n",
    "  text = re.sub(r'[!@#$(),n\"%^*?:;~`0-9]','',text)\n",
    "  text = re.sub(r'[[]]', ' ', text)\n",
    "  text = text.lower()\n",
    "  data_list.append(text)"
   ]
  },
  {
   "cell_type": "markdown",
   "id": "ebe4d643",
   "metadata": {
    "id": "oWM7XoRiJ03v",
    "papermill": {
     "duration": 0.005721,
     "end_time": "2022-10-15T09:15:30.340682",
     "exception": false,
     "start_time": "2022-10-15T09:15:30.334961",
     "status": "completed"
    },
    "tags": []
   },
   "source": [
    "## CountVectorizer words"
   ]
  },
  {
   "cell_type": "code",
   "execution_count": 8,
   "id": "6821e6bc",
   "metadata": {
    "execution": {
     "iopub.execute_input": "2022-10-15T09:15:30.354724Z",
     "iopub.status.busy": "2022-10-15T09:15:30.354184Z",
     "iopub.status.idle": "2022-10-15T09:15:30.756665Z",
     "shell.execute_reply": "2022-10-15T09:15:30.755660Z"
    },
    "id": "hcpGplaKw5aq",
    "outputId": "33240621-ae8d-4f9a-9b44-2c4367184792",
    "papermill": {
     "duration": 0.411921,
     "end_time": "2022-10-15T09:15:30.758535",
     "exception": false,
     "start_time": "2022-10-15T09:15:30.346614",
     "status": "completed"
    },
    "tags": []
   },
   "outputs": [
    {
     "name": "stdout",
     "output_type": "stream",
     "text": [
      "(10337, 38665)\n"
     ]
    },
    {
     "data": {
      "text/plain": [
       "10337"
      ]
     },
     "execution_count": 8,
     "metadata": {},
     "output_type": "execute_result"
    }
   ],
   "source": [
    "# convert input feature to numerical form \n",
    "from sklearn.feature_extraction.text import CountVectorizer\n",
    "cv = CountVectorizer()\n",
    "X = cv.fit_transform(data_list).toarray()\n",
    "print(X.shape)\n",
    "len(data_list)"
   ]
  },
  {
   "cell_type": "markdown",
   "id": "9ca3c8f2",
   "metadata": {
    "id": "pQBiqee8WZov",
    "papermill": {
     "duration": 0.008665,
     "end_time": "2022-10-15T09:15:30.773484",
     "exception": false,
     "start_time": "2022-10-15T09:15:30.764819",
     "status": "completed"
    },
    "tags": []
   },
   "source": [
    "## train test split"
   ]
  },
  {
   "cell_type": "code",
   "execution_count": 9,
   "id": "636376ef",
   "metadata": {
    "execution": {
     "iopub.execute_input": "2022-10-15T09:15:30.789486Z",
     "iopub.status.busy": "2022-10-15T09:15:30.788771Z",
     "iopub.status.idle": "2022-10-15T09:15:31.641190Z",
     "shell.execute_reply": "2022-10-15T09:15:31.640179Z"
    },
    "id": "6pDDnl3MNYiC",
    "papermill": {
     "duration": 0.863412,
     "end_time": "2022-10-15T09:15:31.643616",
     "exception": false,
     "start_time": "2022-10-15T09:15:30.780204",
     "status": "completed"
    },
    "tags": []
   },
   "outputs": [],
   "source": [
    "from sklearn.model_selection import train_test_split\n",
    "X_train , X_test , y_train , y_test = train_test_split(X,y,test_size = .2 , random_state = 41)"
   ]
  },
  {
   "cell_type": "markdown",
   "id": "c1f884c4",
   "metadata": {
    "id": "nO5_s6OvW5VR",
    "papermill": {
     "duration": 0.005897,
     "end_time": "2022-10-15T09:15:31.655654",
     "exception": false,
     "start_time": "2022-10-15T09:15:31.649757",
     "status": "completed"
    },
    "tags": []
   },
   "source": [
    "## Model training and Prediction"
   ]
  },
  {
   "cell_type": "code",
   "execution_count": 10,
   "id": "89ca53dd",
   "metadata": {
    "execution": {
     "iopub.execute_input": "2022-10-15T09:15:31.669637Z",
     "iopub.status.busy": "2022-10-15T09:15:31.669312Z",
     "iopub.status.idle": "2022-10-15T09:16:01.515881Z",
     "shell.execute_reply": "2022-10-15T09:16:01.514121Z"
    },
    "id": "ljYNF7giW8pU",
    "outputId": "e9bcc743-689d-4f63-87cb-a1140ab4da21",
    "papermill": {
     "duration": 29.856711,
     "end_time": "2022-10-15T09:16:01.518362",
     "exception": false,
     "start_time": "2022-10-15T09:15:31.661651",
     "status": "completed"
    },
    "tags": []
   },
   "outputs": [
    {
     "data": {
      "text/plain": [
       "MultinomialNB()"
      ]
     },
     "execution_count": 10,
     "metadata": {},
     "output_type": "execute_result"
    }
   ],
   "source": [
    "from sklearn.naive_bayes import MultinomialNB\n",
    "model = MultinomialNB()\n",
    "model.fit(X_train, y_train)"
   ]
  },
  {
   "cell_type": "code",
   "execution_count": 11,
   "id": "bb9587b6",
   "metadata": {
    "execution": {
     "iopub.execute_input": "2022-10-15T09:16:01.533980Z",
     "iopub.status.busy": "2022-10-15T09:16:01.533625Z",
     "iopub.status.idle": "2022-10-15T09:16:01.913423Z",
     "shell.execute_reply": "2022-10-15T09:16:01.912601Z"
    },
    "id": "v_mjuAyVhWEr",
    "papermill": {
     "duration": 0.390714,
     "end_time": "2022-10-15T09:16:01.915716",
     "exception": false,
     "start_time": "2022-10-15T09:16:01.525002",
     "status": "completed"
    },
    "tags": []
   },
   "outputs": [],
   "source": [
    "y_pred = model.predict(X_test)"
   ]
  },
  {
   "cell_type": "code",
   "execution_count": 12,
   "id": "c0f26d61",
   "metadata": {
    "execution": {
     "iopub.execute_input": "2022-10-15T09:16:01.935170Z",
     "iopub.status.busy": "2022-10-15T09:16:01.934281Z",
     "iopub.status.idle": "2022-10-15T09:16:01.939245Z",
     "shell.execute_reply": "2022-10-15T09:16:01.938470Z"
    },
    "id": "jXLXA7dxhccz",
    "papermill": {
     "duration": 0.018232,
     "end_time": "2022-10-15T09:16:01.942615",
     "exception": false,
     "start_time": "2022-10-15T09:16:01.924383",
     "status": "completed"
    },
    "tags": []
   },
   "outputs": [],
   "source": [
    "# Model Evaluation\n",
    "from sklearn.metrics import accuracy_score , confusion_matrix\n",
    "ac = accuracy_score(y_test , y_pred)\n"
   ]
  },
  {
   "cell_type": "code",
   "execution_count": 13,
   "id": "dc698ece",
   "metadata": {
    "execution": {
     "iopub.execute_input": "2022-10-15T09:16:01.960668Z",
     "iopub.status.busy": "2022-10-15T09:16:01.960347Z",
     "iopub.status.idle": "2022-10-15T09:16:01.964615Z",
     "shell.execute_reply": "2022-10-15T09:16:01.963947Z"
    },
    "id": "KFizR73_ipDV",
    "outputId": "fe95fe63-a767-4ffb-83aa-a48cd3d7a704",
    "papermill": {
     "duration": 0.019767,
     "end_time": "2022-10-15T09:16:01.970814",
     "exception": false,
     "start_time": "2022-10-15T09:16:01.951047",
     "status": "completed"
    },
    "tags": []
   },
   "outputs": [
    {
     "name": "stdout",
     "output_type": "stream",
     "text": [
      "Accuracy = 0.98\n"
     ]
    }
   ],
   "source": [
    "print(f'Accuracy = {ac:.2f}')"
   ]
  },
  {
   "cell_type": "code",
   "execution_count": 14,
   "id": "2b5904ff",
   "metadata": {
    "execution": {
     "iopub.execute_input": "2022-10-15T09:16:01.990763Z",
     "iopub.status.busy": "2022-10-15T09:16:01.990421Z",
     "iopub.status.idle": "2022-10-15T09:16:01.995371Z",
     "shell.execute_reply": "2022-10-15T09:16:01.994642Z"
    },
    "id": "2RrI_n46jEwZ",
    "papermill": {
     "duration": 0.018844,
     "end_time": "2022-10-15T09:16:01.998913",
     "exception": false,
     "start_time": "2022-10-15T09:16:01.980069",
     "status": "completed"
    },
    "tags": []
   },
   "outputs": [],
   "source": [
    "# Test model prediction using text in different languages\n",
    "def prediction(text):\n",
    "  x = cv.transform([text]).toarray()\n",
    "  lang = model.predict(x)\n",
    "  lang = le.inverse_transform(lang)\n",
    "  print('The Language is in', lang[0])"
   ]
  },
  {
   "cell_type": "code",
   "execution_count": 15,
   "id": "e73ece2b",
   "metadata": {
    "execution": {
     "iopub.execute_input": "2022-10-15T09:16:02.017506Z",
     "iopub.status.busy": "2022-10-15T09:16:02.017160Z",
     "iopub.status.idle": "2022-10-15T09:16:02.029436Z",
     "shell.execute_reply": "2022-10-15T09:16:02.028723Z"
    },
    "id": "TpiNbM_rnM8E",
    "outputId": "d0673cd0-7ae7-4aa0-e944-060bdc7ded09",
    "papermill": {
     "duration": 0.02548,
     "end_time": "2022-10-15T09:16:02.033061",
     "exception": false,
     "start_time": "2022-10-15T09:16:02.007581",
     "status": "completed"
    },
    "tags": []
   },
   "outputs": [
    {
     "name": "stdout",
     "output_type": "stream",
     "text": [
      "The Language is in Arabic\n"
     ]
    }
   ],
   "source": [
    "# last test\n",
    "prediction(\"توفر  معرفية قائمة على المجتمع لمحترفي التحليلات وعلوم البيانات\")\n"
   ]
  },
  {
   "cell_type": "code",
   "execution_count": 16,
   "id": "d00dcfea",
   "metadata": {
    "execution": {
     "iopub.execute_input": "2022-10-15T09:16:02.051421Z",
     "iopub.status.busy": "2022-10-15T09:16:02.051059Z",
     "iopub.status.idle": "2022-10-15T09:16:02.056827Z",
     "shell.execute_reply": "2022-10-15T09:16:02.056118Z"
    },
    "id": "ZtanrzNPnVI1",
    "outputId": "407b5140-2d8f-44c2-a08c-b67a463365e5",
    "papermill": {
     "duration": 0.021254,
     "end_time": "2022-10-15T09:16:02.062697",
     "exception": false,
     "start_time": "2022-10-15T09:16:02.041443",
     "status": "completed"
    },
    "tags": []
   },
   "outputs": [
    {
     "name": "stdout",
     "output_type": "stream",
     "text": [
      "The Language is in Russian\n"
     ]
    }
   ],
   "source": [
    "prediction(\"это портал знаний на базе сообщества для профессионалов в области аналитики и данных.\")"
   ]
  },
  {
   "cell_type": "code",
   "execution_count": 18,
   "id": "08700be5",
   "metadata": {
    "id": "-RozTX4H5uQw",
    "papermill": {
     "duration": 0.008175,
     "end_time": "2022-10-15T09:16:02.081717",
     "exception": false,
     "start_time": "2022-10-15T09:16:02.073542",
     "status": "completed"
    },
    "tags": []
   },
   "outputs": [
    {
     "name": "stdout",
     "output_type": "stream",
     "text": [
      "The Language is in Hindi\n"
     ]
    }
   ],
   "source": [
    "prediction(\"बहुत अच्छा! इसे जारी रखो!ा\")"
   ]
  },
  {
   "cell_type": "code",
   "execution_count": null,
   "id": "6b840b5f",
   "metadata": {},
   "outputs": [],
   "source": []
  }
 ],
 "metadata": {
  "kernelspec": {
   "display_name": "Python 3",
   "language": "python",
   "name": "python3"
  },
  "language_info": {
   "codemirror_mode": {
    "name": "ipython",
    "version": 3
   },
   "file_extension": ".py",
   "mimetype": "text/x-python",
   "name": "python",
   "nbconvert_exporter": "python",
   "pygments_lexer": "ipython3",
   "version": "3.6.13"
  },
  "papermill": {
   "default_parameters": {},
   "duration": 41.969157,
   "end_time": "2022-10-15T09:16:02.813425",
   "environment_variables": {},
   "exception": null,
   "input_path": "__notebook__.ipynb",
   "output_path": "__notebook__.ipynb",
   "parameters": {},
   "start_time": "2022-10-15T09:15:20.844268",
   "version": "2.3.4"
  }
 },
 "nbformat": 4,
 "nbformat_minor": 5
}
