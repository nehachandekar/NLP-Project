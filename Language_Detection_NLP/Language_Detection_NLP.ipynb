{
 "cells": [
  {
   "cell_type": "code",
   "execution_count": 1,
   "id": "6825a53a",
   "metadata": {},
   "outputs": [],
   "source": [
    "import string\n",
    "import pandas as pd\n",
    "import numpy as np\n",
    "import re\n",
    "import matplotlib.pyplot as plt\n",
    "import seaborn as sns"
   ]
  },
  {
   "cell_type": "code",
   "execution_count": 2,
   "id": "b77d1e95",
   "metadata": {},
   "outputs": [],
   "source": [
    "df=pd.read_csv('Language Detection.csv')"
   ]
  },
  {
   "cell_type": "code",
   "execution_count": 3,
   "id": "10d7685f",
   "metadata": {},
   "outputs": [
    {
     "data": {
      "text/html": [
       "<div>\n",
       "<style scoped>\n",
       "    .dataframe tbody tr th:only-of-type {\n",
       "        vertical-align: middle;\n",
       "    }\n",
       "\n",
       "    .dataframe tbody tr th {\n",
       "        vertical-align: top;\n",
       "    }\n",
       "\n",
       "    .dataframe thead th {\n",
       "        text-align: right;\n",
       "    }\n",
       "</style>\n",
       "<table border=\"1\" class=\"dataframe\">\n",
       "  <thead>\n",
       "    <tr style=\"text-align: right;\">\n",
       "      <th></th>\n",
       "      <th>Text</th>\n",
       "      <th>Language</th>\n",
       "    </tr>\n",
       "  </thead>\n",
       "  <tbody>\n",
       "    <tr>\n",
       "      <th>0</th>\n",
       "      <td>Nature, in the broadest sense, is the natural...</td>\n",
       "      <td>English</td>\n",
       "    </tr>\n",
       "    <tr>\n",
       "      <th>1</th>\n",
       "      <td>\"Nature\" can refer to the phenomena of the phy...</td>\n",
       "      <td>English</td>\n",
       "    </tr>\n",
       "    <tr>\n",
       "      <th>2</th>\n",
       "      <td>The study of nature is a large, if not the onl...</td>\n",
       "      <td>English</td>\n",
       "    </tr>\n",
       "    <tr>\n",
       "      <th>3</th>\n",
       "      <td>Although humans are part of nature, human acti...</td>\n",
       "      <td>English</td>\n",
       "    </tr>\n",
       "    <tr>\n",
       "      <th>4</th>\n",
       "      <td>[1] The word nature is borrowed from the Old F...</td>\n",
       "      <td>English</td>\n",
       "    </tr>\n",
       "    <tr>\n",
       "      <th>...</th>\n",
       "      <td>...</td>\n",
       "      <td>...</td>\n",
       "    </tr>\n",
       "    <tr>\n",
       "      <th>10332</th>\n",
       "      <td>ನಿಮ್ಮ ತಪ್ಪು ಏನು ಬಂದಿದೆಯೆಂದರೆ ಆ ದಿನದಿಂದ ನಿಮಗೆ ಒ...</td>\n",
       "      <td>Kannada</td>\n",
       "    </tr>\n",
       "    <tr>\n",
       "      <th>10333</th>\n",
       "      <td>ನಾರ್ಸಿಸಾ ತಾನು ಮೊದಲಿಗೆ ಹೆಣಗಾಡುತ್ತಿದ್ದ ಮಾರ್ಗಗಳನ್...</td>\n",
       "      <td>Kannada</td>\n",
       "    </tr>\n",
       "    <tr>\n",
       "      <th>10334</th>\n",
       "      <td>ಹೇಗೆ ' ನಾರ್ಸಿಸಿಸಮ್ ಈಗ ಮರಿಯನ್ ಅವರಿಗೆ ಸಂಭವಿಸಿದ ಎ...</td>\n",
       "      <td>Kannada</td>\n",
       "    </tr>\n",
       "    <tr>\n",
       "      <th>10335</th>\n",
       "      <td>ಅವಳು ಈಗ ಹೆಚ್ಚು ಚಿನ್ನದ ಬ್ರೆಡ್ ಬಯಸುವುದಿಲ್ಲ ಎಂದು ...</td>\n",
       "      <td>Kannada</td>\n",
       "    </tr>\n",
       "    <tr>\n",
       "      <th>10336</th>\n",
       "      <td>ಟೆರ್ರಿ ನೀವು ನಿಜವಾಗಿಯೂ ಆ ದೇವದೂತನಂತೆ ಸ್ವಲ್ಪ ಕಾಣು...</td>\n",
       "      <td>Kannada</td>\n",
       "    </tr>\n",
       "  </tbody>\n",
       "</table>\n",
       "<p>10337 rows × 2 columns</p>\n",
       "</div>"
      ],
      "text/plain": [
       "                                                    Text Language\n",
       "0       Nature, in the broadest sense, is the natural...  English\n",
       "1      \"Nature\" can refer to the phenomena of the phy...  English\n",
       "2      The study of nature is a large, if not the onl...  English\n",
       "3      Although humans are part of nature, human acti...  English\n",
       "4      [1] The word nature is borrowed from the Old F...  English\n",
       "...                                                  ...      ...\n",
       "10332  ನಿಮ್ಮ ತಪ್ಪು ಏನು ಬಂದಿದೆಯೆಂದರೆ ಆ ದಿನದಿಂದ ನಿಮಗೆ ಒ...  Kannada\n",
       "10333  ನಾರ್ಸಿಸಾ ತಾನು ಮೊದಲಿಗೆ ಹೆಣಗಾಡುತ್ತಿದ್ದ ಮಾರ್ಗಗಳನ್...  Kannada\n",
       "10334  ಹೇಗೆ ' ನಾರ್ಸಿಸಿಸಮ್ ಈಗ ಮರಿಯನ್ ಅವರಿಗೆ ಸಂಭವಿಸಿದ ಎ...  Kannada\n",
       "10335  ಅವಳು ಈಗ ಹೆಚ್ಚು ಚಿನ್ನದ ಬ್ರೆಡ್ ಬಯಸುವುದಿಲ್ಲ ಎಂದು ...  Kannada\n",
       "10336  ಟೆರ್ರಿ ನೀವು ನಿಜವಾಗಿಯೂ ಆ ದೇವದೂತನಂತೆ ಸ್ವಲ್ಪ ಕಾಣು...  Kannada\n",
       "\n",
       "[10337 rows x 2 columns]"
      ]
     },
     "execution_count": 3,
     "metadata": {},
     "output_type": "execute_result"
    }
   ],
   "source": [
    "df"
   ]
  },
  {
   "cell_type": "code",
   "execution_count": 4,
   "id": "0e2f6b5b",
   "metadata": {},
   "outputs": [
    {
     "data": {
      "text/plain": [
       "'!\"#$%&\\'()*+,-./:;<=>?@[\\\\]^_`{|}~'"
      ]
     },
     "execution_count": 4,
     "metadata": {},
     "output_type": "execute_result"
    }
   ],
   "source": [
    "string.punctuation"
   ]
  },
  {
   "cell_type": "code",
   "execution_count": 5,
   "id": "b76833b7",
   "metadata": {},
   "outputs": [],
   "source": [
    "def remove_pun(text):\n",
    "    for pun in string.punctuation:\n",
    "        text=text.replace(pun,\"\")\n",
    "    text=text.lower()\n",
    "    return(text)"
   ]
  },
  {
   "cell_type": "code",
   "execution_count": 6,
   "id": "9a8b27ea",
   "metadata": {},
   "outputs": [
    {
     "data": {
      "text/plain": [
       "0         nature in the broadest sense is the natural p...\n",
       "1        nature can refer to the phenomena of the physi...\n",
       "2        the study of nature is a large if not the only...\n",
       "3        although humans are part of nature human activ...\n",
       "4        1 the word nature is borrowed from the old fre...\n",
       "                               ...                        \n",
       "10332    ನಿಮ್ಮ ತಪ್ಪು ಏನು ಬಂದಿದೆಯೆಂದರೆ ಆ ದಿನದಿಂದ ನಿಮಗೆ ಒ...\n",
       "10333    ನಾರ್ಸಿಸಾ ತಾನು ಮೊದಲಿಗೆ ಹೆಣಗಾಡುತ್ತಿದ್ದ ಮಾರ್ಗಗಳನ್...\n",
       "10334    ಹೇಗೆ  ನಾರ್ಸಿಸಿಸಮ್ ಈಗ ಮರಿಯನ್ ಅವರಿಗೆ ಸಂಭವಿಸಿದ ಎಲ...\n",
       "10335    ಅವಳು ಈಗ ಹೆಚ್ಚು ಚಿನ್ನದ ಬ್ರೆಡ್ ಬಯಸುವುದಿಲ್ಲ ಎಂದು ...\n",
       "10336    ಟೆರ್ರಿ ನೀವು ನಿಜವಾಗಿಯೂ ಆ ದೇವದೂತನಂತೆ ಸ್ವಲ್ಪ ಕಾಣು...\n",
       "Name: Text, Length: 10337, dtype: object"
      ]
     },
     "execution_count": 6,
     "metadata": {},
     "output_type": "execute_result"
    }
   ],
   "source": [
    "df['Text'].apply(remove_pun)"
   ]
  },
  {
   "cell_type": "code",
   "execution_count": 7,
   "id": "232fc6f0",
   "metadata": {},
   "outputs": [],
   "source": [
    "df['Text']=df['Text'].apply(remove_pun)"
   ]
  },
  {
   "cell_type": "code",
   "execution_count": 8,
   "id": "fede77d9",
   "metadata": {},
   "outputs": [
    {
     "data": {
      "text/html": [
       "<div>\n",
       "<style scoped>\n",
       "    .dataframe tbody tr th:only-of-type {\n",
       "        vertical-align: middle;\n",
       "    }\n",
       "\n",
       "    .dataframe tbody tr th {\n",
       "        vertical-align: top;\n",
       "    }\n",
       "\n",
       "    .dataframe thead th {\n",
       "        text-align: right;\n",
       "    }\n",
       "</style>\n",
       "<table border=\"1\" class=\"dataframe\">\n",
       "  <thead>\n",
       "    <tr style=\"text-align: right;\">\n",
       "      <th></th>\n",
       "      <th>Text</th>\n",
       "      <th>Language</th>\n",
       "    </tr>\n",
       "  </thead>\n",
       "  <tbody>\n",
       "    <tr>\n",
       "      <th>0</th>\n",
       "      <td>nature in the broadest sense is the natural p...</td>\n",
       "      <td>English</td>\n",
       "    </tr>\n",
       "    <tr>\n",
       "      <th>1</th>\n",
       "      <td>nature can refer to the phenomena of the physi...</td>\n",
       "      <td>English</td>\n",
       "    </tr>\n",
       "    <tr>\n",
       "      <th>2</th>\n",
       "      <td>the study of nature is a large if not the only...</td>\n",
       "      <td>English</td>\n",
       "    </tr>\n",
       "    <tr>\n",
       "      <th>3</th>\n",
       "      <td>although humans are part of nature human activ...</td>\n",
       "      <td>English</td>\n",
       "    </tr>\n",
       "    <tr>\n",
       "      <th>4</th>\n",
       "      <td>1 the word nature is borrowed from the old fre...</td>\n",
       "      <td>English</td>\n",
       "    </tr>\n",
       "  </tbody>\n",
       "</table>\n",
       "</div>"
      ],
      "text/plain": [
       "                                                Text Language\n",
       "0   nature in the broadest sense is the natural p...  English\n",
       "1  nature can refer to the phenomena of the physi...  English\n",
       "2  the study of nature is a large if not the only...  English\n",
       "3  although humans are part of nature human activ...  English\n",
       "4  1 the word nature is borrowed from the old fre...  English"
      ]
     },
     "execution_count": 8,
     "metadata": {},
     "output_type": "execute_result"
    }
   ],
   "source": [
    "df.head()"
   ]
  },
  {
   "cell_type": "code",
   "execution_count": 9,
   "id": "91c873a9",
   "metadata": {},
   "outputs": [],
   "source": [
    "from sklearn.model_selection import train_test_split"
   ]
  },
  {
   "cell_type": "code",
   "execution_count": 10,
   "id": "802a900c",
   "metadata": {},
   "outputs": [],
   "source": [
    "X=df.iloc[:,0]\n",
    "Y=df.iloc[:,1]"
   ]
  },
  {
   "cell_type": "code",
   "execution_count": 11,
   "id": "d6bf56a7",
   "metadata": {},
   "outputs": [
    {
     "data": {
      "text/plain": [
       "0         nature in the broadest sense is the natural p...\n",
       "1        nature can refer to the phenomena of the physi...\n",
       "2        the study of nature is a large if not the only...\n",
       "3        although humans are part of nature human activ...\n",
       "4        1 the word nature is borrowed from the old fre...\n",
       "                               ...                        \n",
       "10332    ನಿಮ್ಮ ತಪ್ಪು ಏನು ಬಂದಿದೆಯೆಂದರೆ ಆ ದಿನದಿಂದ ನಿಮಗೆ ಒ...\n",
       "10333    ನಾರ್ಸಿಸಾ ತಾನು ಮೊದಲಿಗೆ ಹೆಣಗಾಡುತ್ತಿದ್ದ ಮಾರ್ಗಗಳನ್...\n",
       "10334    ಹೇಗೆ  ನಾರ್ಸಿಸಿಸಮ್ ಈಗ ಮರಿಯನ್ ಅವರಿಗೆ ಸಂಭವಿಸಿದ ಎಲ...\n",
       "10335    ಅವಳು ಈಗ ಹೆಚ್ಚು ಚಿನ್ನದ ಬ್ರೆಡ್ ಬಯಸುವುದಿಲ್ಲ ಎಂದು ...\n",
       "10336    ಟೆರ್ರಿ ನೀವು ನಿಜವಾಗಿಯೂ ಆ ದೇವದೂತನಂತೆ ಸ್ವಲ್ಪ ಕಾಣು...\n",
       "Name: Text, Length: 10337, dtype: object"
      ]
     },
     "execution_count": 11,
     "metadata": {},
     "output_type": "execute_result"
    }
   ],
   "source": [
    "X"
   ]
  },
  {
   "cell_type": "code",
   "execution_count": 12,
   "id": "bd45a026",
   "metadata": {},
   "outputs": [
    {
     "data": {
      "text/plain": [
       "0        English\n",
       "1        English\n",
       "2        English\n",
       "3        English\n",
       "4        English\n",
       "          ...   \n",
       "10332    Kannada\n",
       "10333    Kannada\n",
       "10334    Kannada\n",
       "10335    Kannada\n",
       "10336    Kannada\n",
       "Name: Language, Length: 10337, dtype: object"
      ]
     },
     "execution_count": 12,
     "metadata": {},
     "output_type": "execute_result"
    }
   ],
   "source": [
    "Y"
   ]
  },
  {
   "cell_type": "code",
   "execution_count": 13,
   "id": "d7ecb449",
   "metadata": {},
   "outputs": [
    {
     "data": {
      "text/plain": [
       "[3775    la turquie était le seul pays avec la chine où...\n",
       " 1665           ഞാൻ നിങ്ങളെ ഓർമ്മിപ്പിക്കാൻ ആഗ്രഹിക്കുന്നു\n",
       " 4175                                 jai peur de le faire\n",
       " 8253    zavallı nergis annenin kızı ve nasıl olduğu ha...\n",
       " 8655    idag kunde jag göra med en energidryck andra o...\n",
       "                               ...                        \n",
       " 4295    5 in 1960 begon ted nelson met zijn project xa...\n",
       " 4292    onder andere de bibliograaf paul otlet bedenke...\n",
       " 6672    тебе придется все это съесть я думал тебе нрав...\n",
       " 6137    модель википедии позволяет редактировать её ст...\n",
       " 7228    molto più semplice dellhtml il software mediaw...\n",
       " Name: Text, Length: 8269, dtype: object,\n",
       " 6770    nummer tre er suave suave suave betyder at vær...\n",
       " 393     108 the projects preference for cohesiveness e...\n",
       " 7547    grazie in anticipo se qualcuno ha commesso un ...\n",
       " 106     other lakes are found in endorheic basins or a...\n",
       " 7960    ama hayır bir düzeltme sorunlu bir durumda olm...\n",
       "                               ...                        \n",
       " 9010    يمثل هذا زيادة كبيرة عن يناير 2006، عندما كانت...\n",
       " 5859                                  να κρατήσουμε επαφή\n",
       " 2654    91 a wikipédia não exige que seus usuários for...\n",
       " 5219    por ejemplo no se podrán clasificar todos aque...\n",
       " 4724                                      mensen bedanken\n",
       " Name: Text, Length: 2068, dtype: object,\n",
       " 3775       French\n",
       " 1665    Malayalam\n",
       " 4175       French\n",
       " 8253      Turkish\n",
       " 8655     Sweedish\n",
       "           ...    \n",
       " 4295        Dutch\n",
       " 4292        Dutch\n",
       " 6672      Russian\n",
       " 6137      Russian\n",
       " 7228      Italian\n",
       " Name: Language, Length: 8269, dtype: object,\n",
       " 6770        Danish\n",
       " 393        English\n",
       " 7547       Italian\n",
       " 106        English\n",
       " 7960       Turkish\n",
       "            ...    \n",
       " 9010        Arabic\n",
       " 5859         Greek\n",
       " 2654    Portugeese\n",
       " 5219       Spanish\n",
       " 4724         Dutch\n",
       " Name: Language, Length: 2068, dtype: object]"
      ]
     },
     "execution_count": 13,
     "metadata": {},
     "output_type": "execute_result"
    }
   ],
   "source": [
    "train_test_split(X,Y,test_size=.2)"
   ]
  },
  {
   "cell_type": "code",
   "execution_count": 14,
   "id": "754083b2",
   "metadata": {},
   "outputs": [],
   "source": [
    "X_train,X_test,Y_train,Y_test=train_test_split(X,Y,test_size=.2)"
   ]
  },
  {
   "cell_type": "code",
   "execution_count": 15,
   "id": "d7f2a709",
   "metadata": {},
   "outputs": [
    {
     "data": {
      "text/plain": [
       "3743    la plupart des citations appuie une définition...\n",
       "3227    eu sou terrence o anjo da boa fortuna o nome e...\n",
       "5292    te doy ese consejo secreto para que suene muy ...\n",
       "9448    حسنًا ، إذا كنت تريد المزيد من الدروس حول الجم...\n",
       "3427    soit la culture est ce qui donne un sens à nat...\n",
       "                              ...                        \n",
       "3078    neste vídeo apresentarei 100 frases comuns e m...\n",
       "1403    ജനകീയ പങ്കാളിത്തത്തിലൂടെ മാതൃവെബ്‌സൈറ്റിനെക്കാ...\n",
       "7195    sebbene tutti i testi siano disponibili sotto ...\n",
       "8179                                     hayır sanmıyorum\n",
       "4055    je veux continuer je ne suis pas fatigué de ne...\n",
       "Name: Text, Length: 8269, dtype: object"
      ]
     },
     "execution_count": 15,
     "metadata": {},
     "output_type": "execute_result"
    }
   ],
   "source": [
    "X_train"
   ]
  },
  {
   "cell_type": "code",
   "execution_count": 16,
   "id": "46e76430",
   "metadata": {},
   "outputs": [],
   "source": [
    "from sklearn import feature_extraction"
   ]
  },
  {
   "cell_type": "code",
   "execution_count": 17,
   "id": "64f16981",
   "metadata": {},
   "outputs": [],
   "source": [
    "vec = feature_extraction.text.TfidfVectorizer(ngram_range=(1,2),analyzer='char')"
   ]
  },
  {
   "cell_type": "code",
   "execution_count": 18,
   "id": "88eb3d22",
   "metadata": {},
   "outputs": [],
   "source": [
    "from sklearn import pipeline\n",
    "from sklearn import linear_model"
   ]
  },
  {
   "cell_type": "code",
   "execution_count": 19,
   "id": "1bd88ce1",
   "metadata": {},
   "outputs": [
    {
     "data": {
      "text/plain": [
       "(Pipeline(steps=[('vec', TfidfVectorizer(analyzer='char', ngram_range=(1, 2))),\n",
       "                 ('clf', LogisticRegression())]),)"
      ]
     },
     "execution_count": 19,
     "metadata": {},
     "output_type": "execute_result"
    }
   ],
   "source": [
    "pipeline.Pipeline([('vec',vec),('clf',linear_model.LogisticRegression())]),"
   ]
  },
  {
   "cell_type": "code",
   "execution_count": 20,
   "id": "34bf7ab2",
   "metadata": {},
   "outputs": [],
   "source": [
    "model_pipe=pipeline.Pipeline([('vec',vec),('clf',linear_model.LogisticRegression())])"
   ]
  },
  {
   "cell_type": "code",
   "execution_count": 21,
   "id": "90f3618a",
   "metadata": {},
   "outputs": [
    {
     "data": {
      "text/plain": [
       "Pipeline(steps=[('vec', TfidfVectorizer(analyzer='char', ngram_range=(1, 2))),\n",
       "                ('clf', LogisticRegression())])"
      ]
     },
     "execution_count": 21,
     "metadata": {},
     "output_type": "execute_result"
    }
   ],
   "source": [
    "model_pipe.fit(X_train,Y_train)"
   ]
  },
  {
   "cell_type": "code",
   "execution_count": 22,
   "id": "5b104547",
   "metadata": {},
   "outputs": [
    {
     "data": {
      "text/plain": [
       "array(['Arabic', 'Danish', 'Dutch', 'English', 'French', 'German',\n",
       "       'Greek', 'Hindi', 'Italian', 'Kannada', 'Malayalam', 'Portugeese',\n",
       "       'Russian', 'Spanish', 'Sweedish', 'Tamil', 'Turkish'], dtype=object)"
      ]
     },
     "execution_count": 22,
     "metadata": {},
     "output_type": "execute_result"
    }
   ],
   "source": [
    "model_pipe.classes_"
   ]
  },
  {
   "cell_type": "code",
   "execution_count": 23,
   "id": "8461e6d0",
   "metadata": {},
   "outputs": [
    {
     "data": {
      "text/plain": [
       "array(['French', 'English', 'Kannada', ..., 'Malayalam', 'Malayalam',\n",
       "       'Italian'], dtype=object)"
      ]
     },
     "execution_count": 23,
     "metadata": {},
     "output_type": "execute_result"
    }
   ],
   "source": [
    "model_pipe.predict(X_test)"
   ]
  },
  {
   "cell_type": "code",
   "execution_count": 24,
   "id": "83a819de",
   "metadata": {},
   "outputs": [],
   "source": [
    "predict_val=model_pipe.predict(X_test)"
   ]
  },
  {
   "cell_type": "code",
   "execution_count": 25,
   "id": "28c3211b",
   "metadata": {},
   "outputs": [],
   "source": [
    "from sklearn import metrics"
   ]
  },
  {
   "cell_type": "code",
   "execution_count": 26,
   "id": "ac49c67d",
   "metadata": {},
   "outputs": [
    {
     "data": {
      "text/plain": [
       "0.9714700193423598"
      ]
     },
     "execution_count": 26,
     "metadata": {},
     "output_type": "execute_result"
    }
   ],
   "source": [
    "metrics.accuracy_score(Y_test,predict_val)"
   ]
  },
  {
   "cell_type": "code",
   "execution_count": 27,
   "id": "533e174a",
   "metadata": {},
   "outputs": [
    {
     "data": {
      "text/plain": [
       "97.14700193423597"
      ]
     },
     "execution_count": 27,
     "metadata": {},
     "output_type": "execute_result"
    }
   ],
   "source": [
    "metrics.accuracy_score(Y_test,predict_val)*100"
   ]
  },
  {
   "cell_type": "code",
   "execution_count": 28,
   "id": "fa092829",
   "metadata": {},
   "outputs": [
    {
     "data": {
      "text/plain": [
       "array([[102,   0,   0,   0,   0,   0,   0,   0,   0,   0,   0,   0,   0,\n",
       "          0,   0,   0,   0],\n",
       "       [  0,  74,   2,   1,   1,   0,   0,   0,   0,   0,   0,   1,   0,\n",
       "          2,   2,   0,   0],\n",
       "       [  0,   0,  96,   2,   2,   1,   0,   0,   0,   0,   0,   1,   0,\n",
       "          0,   0,   0,   0],\n",
       "       [  0,   0,   0, 275,   1,   0,   0,   0,   1,   0,   0,   0,   0,\n",
       "          0,   0,   0,   0],\n",
       "       [  0,   0,   0,   1, 204,   0,   0,   0,   1,   0,   0,   1,   0,\n",
       "          0,   0,   0,   0],\n",
       "       [  0,   0,   1,   1,   0,  95,   0,   0,   0,   0,   0,   0,   0,\n",
       "          0,   1,   0,   1],\n",
       "       [  0,   0,   0,   0,   0,   0,  79,   0,   0,   0,   0,   0,   0,\n",
       "          0,   0,   0,   0],\n",
       "       [  0,   0,   0,   0,   0,   0,   0,  12,   0,   0,   0,   0,   0,\n",
       "          0,   0,   0,   0],\n",
       "       [  0,   0,   0,   0,   3,   1,   0,   0, 127,   0,   0,   0,   0,\n",
       "          5,   0,   0,   0],\n",
       "       [  0,   0,   0,   0,   0,   0,   0,   0,   0,  68,   0,   0,   0,\n",
       "          0,   0,   0,   0],\n",
       "       [  0,   0,   0,   0,   0,   0,   0,   0,   0,   0, 113,   0,   0,\n",
       "          0,   0,   0,   0],\n",
       "       [  0,   0,   0,   2,   2,   1,   0,   0,   2,   0,   0, 141,   0,\n",
       "          1,   0,   0,   0],\n",
       "       [  0,   0,   0,   0,   0,   0,   0,   0,   0,   0,   0,   0, 151,\n",
       "          0,   0,   0,   0],\n",
       "       [  0,   0,   0,   0,   1,   0,   0,   0,   6,   0,   0,   0,   0,\n",
       "        160,   0,   0,   0],\n",
       "       [  0,   4,   0,   3,   1,   0,   0,   0,   0,   0,   0,   0,   0,\n",
       "          0, 147,   0,   0],\n",
       "       [  0,   0,   0,   0,   0,   0,   0,   0,   0,   0,   0,   0,   0,\n",
       "          0,   0,  75,   0],\n",
       "       [  0,   0,   0,   1,   0,   0,   0,   0,   1,   0,   0,   0,   0,\n",
       "          0,   1,   0,  90]], dtype=int64)"
      ]
     },
     "execution_count": 28,
     "metadata": {},
     "output_type": "execute_result"
    }
   ],
   "source": [
    "metrics.confusion_matrix(Y_test,predict_val)"
   ]
  },
  {
   "cell_type": "code",
   "execution_count": 40,
   "id": "55ea3269",
   "metadata": {},
   "outputs": [
    {
     "data": {
      "text/plain": [
       "array(['English'], dtype=object)"
      ]
     },
     "execution_count": 40,
     "metadata": {},
     "output_type": "execute_result"
    }
   ],
   "source": [
    "model_pipe.predict(['my name is Neha'])"
   ]
  },
  {
   "cell_type": "code",
   "execution_count": 33,
   "id": "53039815",
   "metadata": {},
   "outputs": [
    {
     "data": {
      "text/plain": [
       "array(['English'], dtype=object)"
      ]
     },
     "execution_count": 33,
     "metadata": {},
     "output_type": "execute_result"
    }
   ],
   "source": [
    "model_pipe.predict(['how are you'])"
   ]
  },
  {
   "cell_type": "code",
   "execution_count": 34,
   "id": "29abd6e9",
   "metadata": {},
   "outputs": [
    {
     "data": {
      "text/plain": [
       "array(['Hindi'], dtype=object)"
      ]
     },
     "execution_count": 34,
     "metadata": {},
     "output_type": "execute_result"
    }
   ],
   "source": [
    "model_pipe.predict(['आप कैसे हैं'])"
   ]
  },
  {
   "cell_type": "code",
   "execution_count": 36,
   "id": "51665f0a",
   "metadata": {},
   "outputs": [
    {
     "data": {
      "text/plain": [
       "array(['Kannada'], dtype=object)"
      ]
     },
     "execution_count": 36,
     "metadata": {},
     "output_type": "execute_result"
    }
   ],
   "source": [
    "model_pipe.predict(['ನೀವು ಹೇಗಿದ್ದೀರಿ'])"
   ]
  },
  {
   "cell_type": "code",
   "execution_count": 37,
   "id": "eb240541",
   "metadata": {},
   "outputs": [
    {
     "data": {
      "text/plain": [
       "array(['Tamil'], dtype=object)"
      ]
     },
     "execution_count": 37,
     "metadata": {},
     "output_type": "execute_result"
    }
   ],
   "source": [
    "model_pipe.predict(['எப்படி இருக்கிறீர்கள்'])"
   ]
  },
  {
   "cell_type": "code",
   "execution_count": 46,
   "id": "bcde1535",
   "metadata": {},
   "outputs": [],
   "source": [
    "import pickle"
   ]
  },
  {
   "cell_type": "code",
   "execution_count": 47,
   "id": "a91c541b",
   "metadata": {},
   "outputs": [],
   "source": [
    "new_file=open('model.pckl','wb')\n",
    "pickle.dump(model_pipe,new_file)\n",
    "new_file.close()"
   ]
  },
  {
   "cell_type": "code",
   "execution_count": 48,
   "id": "4bcbeda3",
   "metadata": {},
   "outputs": [],
   "source": [
    "import os"
   ]
  },
  {
   "cell_type": "code",
   "execution_count": null,
   "id": "511fc4e8",
   "metadata": {},
   "outputs": [],
   "source": []
  }
 ],
 "metadata": {
  "kernelspec": {
   "display_name": "Python 3",
   "language": "python",
   "name": "python3"
  },
  "language_info": {
   "codemirror_mode": {
    "name": "ipython",
    "version": 3
   },
   "file_extension": ".py",
   "mimetype": "text/x-python",
   "name": "python",
   "nbconvert_exporter": "python",
   "pygments_lexer": "ipython3",
   "version": "3.6.13"
  }
 },
 "nbformat": 4,
 "nbformat_minor": 5
}
